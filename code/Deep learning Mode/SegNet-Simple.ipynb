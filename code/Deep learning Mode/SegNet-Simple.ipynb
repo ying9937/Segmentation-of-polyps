{
 "cells": [
  {
   "cell_type": "code",
   "execution_count": 1,
   "id": "8501b48a-6620-4418-b253-47be103b3036",
   "metadata": {},
   "outputs": [],
   "source": [
    "#SegNet\n",
    "#SegNet\n",
    "#SegNet"
   ]
  },
  {
   "cell_type": "code",
   "execution_count": 4,
   "id": "bfe28cb2-11ca-4a2a-acfe-dd41675eef30",
   "metadata": {},
   "outputs": [],
   "source": [
    "import numpy as np\n",
    "from keras.models import save_model, load_model, Model\n",
    "from keras.layers import Input, Dropout, BatchNormalization, LeakyReLU, concatenate\n",
    "from keras.layers import Conv2D, MaxPooling2D, AveragePooling2D, Conv2DTranspose\n",
    "import h5py \n",
    "import cv2\n",
    "import matplotlib.pyplot as plt\n",
    "import matplotlib.image as mpimg\n",
    "import keras\n",
    "import tensorflow as tf\n",
    "from keras.models import Model\n",
    "from keras.layers import Input, Conv2D, MaxPooling2D, Dropout, Conv2DTranspose, Add\n",
    "from keras.applications import VGG16\n",
    "from keras import layers, models"
   ]
  },
  {
   "cell_type": "code",
   "execution_count": null,
   "id": "579ec2b1-c03d-415e-aed2-f607005eff70",
   "metadata": {},
   "outputs": [],
   "source": []
  },
  {
   "cell_type": "code",
   "execution_count": 3,
   "id": "58fbc873-9228-4c96-aea1-5f6c11ce0247",
   "metadata": {},
   "outputs": [],
   "source": [
    "fh5 = h5py.File(r'../data/PolypGen+CVCtrain_imgandmasks.h5','r')\n",
    "img_png_x = fh5['img']\n",
    "img_png_x = np.array(img_png_x)\n",
    "mask_x = fh5['masks']\n",
    "mask_x = np.array(mask_x)"
   ]
  },
  {
   "cell_type": "code",
   "execution_count": 10,
   "id": "2808ee14-53ae-4180-af4f-c3b0511bc787",
   "metadata": {},
   "outputs": [
    {
     "data": {
      "text/plain": [
       "(2987, 288, 384, 1)"
      ]
     },
     "execution_count": 10,
     "metadata": {},
     "output_type": "execute_result"
    }
   ],
   "source": [
    "mask_x  = mask_x .reshape(len(mask_x), 288, 384, 1)\n",
    "mask_x = mask_x/255\n",
    "mask_x .shape"
   ]
  },
  {
   "cell_type": "code",
   "execution_count": 11,
   "id": "15a2f015-db0e-45de-a42c-a10c6380e670",
   "metadata": {},
   "outputs": [
    {
     "data": {
      "text/plain": [
       "1.0"
      ]
     },
     "execution_count": 11,
     "metadata": {},
     "output_type": "execute_result"
    }
   ],
   "source": [
    "img_png_x.max()"
   ]
  },
  {
   "cell_type": "code",
   "execution_count": 12,
   "id": "19c3920c-f82b-4845-9cad-46aedfbeced1",
   "metadata": {},
   "outputs": [
    {
     "data": {
      "text/plain": [
       "1.0"
      ]
     },
     "execution_count": 12,
     "metadata": {},
     "output_type": "execute_result"
    }
   ],
   "source": [
    "mask_x.max()"
   ]
  },
  {
   "cell_type": "code",
   "execution_count": null,
   "id": "bd4c4be2-686a-4efb-af3a-7e987ade0f5a",
   "metadata": {},
   "outputs": [],
   "source": []
  },
  {
   "cell_type": "code",
   "execution_count": 13,
   "id": "40cb7b8d-5959-4298-8fe8-411c21a6a238",
   "metadata": {},
   "outputs": [],
   "source": [
    "# -----------------------------------------------------------------\n",
    "# 从txt文件读取并恢复为NumPy数组\n",
    "# -----------------------------------------------------------------\n",
    "# 读取训练集\n",
    "# Train = np.loadtxt('E:\\wujieyu\\img train PolypGen+CVC\\Train.txt', dtype=int)\n",
    "Train = np.loadtxt('../Train.txt', dtype=int)\n",
    "# 读取验证集\n",
    "# Val = np.loadtxt('E:\\wujieyu\\img train PolypGen+CVC\\Val.txt', dtype=int)\n",
    "Val = np.loadtxt('../Val.txt', dtype=int)"
   ]
  },
  {
   "cell_type": "code",
   "execution_count": 14,
   "id": "b2d145b4-176a-4540-bf1c-fc3c4b23e71e",
   "metadata": {},
   "outputs": [],
   "source": [
    "# -----------------------------------------------------------------\n",
    "# 按索引划分图像数据\n",
    "# -----------------------------------------------------------------\n",
    "# 划分训练集（T_img_png_x）和验证集（V_img）\n",
    "T_img = img_png_x[Train]\n",
    "V_img = img_png_x[Val]\n",
    "T_mask = mask_x[Train]\n",
    "V_mask = mask_x[Val]"
   ]
  },
  {
   "cell_type": "code",
   "execution_count": 15,
   "id": "c902a131-d815-4a02-95b5-c0ba75bfcba7",
   "metadata": {},
   "outputs": [
    {
     "name": "stdout",
     "output_type": "stream",
     "text": [
      "(2390, 288, 384, 3) (597, 288, 384, 3) (2390, 288, 384, 1) (597, 288, 384, 1)\n"
     ]
    }
   ],
   "source": [
    "print(  T_img.shape,\n",
    "        V_img.shape,\n",
    "        T_mask.shape,\n",
    "        V_mask.shape)"
   ]
  },
  {
   "cell_type": "code",
   "execution_count": null,
   "id": "2808bcd3-087d-4631-b7f9-968e5b1cf3dd",
   "metadata": {},
   "outputs": [],
   "source": []
  },
  {
   "cell_type": "code",
   "execution_count": 5,
   "id": "f1341a19-cdf9-44d5-8164-adbe27b61b05",
   "metadata": {},
   "outputs": [
    {
     "name": "stderr",
     "output_type": "stream",
     "text": [
      "2025-08-26 22:35:22.619269: I tensorflow/core/common_runtime/gpu/gpu_device.cc:2021] Created device /job:localhost/replica:0/task:0/device:GPU:0 with 79181 MB memory:  -> device: 0, name: NVIDIA A800 80GB PCIe, pci bus id: 0000:98:00.0, compute capability: 8.0\n"
     ]
    },
    {
     "data": {
      "text/html": [
       "<pre style=\"white-space:pre;overflow-x:auto;line-height:normal;font-family:Menlo,'DejaVu Sans Mono',consolas,'Courier New',monospace\"><span style=\"font-weight: bold\">Model: \"functional\"</span>\n",
       "</pre>\n"
      ],
      "text/plain": [
       "\u001b[1mModel: \"functional\"\u001b[0m\n"
      ]
     },
     "metadata": {},
     "output_type": "display_data"
    },
    {
     "data": {
      "text/html": [
       "<pre style=\"white-space:pre;overflow-x:auto;line-height:normal;font-family:Menlo,'DejaVu Sans Mono',consolas,'Courier New',monospace\">┏━━━━━━━━━━━━━━━━━━━━━━━━━━━━━━━━━┳━━━━━━━━━━━━━━━━━━━━━━━━┳━━━━━━━━━━━━━━━┓\n",
       "┃<span style=\"font-weight: bold\"> Layer (type)                    </span>┃<span style=\"font-weight: bold\"> Output Shape           </span>┃<span style=\"font-weight: bold\">       Param # </span>┃\n",
       "┡━━━━━━━━━━━━━━━━━━━━━━━━━━━━━━━━━╇━━━━━━━━━━━━━━━━━━━━━━━━╇━━━━━━━━━━━━━━━┩\n",
       "│ input_layer (<span style=\"color: #0087ff; text-decoration-color: #0087ff\">InputLayer</span>)        │ (<span style=\"color: #00d7ff; text-decoration-color: #00d7ff\">None</span>, <span style=\"color: #00af00; text-decoration-color: #00af00\">288</span>, <span style=\"color: #00af00; text-decoration-color: #00af00\">384</span>, <span style=\"color: #00af00; text-decoration-color: #00af00\">3</span>)    │             <span style=\"color: #00af00; text-decoration-color: #00af00\">0</span> │\n",
       "├─────────────────────────────────┼────────────────────────┼───────────────┤\n",
       "│ conv2d (<span style=\"color: #0087ff; text-decoration-color: #0087ff\">Conv2D</span>)                 │ (<span style=\"color: #00d7ff; text-decoration-color: #00d7ff\">None</span>, <span style=\"color: #00af00; text-decoration-color: #00af00\">288</span>, <span style=\"color: #00af00; text-decoration-color: #00af00\">384</span>, <span style=\"color: #00af00; text-decoration-color: #00af00\">64</span>)   │         <span style=\"color: #00af00; text-decoration-color: #00af00\">1,792</span> │\n",
       "├─────────────────────────────────┼────────────────────────┼───────────────┤\n",
       "│ conv2d_1 (<span style=\"color: #0087ff; text-decoration-color: #0087ff\">Conv2D</span>)               │ (<span style=\"color: #00d7ff; text-decoration-color: #00d7ff\">None</span>, <span style=\"color: #00af00; text-decoration-color: #00af00\">288</span>, <span style=\"color: #00af00; text-decoration-color: #00af00\">384</span>, <span style=\"color: #00af00; text-decoration-color: #00af00\">64</span>)   │        <span style=\"color: #00af00; text-decoration-color: #00af00\">36,928</span> │\n",
       "├─────────────────────────────────┼────────────────────────┼───────────────┤\n",
       "│ max_pooling2d (<span style=\"color: #0087ff; text-decoration-color: #0087ff\">MaxPooling2D</span>)    │ (<span style=\"color: #00d7ff; text-decoration-color: #00d7ff\">None</span>, <span style=\"color: #00af00; text-decoration-color: #00af00\">144</span>, <span style=\"color: #00af00; text-decoration-color: #00af00\">192</span>, <span style=\"color: #00af00; text-decoration-color: #00af00\">64</span>)   │             <span style=\"color: #00af00; text-decoration-color: #00af00\">0</span> │\n",
       "├─────────────────────────────────┼────────────────────────┼───────────────┤\n",
       "│ conv2d_2 (<span style=\"color: #0087ff; text-decoration-color: #0087ff\">Conv2D</span>)               │ (<span style=\"color: #00d7ff; text-decoration-color: #00d7ff\">None</span>, <span style=\"color: #00af00; text-decoration-color: #00af00\">144</span>, <span style=\"color: #00af00; text-decoration-color: #00af00\">192</span>, <span style=\"color: #00af00; text-decoration-color: #00af00\">128</span>)  │        <span style=\"color: #00af00; text-decoration-color: #00af00\">73,856</span> │\n",
       "├─────────────────────────────────┼────────────────────────┼───────────────┤\n",
       "│ conv2d_3 (<span style=\"color: #0087ff; text-decoration-color: #0087ff\">Conv2D</span>)               │ (<span style=\"color: #00d7ff; text-decoration-color: #00d7ff\">None</span>, <span style=\"color: #00af00; text-decoration-color: #00af00\">144</span>, <span style=\"color: #00af00; text-decoration-color: #00af00\">192</span>, <span style=\"color: #00af00; text-decoration-color: #00af00\">128</span>)  │       <span style=\"color: #00af00; text-decoration-color: #00af00\">147,584</span> │\n",
       "├─────────────────────────────────┼────────────────────────┼───────────────┤\n",
       "│ max_pooling2d_1 (<span style=\"color: #0087ff; text-decoration-color: #0087ff\">MaxPooling2D</span>)  │ (<span style=\"color: #00d7ff; text-decoration-color: #00d7ff\">None</span>, <span style=\"color: #00af00; text-decoration-color: #00af00\">72</span>, <span style=\"color: #00af00; text-decoration-color: #00af00\">96</span>, <span style=\"color: #00af00; text-decoration-color: #00af00\">128</span>)    │             <span style=\"color: #00af00; text-decoration-color: #00af00\">0</span> │\n",
       "├─────────────────────────────────┼────────────────────────┼───────────────┤\n",
       "│ conv2d_4 (<span style=\"color: #0087ff; text-decoration-color: #0087ff\">Conv2D</span>)               │ (<span style=\"color: #00d7ff; text-decoration-color: #00d7ff\">None</span>, <span style=\"color: #00af00; text-decoration-color: #00af00\">72</span>, <span style=\"color: #00af00; text-decoration-color: #00af00\">96</span>, <span style=\"color: #00af00; text-decoration-color: #00af00\">256</span>)    │       <span style=\"color: #00af00; text-decoration-color: #00af00\">295,168</span> │\n",
       "├─────────────────────────────────┼────────────────────────┼───────────────┤\n",
       "│ conv2d_5 (<span style=\"color: #0087ff; text-decoration-color: #0087ff\">Conv2D</span>)               │ (<span style=\"color: #00d7ff; text-decoration-color: #00d7ff\">None</span>, <span style=\"color: #00af00; text-decoration-color: #00af00\">72</span>, <span style=\"color: #00af00; text-decoration-color: #00af00\">96</span>, <span style=\"color: #00af00; text-decoration-color: #00af00\">256</span>)    │       <span style=\"color: #00af00; text-decoration-color: #00af00\">590,080</span> │\n",
       "├─────────────────────────────────┼────────────────────────┼───────────────┤\n",
       "│ conv2d_6 (<span style=\"color: #0087ff; text-decoration-color: #0087ff\">Conv2D</span>)               │ (<span style=\"color: #00d7ff; text-decoration-color: #00d7ff\">None</span>, <span style=\"color: #00af00; text-decoration-color: #00af00\">72</span>, <span style=\"color: #00af00; text-decoration-color: #00af00\">96</span>, <span style=\"color: #00af00; text-decoration-color: #00af00\">256</span>)    │       <span style=\"color: #00af00; text-decoration-color: #00af00\">590,080</span> │\n",
       "├─────────────────────────────────┼────────────────────────┼───────────────┤\n",
       "│ max_pooling2d_2 (<span style=\"color: #0087ff; text-decoration-color: #0087ff\">MaxPooling2D</span>)  │ (<span style=\"color: #00d7ff; text-decoration-color: #00d7ff\">None</span>, <span style=\"color: #00af00; text-decoration-color: #00af00\">36</span>, <span style=\"color: #00af00; text-decoration-color: #00af00\">48</span>, <span style=\"color: #00af00; text-decoration-color: #00af00\">256</span>)    │             <span style=\"color: #00af00; text-decoration-color: #00af00\">0</span> │\n",
       "├─────────────────────────────────┼────────────────────────┼───────────────┤\n",
       "│ conv2d_7 (<span style=\"color: #0087ff; text-decoration-color: #0087ff\">Conv2D</span>)               │ (<span style=\"color: #00d7ff; text-decoration-color: #00d7ff\">None</span>, <span style=\"color: #00af00; text-decoration-color: #00af00\">36</span>, <span style=\"color: #00af00; text-decoration-color: #00af00\">48</span>, <span style=\"color: #00af00; text-decoration-color: #00af00\">512</span>)    │     <span style=\"color: #00af00; text-decoration-color: #00af00\">1,180,160</span> │\n",
       "├─────────────────────────────────┼────────────────────────┼───────────────┤\n",
       "│ conv2d_8 (<span style=\"color: #0087ff; text-decoration-color: #0087ff\">Conv2D</span>)               │ (<span style=\"color: #00d7ff; text-decoration-color: #00d7ff\">None</span>, <span style=\"color: #00af00; text-decoration-color: #00af00\">36</span>, <span style=\"color: #00af00; text-decoration-color: #00af00\">48</span>, <span style=\"color: #00af00; text-decoration-color: #00af00\">512</span>)    │     <span style=\"color: #00af00; text-decoration-color: #00af00\">2,359,808</span> │\n",
       "├─────────────────────────────────┼────────────────────────┼───────────────┤\n",
       "│ conv2d_9 (<span style=\"color: #0087ff; text-decoration-color: #0087ff\">Conv2D</span>)               │ (<span style=\"color: #00d7ff; text-decoration-color: #00d7ff\">None</span>, <span style=\"color: #00af00; text-decoration-color: #00af00\">36</span>, <span style=\"color: #00af00; text-decoration-color: #00af00\">48</span>, <span style=\"color: #00af00; text-decoration-color: #00af00\">512</span>)    │     <span style=\"color: #00af00; text-decoration-color: #00af00\">2,359,808</span> │\n",
       "├─────────────────────────────────┼────────────────────────┼───────────────┤\n",
       "│ max_pooling2d_3 (<span style=\"color: #0087ff; text-decoration-color: #0087ff\">MaxPooling2D</span>)  │ (<span style=\"color: #00d7ff; text-decoration-color: #00d7ff\">None</span>, <span style=\"color: #00af00; text-decoration-color: #00af00\">18</span>, <span style=\"color: #00af00; text-decoration-color: #00af00\">24</span>, <span style=\"color: #00af00; text-decoration-color: #00af00\">512</span>)    │             <span style=\"color: #00af00; text-decoration-color: #00af00\">0</span> │\n",
       "├─────────────────────────────────┼────────────────────────┼───────────────┤\n",
       "│ conv2d_10 (<span style=\"color: #0087ff; text-decoration-color: #0087ff\">Conv2D</span>)              │ (<span style=\"color: #00d7ff; text-decoration-color: #00d7ff\">None</span>, <span style=\"color: #00af00; text-decoration-color: #00af00\">18</span>, <span style=\"color: #00af00; text-decoration-color: #00af00\">24</span>, <span style=\"color: #00af00; text-decoration-color: #00af00\">512</span>)    │     <span style=\"color: #00af00; text-decoration-color: #00af00\">2,359,808</span> │\n",
       "├─────────────────────────────────┼────────────────────────┼───────────────┤\n",
       "│ conv2d_11 (<span style=\"color: #0087ff; text-decoration-color: #0087ff\">Conv2D</span>)              │ (<span style=\"color: #00d7ff; text-decoration-color: #00d7ff\">None</span>, <span style=\"color: #00af00; text-decoration-color: #00af00\">18</span>, <span style=\"color: #00af00; text-decoration-color: #00af00\">24</span>, <span style=\"color: #00af00; text-decoration-color: #00af00\">512</span>)    │     <span style=\"color: #00af00; text-decoration-color: #00af00\">2,359,808</span> │\n",
       "├─────────────────────────────────┼────────────────────────┼───────────────┤\n",
       "│ conv2d_12 (<span style=\"color: #0087ff; text-decoration-color: #0087ff\">Conv2D</span>)              │ (<span style=\"color: #00d7ff; text-decoration-color: #00d7ff\">None</span>, <span style=\"color: #00af00; text-decoration-color: #00af00\">18</span>, <span style=\"color: #00af00; text-decoration-color: #00af00\">24</span>, <span style=\"color: #00af00; text-decoration-color: #00af00\">512</span>)    │     <span style=\"color: #00af00; text-decoration-color: #00af00\">2,359,808</span> │\n",
       "├─────────────────────────────────┼────────────────────────┼───────────────┤\n",
       "│ max_pooling2d_4 (<span style=\"color: #0087ff; text-decoration-color: #0087ff\">MaxPooling2D</span>)  │ (<span style=\"color: #00d7ff; text-decoration-color: #00d7ff\">None</span>, <span style=\"color: #00af00; text-decoration-color: #00af00\">9</span>, <span style=\"color: #00af00; text-decoration-color: #00af00\">12</span>, <span style=\"color: #00af00; text-decoration-color: #00af00\">512</span>)     │             <span style=\"color: #00af00; text-decoration-color: #00af00\">0</span> │\n",
       "├─────────────────────────────────┼────────────────────────┼───────────────┤\n",
       "│ up_sampling2d (<span style=\"color: #0087ff; text-decoration-color: #0087ff\">UpSampling2D</span>)    │ (<span style=\"color: #00d7ff; text-decoration-color: #00d7ff\">None</span>, <span style=\"color: #00af00; text-decoration-color: #00af00\">18</span>, <span style=\"color: #00af00; text-decoration-color: #00af00\">24</span>, <span style=\"color: #00af00; text-decoration-color: #00af00\">512</span>)    │             <span style=\"color: #00af00; text-decoration-color: #00af00\">0</span> │\n",
       "├─────────────────────────────────┼────────────────────────┼───────────────┤\n",
       "│ conv2d_13 (<span style=\"color: #0087ff; text-decoration-color: #0087ff\">Conv2D</span>)              │ (<span style=\"color: #00d7ff; text-decoration-color: #00d7ff\">None</span>, <span style=\"color: #00af00; text-decoration-color: #00af00\">18</span>, <span style=\"color: #00af00; text-decoration-color: #00af00\">24</span>, <span style=\"color: #00af00; text-decoration-color: #00af00\">512</span>)    │     <span style=\"color: #00af00; text-decoration-color: #00af00\">2,359,808</span> │\n",
       "├─────────────────────────────────┼────────────────────────┼───────────────┤\n",
       "│ conv2d_14 (<span style=\"color: #0087ff; text-decoration-color: #0087ff\">Conv2D</span>)              │ (<span style=\"color: #00d7ff; text-decoration-color: #00d7ff\">None</span>, <span style=\"color: #00af00; text-decoration-color: #00af00\">18</span>, <span style=\"color: #00af00; text-decoration-color: #00af00\">24</span>, <span style=\"color: #00af00; text-decoration-color: #00af00\">512</span>)    │     <span style=\"color: #00af00; text-decoration-color: #00af00\">2,359,808</span> │\n",
       "├─────────────────────────────────┼────────────────────────┼───────────────┤\n",
       "│ conv2d_15 (<span style=\"color: #0087ff; text-decoration-color: #0087ff\">Conv2D</span>)              │ (<span style=\"color: #00d7ff; text-decoration-color: #00d7ff\">None</span>, <span style=\"color: #00af00; text-decoration-color: #00af00\">18</span>, <span style=\"color: #00af00; text-decoration-color: #00af00\">24</span>, <span style=\"color: #00af00; text-decoration-color: #00af00\">512</span>)    │     <span style=\"color: #00af00; text-decoration-color: #00af00\">2,359,808</span> │\n",
       "├─────────────────────────────────┼────────────────────────┼───────────────┤\n",
       "│ up_sampling2d_1 (<span style=\"color: #0087ff; text-decoration-color: #0087ff\">UpSampling2D</span>)  │ (<span style=\"color: #00d7ff; text-decoration-color: #00d7ff\">None</span>, <span style=\"color: #00af00; text-decoration-color: #00af00\">36</span>, <span style=\"color: #00af00; text-decoration-color: #00af00\">48</span>, <span style=\"color: #00af00; text-decoration-color: #00af00\">512</span>)    │             <span style=\"color: #00af00; text-decoration-color: #00af00\">0</span> │\n",
       "├─────────────────────────────────┼────────────────────────┼───────────────┤\n",
       "│ conv2d_16 (<span style=\"color: #0087ff; text-decoration-color: #0087ff\">Conv2D</span>)              │ (<span style=\"color: #00d7ff; text-decoration-color: #00d7ff\">None</span>, <span style=\"color: #00af00; text-decoration-color: #00af00\">36</span>, <span style=\"color: #00af00; text-decoration-color: #00af00\">48</span>, <span style=\"color: #00af00; text-decoration-color: #00af00\">512</span>)    │     <span style=\"color: #00af00; text-decoration-color: #00af00\">2,359,808</span> │\n",
       "├─────────────────────────────────┼────────────────────────┼───────────────┤\n",
       "│ conv2d_17 (<span style=\"color: #0087ff; text-decoration-color: #0087ff\">Conv2D</span>)              │ (<span style=\"color: #00d7ff; text-decoration-color: #00d7ff\">None</span>, <span style=\"color: #00af00; text-decoration-color: #00af00\">36</span>, <span style=\"color: #00af00; text-decoration-color: #00af00\">48</span>, <span style=\"color: #00af00; text-decoration-color: #00af00\">512</span>)    │     <span style=\"color: #00af00; text-decoration-color: #00af00\">2,359,808</span> │\n",
       "├─────────────────────────────────┼────────────────────────┼───────────────┤\n",
       "│ conv2d_18 (<span style=\"color: #0087ff; text-decoration-color: #0087ff\">Conv2D</span>)              │ (<span style=\"color: #00d7ff; text-decoration-color: #00d7ff\">None</span>, <span style=\"color: #00af00; text-decoration-color: #00af00\">36</span>, <span style=\"color: #00af00; text-decoration-color: #00af00\">48</span>, <span style=\"color: #00af00; text-decoration-color: #00af00\">256</span>)    │     <span style=\"color: #00af00; text-decoration-color: #00af00\">1,179,904</span> │\n",
       "├─────────────────────────────────┼────────────────────────┼───────────────┤\n",
       "│ up_sampling2d_2 (<span style=\"color: #0087ff; text-decoration-color: #0087ff\">UpSampling2D</span>)  │ (<span style=\"color: #00d7ff; text-decoration-color: #00d7ff\">None</span>, <span style=\"color: #00af00; text-decoration-color: #00af00\">72</span>, <span style=\"color: #00af00; text-decoration-color: #00af00\">96</span>, <span style=\"color: #00af00; text-decoration-color: #00af00\">256</span>)    │             <span style=\"color: #00af00; text-decoration-color: #00af00\">0</span> │\n",
       "├─────────────────────────────────┼────────────────────────┼───────────────┤\n",
       "│ conv2d_19 (<span style=\"color: #0087ff; text-decoration-color: #0087ff\">Conv2D</span>)              │ (<span style=\"color: #00d7ff; text-decoration-color: #00d7ff\">None</span>, <span style=\"color: #00af00; text-decoration-color: #00af00\">72</span>, <span style=\"color: #00af00; text-decoration-color: #00af00\">96</span>, <span style=\"color: #00af00; text-decoration-color: #00af00\">256</span>)    │       <span style=\"color: #00af00; text-decoration-color: #00af00\">590,080</span> │\n",
       "├─────────────────────────────────┼────────────────────────┼───────────────┤\n",
       "│ conv2d_20 (<span style=\"color: #0087ff; text-decoration-color: #0087ff\">Conv2D</span>)              │ (<span style=\"color: #00d7ff; text-decoration-color: #00d7ff\">None</span>, <span style=\"color: #00af00; text-decoration-color: #00af00\">72</span>, <span style=\"color: #00af00; text-decoration-color: #00af00\">96</span>, <span style=\"color: #00af00; text-decoration-color: #00af00\">256</span>)    │       <span style=\"color: #00af00; text-decoration-color: #00af00\">590,080</span> │\n",
       "├─────────────────────────────────┼────────────────────────┼───────────────┤\n",
       "│ conv2d_21 (<span style=\"color: #0087ff; text-decoration-color: #0087ff\">Conv2D</span>)              │ (<span style=\"color: #00d7ff; text-decoration-color: #00d7ff\">None</span>, <span style=\"color: #00af00; text-decoration-color: #00af00\">72</span>, <span style=\"color: #00af00; text-decoration-color: #00af00\">96</span>, <span style=\"color: #00af00; text-decoration-color: #00af00\">128</span>)    │       <span style=\"color: #00af00; text-decoration-color: #00af00\">295,040</span> │\n",
       "├─────────────────────────────────┼────────────────────────┼───────────────┤\n",
       "│ up_sampling2d_3 (<span style=\"color: #0087ff; text-decoration-color: #0087ff\">UpSampling2D</span>)  │ (<span style=\"color: #00d7ff; text-decoration-color: #00d7ff\">None</span>, <span style=\"color: #00af00; text-decoration-color: #00af00\">144</span>, <span style=\"color: #00af00; text-decoration-color: #00af00\">192</span>, <span style=\"color: #00af00; text-decoration-color: #00af00\">128</span>)  │             <span style=\"color: #00af00; text-decoration-color: #00af00\">0</span> │\n",
       "├─────────────────────────────────┼────────────────────────┼───────────────┤\n",
       "│ conv2d_22 (<span style=\"color: #0087ff; text-decoration-color: #0087ff\">Conv2D</span>)              │ (<span style=\"color: #00d7ff; text-decoration-color: #00d7ff\">None</span>, <span style=\"color: #00af00; text-decoration-color: #00af00\">144</span>, <span style=\"color: #00af00; text-decoration-color: #00af00\">192</span>, <span style=\"color: #00af00; text-decoration-color: #00af00\">128</span>)  │       <span style=\"color: #00af00; text-decoration-color: #00af00\">147,584</span> │\n",
       "├─────────────────────────────────┼────────────────────────┼───────────────┤\n",
       "│ conv2d_23 (<span style=\"color: #0087ff; text-decoration-color: #0087ff\">Conv2D</span>)              │ (<span style=\"color: #00d7ff; text-decoration-color: #00d7ff\">None</span>, <span style=\"color: #00af00; text-decoration-color: #00af00\">144</span>, <span style=\"color: #00af00; text-decoration-color: #00af00\">192</span>, <span style=\"color: #00af00; text-decoration-color: #00af00\">64</span>)   │        <span style=\"color: #00af00; text-decoration-color: #00af00\">73,792</span> │\n",
       "├─────────────────────────────────┼────────────────────────┼───────────────┤\n",
       "│ up_sampling2d_4 (<span style=\"color: #0087ff; text-decoration-color: #0087ff\">UpSampling2D</span>)  │ (<span style=\"color: #00d7ff; text-decoration-color: #00d7ff\">None</span>, <span style=\"color: #00af00; text-decoration-color: #00af00\">288</span>, <span style=\"color: #00af00; text-decoration-color: #00af00\">384</span>, <span style=\"color: #00af00; text-decoration-color: #00af00\">64</span>)   │             <span style=\"color: #00af00; text-decoration-color: #00af00\">0</span> │\n",
       "├─────────────────────────────────┼────────────────────────┼───────────────┤\n",
       "│ conv2d_24 (<span style=\"color: #0087ff; text-decoration-color: #0087ff\">Conv2D</span>)              │ (<span style=\"color: #00d7ff; text-decoration-color: #00d7ff\">None</span>, <span style=\"color: #00af00; text-decoration-color: #00af00\">288</span>, <span style=\"color: #00af00; text-decoration-color: #00af00\">384</span>, <span style=\"color: #00af00; text-decoration-color: #00af00\">64</span>)   │        <span style=\"color: #00af00; text-decoration-color: #00af00\">36,928</span> │\n",
       "├─────────────────────────────────┼────────────────────────┼───────────────┤\n",
       "│ conv2d_25 (<span style=\"color: #0087ff; text-decoration-color: #0087ff\">Conv2D</span>)              │ (<span style=\"color: #00d7ff; text-decoration-color: #00d7ff\">None</span>, <span style=\"color: #00af00; text-decoration-color: #00af00\">288</span>, <span style=\"color: #00af00; text-decoration-color: #00af00\">384</span>, <span style=\"color: #00af00; text-decoration-color: #00af00\">1</span>)    │            <span style=\"color: #00af00; text-decoration-color: #00af00\">65</span> │\n",
       "└─────────────────────────────────┴────────────────────────┴───────────────┘\n",
       "</pre>\n"
      ],
      "text/plain": [
       "┏━━━━━━━━━━━━━━━━━━━━━━━━━━━━━━━━━┳━━━━━━━━━━━━━━━━━━━━━━━━┳━━━━━━━━━━━━━━━┓\n",
       "┃\u001b[1m \u001b[0m\u001b[1mLayer (type)                   \u001b[0m\u001b[1m \u001b[0m┃\u001b[1m \u001b[0m\u001b[1mOutput Shape          \u001b[0m\u001b[1m \u001b[0m┃\u001b[1m \u001b[0m\u001b[1m      Param #\u001b[0m\u001b[1m \u001b[0m┃\n",
       "┡━━━━━━━━━━━━━━━━━━━━━━━━━━━━━━━━━╇━━━━━━━━━━━━━━━━━━━━━━━━╇━━━━━━━━━━━━━━━┩\n",
       "│ input_layer (\u001b[38;5;33mInputLayer\u001b[0m)        │ (\u001b[38;5;45mNone\u001b[0m, \u001b[38;5;34m288\u001b[0m, \u001b[38;5;34m384\u001b[0m, \u001b[38;5;34m3\u001b[0m)    │             \u001b[38;5;34m0\u001b[0m │\n",
       "├─────────────────────────────────┼────────────────────────┼───────────────┤\n",
       "│ conv2d (\u001b[38;5;33mConv2D\u001b[0m)                 │ (\u001b[38;5;45mNone\u001b[0m, \u001b[38;5;34m288\u001b[0m, \u001b[38;5;34m384\u001b[0m, \u001b[38;5;34m64\u001b[0m)   │         \u001b[38;5;34m1,792\u001b[0m │\n",
       "├─────────────────────────────────┼────────────────────────┼───────────────┤\n",
       "│ conv2d_1 (\u001b[38;5;33mConv2D\u001b[0m)               │ (\u001b[38;5;45mNone\u001b[0m, \u001b[38;5;34m288\u001b[0m, \u001b[38;5;34m384\u001b[0m, \u001b[38;5;34m64\u001b[0m)   │        \u001b[38;5;34m36,928\u001b[0m │\n",
       "├─────────────────────────────────┼────────────────────────┼───────────────┤\n",
       "│ max_pooling2d (\u001b[38;5;33mMaxPooling2D\u001b[0m)    │ (\u001b[38;5;45mNone\u001b[0m, \u001b[38;5;34m144\u001b[0m, \u001b[38;5;34m192\u001b[0m, \u001b[38;5;34m64\u001b[0m)   │             \u001b[38;5;34m0\u001b[0m │\n",
       "├─────────────────────────────────┼────────────────────────┼───────────────┤\n",
       "│ conv2d_2 (\u001b[38;5;33mConv2D\u001b[0m)               │ (\u001b[38;5;45mNone\u001b[0m, \u001b[38;5;34m144\u001b[0m, \u001b[38;5;34m192\u001b[0m, \u001b[38;5;34m128\u001b[0m)  │        \u001b[38;5;34m73,856\u001b[0m │\n",
       "├─────────────────────────────────┼────────────────────────┼───────────────┤\n",
       "│ conv2d_3 (\u001b[38;5;33mConv2D\u001b[0m)               │ (\u001b[38;5;45mNone\u001b[0m, \u001b[38;5;34m144\u001b[0m, \u001b[38;5;34m192\u001b[0m, \u001b[38;5;34m128\u001b[0m)  │       \u001b[38;5;34m147,584\u001b[0m │\n",
       "├─────────────────────────────────┼────────────────────────┼───────────────┤\n",
       "│ max_pooling2d_1 (\u001b[38;5;33mMaxPooling2D\u001b[0m)  │ (\u001b[38;5;45mNone\u001b[0m, \u001b[38;5;34m72\u001b[0m, \u001b[38;5;34m96\u001b[0m, \u001b[38;5;34m128\u001b[0m)    │             \u001b[38;5;34m0\u001b[0m │\n",
       "├─────────────────────────────────┼────────────────────────┼───────────────┤\n",
       "│ conv2d_4 (\u001b[38;5;33mConv2D\u001b[0m)               │ (\u001b[38;5;45mNone\u001b[0m, \u001b[38;5;34m72\u001b[0m, \u001b[38;5;34m96\u001b[0m, \u001b[38;5;34m256\u001b[0m)    │       \u001b[38;5;34m295,168\u001b[0m │\n",
       "├─────────────────────────────────┼────────────────────────┼───────────────┤\n",
       "│ conv2d_5 (\u001b[38;5;33mConv2D\u001b[0m)               │ (\u001b[38;5;45mNone\u001b[0m, \u001b[38;5;34m72\u001b[0m, \u001b[38;5;34m96\u001b[0m, \u001b[38;5;34m256\u001b[0m)    │       \u001b[38;5;34m590,080\u001b[0m │\n",
       "├─────────────────────────────────┼────────────────────────┼───────────────┤\n",
       "│ conv2d_6 (\u001b[38;5;33mConv2D\u001b[0m)               │ (\u001b[38;5;45mNone\u001b[0m, \u001b[38;5;34m72\u001b[0m, \u001b[38;5;34m96\u001b[0m, \u001b[38;5;34m256\u001b[0m)    │       \u001b[38;5;34m590,080\u001b[0m │\n",
       "├─────────────────────────────────┼────────────────────────┼───────────────┤\n",
       "│ max_pooling2d_2 (\u001b[38;5;33mMaxPooling2D\u001b[0m)  │ (\u001b[38;5;45mNone\u001b[0m, \u001b[38;5;34m36\u001b[0m, \u001b[38;5;34m48\u001b[0m, \u001b[38;5;34m256\u001b[0m)    │             \u001b[38;5;34m0\u001b[0m │\n",
       "├─────────────────────────────────┼────────────────────────┼───────────────┤\n",
       "│ conv2d_7 (\u001b[38;5;33mConv2D\u001b[0m)               │ (\u001b[38;5;45mNone\u001b[0m, \u001b[38;5;34m36\u001b[0m, \u001b[38;5;34m48\u001b[0m, \u001b[38;5;34m512\u001b[0m)    │     \u001b[38;5;34m1,180,160\u001b[0m │\n",
       "├─────────────────────────────────┼────────────────────────┼───────────────┤\n",
       "│ conv2d_8 (\u001b[38;5;33mConv2D\u001b[0m)               │ (\u001b[38;5;45mNone\u001b[0m, \u001b[38;5;34m36\u001b[0m, \u001b[38;5;34m48\u001b[0m, \u001b[38;5;34m512\u001b[0m)    │     \u001b[38;5;34m2,359,808\u001b[0m │\n",
       "├─────────────────────────────────┼────────────────────────┼───────────────┤\n",
       "│ conv2d_9 (\u001b[38;5;33mConv2D\u001b[0m)               │ (\u001b[38;5;45mNone\u001b[0m, \u001b[38;5;34m36\u001b[0m, \u001b[38;5;34m48\u001b[0m, \u001b[38;5;34m512\u001b[0m)    │     \u001b[38;5;34m2,359,808\u001b[0m │\n",
       "├─────────────────────────────────┼────────────────────────┼───────────────┤\n",
       "│ max_pooling2d_3 (\u001b[38;5;33mMaxPooling2D\u001b[0m)  │ (\u001b[38;5;45mNone\u001b[0m, \u001b[38;5;34m18\u001b[0m, \u001b[38;5;34m24\u001b[0m, \u001b[38;5;34m512\u001b[0m)    │             \u001b[38;5;34m0\u001b[0m │\n",
       "├─────────────────────────────────┼────────────────────────┼───────────────┤\n",
       "│ conv2d_10 (\u001b[38;5;33mConv2D\u001b[0m)              │ (\u001b[38;5;45mNone\u001b[0m, \u001b[38;5;34m18\u001b[0m, \u001b[38;5;34m24\u001b[0m, \u001b[38;5;34m512\u001b[0m)    │     \u001b[38;5;34m2,359,808\u001b[0m │\n",
       "├─────────────────────────────────┼────────────────────────┼───────────────┤\n",
       "│ conv2d_11 (\u001b[38;5;33mConv2D\u001b[0m)              │ (\u001b[38;5;45mNone\u001b[0m, \u001b[38;5;34m18\u001b[0m, \u001b[38;5;34m24\u001b[0m, \u001b[38;5;34m512\u001b[0m)    │     \u001b[38;5;34m2,359,808\u001b[0m │\n",
       "├─────────────────────────────────┼────────────────────────┼───────────────┤\n",
       "│ conv2d_12 (\u001b[38;5;33mConv2D\u001b[0m)              │ (\u001b[38;5;45mNone\u001b[0m, \u001b[38;5;34m18\u001b[0m, \u001b[38;5;34m24\u001b[0m, \u001b[38;5;34m512\u001b[0m)    │     \u001b[38;5;34m2,359,808\u001b[0m │\n",
       "├─────────────────────────────────┼────────────────────────┼───────────────┤\n",
       "│ max_pooling2d_4 (\u001b[38;5;33mMaxPooling2D\u001b[0m)  │ (\u001b[38;5;45mNone\u001b[0m, \u001b[38;5;34m9\u001b[0m, \u001b[38;5;34m12\u001b[0m, \u001b[38;5;34m512\u001b[0m)     │             \u001b[38;5;34m0\u001b[0m │\n",
       "├─────────────────────────────────┼────────────────────────┼───────────────┤\n",
       "│ up_sampling2d (\u001b[38;5;33mUpSampling2D\u001b[0m)    │ (\u001b[38;5;45mNone\u001b[0m, \u001b[38;5;34m18\u001b[0m, \u001b[38;5;34m24\u001b[0m, \u001b[38;5;34m512\u001b[0m)    │             \u001b[38;5;34m0\u001b[0m │\n",
       "├─────────────────────────────────┼────────────────────────┼───────────────┤\n",
       "│ conv2d_13 (\u001b[38;5;33mConv2D\u001b[0m)              │ (\u001b[38;5;45mNone\u001b[0m, \u001b[38;5;34m18\u001b[0m, \u001b[38;5;34m24\u001b[0m, \u001b[38;5;34m512\u001b[0m)    │     \u001b[38;5;34m2,359,808\u001b[0m │\n",
       "├─────────────────────────────────┼────────────────────────┼───────────────┤\n",
       "│ conv2d_14 (\u001b[38;5;33mConv2D\u001b[0m)              │ (\u001b[38;5;45mNone\u001b[0m, \u001b[38;5;34m18\u001b[0m, \u001b[38;5;34m24\u001b[0m, \u001b[38;5;34m512\u001b[0m)    │     \u001b[38;5;34m2,359,808\u001b[0m │\n",
       "├─────────────────────────────────┼────────────────────────┼───────────────┤\n",
       "│ conv2d_15 (\u001b[38;5;33mConv2D\u001b[0m)              │ (\u001b[38;5;45mNone\u001b[0m, \u001b[38;5;34m18\u001b[0m, \u001b[38;5;34m24\u001b[0m, \u001b[38;5;34m512\u001b[0m)    │     \u001b[38;5;34m2,359,808\u001b[0m │\n",
       "├─────────────────────────────────┼────────────────────────┼───────────────┤\n",
       "│ up_sampling2d_1 (\u001b[38;5;33mUpSampling2D\u001b[0m)  │ (\u001b[38;5;45mNone\u001b[0m, \u001b[38;5;34m36\u001b[0m, \u001b[38;5;34m48\u001b[0m, \u001b[38;5;34m512\u001b[0m)    │             \u001b[38;5;34m0\u001b[0m │\n",
       "├─────────────────────────────────┼────────────────────────┼───────────────┤\n",
       "│ conv2d_16 (\u001b[38;5;33mConv2D\u001b[0m)              │ (\u001b[38;5;45mNone\u001b[0m, \u001b[38;5;34m36\u001b[0m, \u001b[38;5;34m48\u001b[0m, \u001b[38;5;34m512\u001b[0m)    │     \u001b[38;5;34m2,359,808\u001b[0m │\n",
       "├─────────────────────────────────┼────────────────────────┼───────────────┤\n",
       "│ conv2d_17 (\u001b[38;5;33mConv2D\u001b[0m)              │ (\u001b[38;5;45mNone\u001b[0m, \u001b[38;5;34m36\u001b[0m, \u001b[38;5;34m48\u001b[0m, \u001b[38;5;34m512\u001b[0m)    │     \u001b[38;5;34m2,359,808\u001b[0m │\n",
       "├─────────────────────────────────┼────────────────────────┼───────────────┤\n",
       "│ conv2d_18 (\u001b[38;5;33mConv2D\u001b[0m)              │ (\u001b[38;5;45mNone\u001b[0m, \u001b[38;5;34m36\u001b[0m, \u001b[38;5;34m48\u001b[0m, \u001b[38;5;34m256\u001b[0m)    │     \u001b[38;5;34m1,179,904\u001b[0m │\n",
       "├─────────────────────────────────┼────────────────────────┼───────────────┤\n",
       "│ up_sampling2d_2 (\u001b[38;5;33mUpSampling2D\u001b[0m)  │ (\u001b[38;5;45mNone\u001b[0m, \u001b[38;5;34m72\u001b[0m, \u001b[38;5;34m96\u001b[0m, \u001b[38;5;34m256\u001b[0m)    │             \u001b[38;5;34m0\u001b[0m │\n",
       "├─────────────────────────────────┼────────────────────────┼───────────────┤\n",
       "│ conv2d_19 (\u001b[38;5;33mConv2D\u001b[0m)              │ (\u001b[38;5;45mNone\u001b[0m, \u001b[38;5;34m72\u001b[0m, \u001b[38;5;34m96\u001b[0m, \u001b[38;5;34m256\u001b[0m)    │       \u001b[38;5;34m590,080\u001b[0m │\n",
       "├─────────────────────────────────┼────────────────────────┼───────────────┤\n",
       "│ conv2d_20 (\u001b[38;5;33mConv2D\u001b[0m)              │ (\u001b[38;5;45mNone\u001b[0m, \u001b[38;5;34m72\u001b[0m, \u001b[38;5;34m96\u001b[0m, \u001b[38;5;34m256\u001b[0m)    │       \u001b[38;5;34m590,080\u001b[0m │\n",
       "├─────────────────────────────────┼────────────────────────┼───────────────┤\n",
       "│ conv2d_21 (\u001b[38;5;33mConv2D\u001b[0m)              │ (\u001b[38;5;45mNone\u001b[0m, \u001b[38;5;34m72\u001b[0m, \u001b[38;5;34m96\u001b[0m, \u001b[38;5;34m128\u001b[0m)    │       \u001b[38;5;34m295,040\u001b[0m │\n",
       "├─────────────────────────────────┼────────────────────────┼───────────────┤\n",
       "│ up_sampling2d_3 (\u001b[38;5;33mUpSampling2D\u001b[0m)  │ (\u001b[38;5;45mNone\u001b[0m, \u001b[38;5;34m144\u001b[0m, \u001b[38;5;34m192\u001b[0m, \u001b[38;5;34m128\u001b[0m)  │             \u001b[38;5;34m0\u001b[0m │\n",
       "├─────────────────────────────────┼────────────────────────┼───────────────┤\n",
       "│ conv2d_22 (\u001b[38;5;33mConv2D\u001b[0m)              │ (\u001b[38;5;45mNone\u001b[0m, \u001b[38;5;34m144\u001b[0m, \u001b[38;5;34m192\u001b[0m, \u001b[38;5;34m128\u001b[0m)  │       \u001b[38;5;34m147,584\u001b[0m │\n",
       "├─────────────────────────────────┼────────────────────────┼───────────────┤\n",
       "│ conv2d_23 (\u001b[38;5;33mConv2D\u001b[0m)              │ (\u001b[38;5;45mNone\u001b[0m, \u001b[38;5;34m144\u001b[0m, \u001b[38;5;34m192\u001b[0m, \u001b[38;5;34m64\u001b[0m)   │        \u001b[38;5;34m73,792\u001b[0m │\n",
       "├─────────────────────────────────┼────────────────────────┼───────────────┤\n",
       "│ up_sampling2d_4 (\u001b[38;5;33mUpSampling2D\u001b[0m)  │ (\u001b[38;5;45mNone\u001b[0m, \u001b[38;5;34m288\u001b[0m, \u001b[38;5;34m384\u001b[0m, \u001b[38;5;34m64\u001b[0m)   │             \u001b[38;5;34m0\u001b[0m │\n",
       "├─────────────────────────────────┼────────────────────────┼───────────────┤\n",
       "│ conv2d_24 (\u001b[38;5;33mConv2D\u001b[0m)              │ (\u001b[38;5;45mNone\u001b[0m, \u001b[38;5;34m288\u001b[0m, \u001b[38;5;34m384\u001b[0m, \u001b[38;5;34m64\u001b[0m)   │        \u001b[38;5;34m36,928\u001b[0m │\n",
       "├─────────────────────────────────┼────────────────────────┼───────────────┤\n",
       "│ conv2d_25 (\u001b[38;5;33mConv2D\u001b[0m)              │ (\u001b[38;5;45mNone\u001b[0m, \u001b[38;5;34m288\u001b[0m, \u001b[38;5;34m384\u001b[0m, \u001b[38;5;34m1\u001b[0m)    │            \u001b[38;5;34m65\u001b[0m │\n",
       "└─────────────────────────────────┴────────────────────────┴───────────────┘\n"
      ]
     },
     "metadata": {},
     "output_type": "display_data"
    },
    {
     "data": {
      "text/html": [
       "<pre style=\"white-space:pre;overflow-x:auto;line-height:normal;font-family:Menlo,'DejaVu Sans Mono',consolas,'Courier New',monospace\"><span style=\"font-weight: bold\"> Total params: </span><span style=\"color: #00af00; text-decoration-color: #00af00\">29,427,201</span> (112.26 MB)\n",
       "</pre>\n"
      ],
      "text/plain": [
       "\u001b[1m Total params: \u001b[0m\u001b[38;5;34m29,427,201\u001b[0m (112.26 MB)\n"
      ]
     },
     "metadata": {},
     "output_type": "display_data"
    },
    {
     "data": {
      "text/html": [
       "<pre style=\"white-space:pre;overflow-x:auto;line-height:normal;font-family:Menlo,'DejaVu Sans Mono',consolas,'Courier New',monospace\"><span style=\"font-weight: bold\"> Trainable params: </span><span style=\"color: #00af00; text-decoration-color: #00af00\">29,427,201</span> (112.26 MB)\n",
       "</pre>\n"
      ],
      "text/plain": [
       "\u001b[1m Trainable params: \u001b[0m\u001b[38;5;34m29,427,201\u001b[0m (112.26 MB)\n"
      ]
     },
     "metadata": {},
     "output_type": "display_data"
    },
    {
     "data": {
      "text/html": [
       "<pre style=\"white-space:pre;overflow-x:auto;line-height:normal;font-family:Menlo,'DejaVu Sans Mono',consolas,'Courier New',monospace\"><span style=\"font-weight: bold\"> Non-trainable params: </span><span style=\"color: #00af00; text-decoration-color: #00af00\">0</span> (0.00 B)\n",
       "</pre>\n"
      ],
      "text/plain": [
       "\u001b[1m Non-trainable params: \u001b[0m\u001b[38;5;34m0\u001b[0m (0.00 B)\n"
      ]
     },
     "metadata": {},
     "output_type": "display_data"
    }
   ],
   "source": [
    "def SegNet(input_shape=(224,224,3), n_classes=1):\n",
    "    inputs = layers.Input(shape=input_shape)\n",
    "\n",
    "    # ---------- Encoder ----------\n",
    "    # Block 1\n",
    "    x = layers.Conv2D(64, (3,3), padding=\"same\", activation=\"relu\")(inputs)\n",
    "    x = layers.Conv2D(64, (3,3), padding=\"same\", activation=\"relu\")(x)\n",
    "    p1 = layers.MaxPooling2D((2,2))(x)\n",
    "\n",
    "    # Block 2\n",
    "    x = layers.Conv2D(128, (3,3), padding=\"same\", activation=\"relu\")(p1)\n",
    "    x = layers.Conv2D(128, (3,3), padding=\"same\", activation=\"relu\")(x)\n",
    "    p2 = layers.MaxPooling2D((2,2))(x)\n",
    "\n",
    "    # Block 3\n",
    "    x = layers.Conv2D(256, (3,3), padding=\"same\", activation=\"relu\")(p2)\n",
    "    x = layers.Conv2D(256, (3,3), padding=\"same\", activation=\"relu\")(x)\n",
    "    x = layers.Conv2D(256, (3,3), padding=\"same\", activation=\"relu\")(x)\n",
    "    p3 = layers.MaxPooling2D((2,2))(x)\n",
    "\n",
    "    # Block 4\n",
    "    x = layers.Conv2D(512, (3,3), padding=\"same\", activation=\"relu\")(p3)\n",
    "    x = layers.Conv2D(512, (3,3), padding=\"same\", activation=\"relu\")(x)\n",
    "    x = layers.Conv2D(512, (3,3), padding=\"same\", activation=\"relu\")(x)\n",
    "    p4 = layers.MaxPooling2D((2,2))(x)\n",
    "\n",
    "    # Block 5\n",
    "    x = layers.Conv2D(512, (3,3), padding=\"same\", activation=\"relu\")(p4)\n",
    "    x = layers.Conv2D(512, (3,3), padding=\"same\", activation=\"relu\")(x)\n",
    "    x = layers.Conv2D(512, (3,3), padding=\"same\", activation=\"relu\")(x)\n",
    "    p5 = layers.MaxPooling2D((2,2))(x)\n",
    "\n",
    "    # ---------- Decoder ----------\n",
    "    # Block 5D\n",
    "    x = layers.UpSampling2D((2,2))(p5)\n",
    "    x = layers.Conv2D(512, (3,3), padding=\"same\", activation=\"relu\")(x)\n",
    "    x = layers.Conv2D(512, (3,3), padding=\"same\", activation=\"relu\")(x)\n",
    "    x = layers.Conv2D(512, (3,3), padding=\"same\", activation=\"relu\")(x)\n",
    "\n",
    "    # Block 4D\n",
    "    x = layers.UpSampling2D((2,2))(x)\n",
    "    x = layers.Conv2D(512, (3,3), padding=\"same\", activation=\"relu\")(x)\n",
    "    x = layers.Conv2D(512, (3,3), padding=\"same\", activation=\"relu\")(x)\n",
    "    x = layers.Conv2D(256, (3,3), padding=\"same\", activation=\"relu\")(x)\n",
    "\n",
    "    # Block 3D\n",
    "    x = layers.UpSampling2D((2,2))(x)\n",
    "    x = layers.Conv2D(256, (3,3), padding=\"same\", activation=\"relu\")(x)\n",
    "    x = layers.Conv2D(256, (3,3), padding=\"same\", activation=\"relu\")(x)\n",
    "    x = layers.Conv2D(128, (3,3), padding=\"same\", activation=\"relu\")(x)\n",
    "\n",
    "    # Block 2D\n",
    "    x = layers.UpSampling2D((2,2))(x)\n",
    "    x = layers.Conv2D(128, (3,3), padding=\"same\", activation=\"relu\")(x)\n",
    "    x = layers.Conv2D(64, (3,3), padding=\"same\", activation=\"relu\")(x)\n",
    "\n",
    "    # Block 1D\n",
    "    x = layers.UpSampling2D((2,2))(x)\n",
    "    x = layers.Conv2D(64, (3,3), padding=\"same\", activation=\"relu\")(x)\n",
    "\n",
    "    # 输出层\n",
    "    outputs = layers.Conv2D(n_classes, (1,1), activation=\"sigmoid\")(x)\n",
    "\n",
    "    model = models.Model(inputs=inputs, outputs=outputs)\n",
    "    return model\n",
    "\n",
    "# ---------- 创建模型 ----------\n",
    "model = SegNet(input_shape=(288,384,3), n_classes=1)\n",
    "model.summary()\n"
   ]
  },
  {
   "cell_type": "code",
   "execution_count": null,
   "id": "5782d5ed-dea7-4050-abc7-6987b8fe5ec8",
   "metadata": {},
   "outputs": [],
   "source": []
  },
  {
   "cell_type": "code",
   "execution_count": null,
   "id": "dd68327d-fd7c-42e8-bb30-1a11095c02b0",
   "metadata": {},
   "outputs": [],
   "source": []
  },
  {
   "cell_type": "code",
   "execution_count": 6,
   "id": "740935c7-1139-42ba-9973-4e31f170f66c",
   "metadata": {},
   "outputs": [],
   "source": [
    "import tensorflow as tf\n",
    "\n",
    "def bce_jaccard_loss(y_true, y_pred, smooth=1e-7, alpha=0.5):\n",
    "    \"\"\"\n",
    "    参数说明：\n",
    "    - y_true: 真实标签 (shape=[batch, H, W, 1])\n",
    "    - y_pred: 模型预测值 (shape=[batch, H, W, 1])\n",
    "    - smooth: 防止除零的小常数\n",
    "    - alpha: 平衡 BCE 和 Jaccard 的权重（默认 0.5）\n",
    "    \"\"\"\n",
    "    # 计算二元交叉熵\n",
    "    bce = tf.keras.losses.binary_crossentropy(y_true, y_pred)\n",
    "    \n",
    "    # 计算 Jaccard Loss (IoU Loss)  \n",
    "    y_true_f = tf.keras.backend.flatten(y_true)   # 展平为向量 [batch*H*W]\n",
    "    y_pred_f = tf.keras.backend.flatten(y_pred)\n",
    "    intersection = tf.reduce_sum(y_true_f * y_pred_f)\n",
    "    union = tf.reduce_sum(y_true_f + y_pred_f) - intersection\n",
    "    jaccard = (intersection + smooth) / (union + smooth)\n",
    "    jaccard_loss = 1 - jaccard  # 将 IoU 转换为 Loss\n",
    "    \n",
    "    # 加权组合\n",
    "    return alpha * bce + (1 - alpha) * jaccard_loss"
   ]
  },
  {
   "cell_type": "code",
   "execution_count": 7,
   "id": "d1e2215d-e055-4fda-bdc9-0c51cdfa9e5b",
   "metadata": {},
   "outputs": [],
   "source": [
    "def dice_score(y_true, y_pred, smooth=1e-7):\n",
    "    y_true_f = tf.keras.backend.flatten(y_true)\n",
    "    y_pred_f = tf.keras.backend.flatten(y_pred)\n",
    "    intersection = tf.reduce_sum(y_true_f * y_pred_f)\n",
    "    denominator = tf.reduce_sum(y_true_f) + tf.reduce_sum(y_pred_f)\n",
    "    return (2.0 * intersection + smooth) / (denominator + smooth)"
   ]
  },
  {
   "cell_type": "code",
   "execution_count": 8,
   "id": "e9abc778-6f36-41c5-a317-dcde620e278c",
   "metadata": {},
   "outputs": [],
   "source": [
    "def iou_score(y_true, y_pred, smooth=1e-7):\n",
    "    y_true_f = tf.keras.backend.flatten(y_true)\n",
    "    y_pred_f = tf.keras.backend.flatten(y_pred)\n",
    "    intersection = tf.reduce_sum(y_true_f * y_pred_f)\n",
    "    union = tf.reduce_sum(y_true_f) + tf.reduce_sum(y_pred_f) - intersection\n",
    "    return (intersection + smooth) / (union + smooth)"
   ]
  },
  {
   "cell_type": "code",
   "execution_count": null,
   "id": "0c3a63c1-c49d-4348-a3ec-e264d96441c4",
   "metadata": {},
   "outputs": [],
   "source": []
  },
  {
   "cell_type": "code",
   "execution_count": 9,
   "id": "950f3d8d-20c9-41dc-9ec1-56b4e9595472",
   "metadata": {},
   "outputs": [],
   "source": [
    "model.compile(\n",
    "    optimizer='Adam',\n",
    "    loss=bce_jaccard_loss,  # 可替换为 iou_loss 或 bce_jaccard_loss\n",
    "    metrics=[\n",
    "        dice_score, \n",
    "        iou_score\n",
    "        # tf.keras.metrics.BinaryAccuracy()  # 可选：添加准确率指标\n",
    "    ]\n",
    ")"
   ]
  },
  {
   "cell_type": "code",
   "execution_count": 21,
   "id": "4d79f4a5-bde5-4514-9901-a34227f03aa4",
   "metadata": {},
   "outputs": [],
   "source": [
    "callbacks_list = [\n",
    "    keras.callbacks.ReduceLROnPlateau(  monitor='val_iou_score',  # 监控指标（默认：val_loss）\n",
    "                                        factor=0.5,               # 学习率衰减系数（新学习率 = 旧学习率 * factor）\n",
    "                                        patience=20,              # 等待 epoch 数无改善后触发\n",
    "                                        mode='max'              # 监控指标方向：'auto'/'min'/'max'（自动检测最大/最小化）\n",
    "                                        # min_delta=0.0001,         # 视为“改善”的最小变化阈值\n",
    "                                        # cooldown=0,               # 触发后暂停监控的 epoch 数（防止频繁调整）\n",
    "                                        # min_lr=0                  # 学习率下限（避免过小导致训练停滞）\n",
    "                                     ),\n",
    "\n",
    "    \n",
    "    keras.callbacks.ModelCheckpoint(filepath=r'../best weight/1segnet/img/img_best_epoch_{epoch:03d}_val_iou_{val_iou_score:.4f}.weights.h5', \n",
    "                                    # 保存路径（支持 epoch 变量，如 model_{epoch:02d}.h5）\n",
    "                                    monitor='val_iou_score',\n",
    "                                    save_best_only=True,           # 只保留最优模型\n",
    "                                    save_weights_only=True,       # 若为 True 只保存权重，否则保存完整模型\n",
    "                                    mode='max'                   # 监控指标方向（与 ReduceLROnPlateau 相同）\n",
    "                                   )   ##保存最佳模型\n",
    "                                      \n",
    "    #keras.callbacks.EarlyStopping(monitor='val_loss', min_delta=0, patience=15, verbose=0, mode='auto', \n",
    "                                  #baseline=None, restore_best_weights=False)\n",
    "    ]"
   ]
  },
  {
   "cell_type": "code",
   "execution_count": 22,
   "id": "535e6016-0b34-4d56-b35c-f25559d251ce",
   "metadata": {
    "scrolled": true
   },
   "outputs": [
    {
     "name": "stdout",
     "output_type": "stream",
     "text": [
      "Epoch 1/300\n"
     ]
    },
    {
     "name": "stderr",
     "output_type": "stream",
     "text": [
      "WARNING: All log messages before absl::InitializeLog() is called are written to STDERR\n",
      "I0000 00:00:1756195586.664203 4047519 service.cc:146] XLA service 0x7f7664002080 initialized for platform CUDA (this does not guarantee that XLA will be used). Devices:\n",
      "I0000 00:00:1756195586.664293 4047519 service.cc:154]   StreamExecutor device (0): NVIDIA A800 80GB PCIe, Compute Capability 8.0\n",
      "2025-08-26 16:06:26.942115: I tensorflow/compiler/mlir/tensorflow/utils/dump_mlir_util.cc:268] disabling MLIR crash reproducer, set env var `MLIR_CRASH_REPRODUCER_DIRECTORY` to enable.\n",
      "2025-08-26 16:06:27.663538: I external/local_xla/xla/stream_executor/cuda/cuda_dnn.cc:531] Loaded cuDNN version 90101\n",
      "2025-08-26 16:06:41.458708: E external/local_xla/xla/service/slow_operation_alarm.cc:65] Trying algorithm eng0{} for conv (f32[64,64,288,384]{3,2,1,0}, u8[0]{0}) custom-call(f32[64,64,288,384]{3,2,1,0}, f32[64,64,3,3]{3,2,1,0}), window={size=3x3 pad=1_1x1_1}, dim_labels=bf01_oi01->bf01, custom_call_target=\"__cudnn$convBackwardInput\", backend_config={\"operation_queue_id\":\"0\",\"wait_on_operation_queues\":[],\"cudnn_conv_backend_config\":{\"activation_mode\":\"kNone\",\"conv_result_scale\":1,\"side_input_scale\":0,\"leakyrelu_alpha\":0},\"force_earliest_schedule\":false} is taking a while...\n",
      "2025-08-26 16:06:41.682436: E external/local_xla/xla/service/slow_operation_alarm.cc:133] The operation took 1.223882488s\n",
      "Trying algorithm eng0{} for conv (f32[64,64,288,384]{3,2,1,0}, u8[0]{0}) custom-call(f32[64,64,288,384]{3,2,1,0}, f32[64,64,3,3]{3,2,1,0}), window={size=3x3 pad=1_1x1_1}, dim_labels=bf01_oi01->bf01, custom_call_target=\"__cudnn$convBackwardInput\", backend_config={\"operation_queue_id\":\"0\",\"wait_on_operation_queues\":[],\"cudnn_conv_backend_config\":{\"activation_mode\":\"kNone\",\"conv_result_scale\":1,\"side_input_scale\":0,\"leakyrelu_alpha\":0},\"force_earliest_schedule\":false} is taking a while...\n",
      "2025-08-26 16:06:46.540006: E external/local_xla/xla/service/slow_operation_alarm.cc:65] Trying algorithm eng0{} for conv (f32[64,128,144,192]{3,2,1,0}, u8[0]{0}) custom-call(f32[64,128,144,192]{3,2,1,0}, f32[128,128,3,3]{3,2,1,0}), window={size=3x3 pad=1_1x1_1}, dim_labels=bf01_oi01->bf01, custom_call_target=\"__cudnn$convBackwardInput\", backend_config={\"operation_queue_id\":\"0\",\"wait_on_operation_queues\":[],\"cudnn_conv_backend_config\":{\"activation_mode\":\"kNone\",\"conv_result_scale\":1,\"side_input_scale\":0,\"leakyrelu_alpha\":0},\"force_earliest_schedule\":false} is taking a while...\n",
      "2025-08-26 16:06:46.725011: E external/local_xla/xla/service/slow_operation_alarm.cc:133] The operation took 1.18516803s\n",
      "Trying algorithm eng0{} for conv (f32[64,128,144,192]{3,2,1,0}, u8[0]{0}) custom-call(f32[64,128,144,192]{3,2,1,0}, f32[128,128,3,3]{3,2,1,0}), window={size=3x3 pad=1_1x1_1}, dim_labels=bf01_oi01->bf01, custom_call_target=\"__cudnn$convBackwardInput\", backend_config={\"operation_queue_id\":\"0\",\"wait_on_operation_queues\":[],\"cudnn_conv_backend_config\":{\"activation_mode\":\"kNone\",\"conv_result_scale\":1,\"side_input_scale\":0,\"leakyrelu_alpha\":0},\"force_earliest_schedule\":false} is taking a while...\n",
      "2025-08-26 16:06:50.864027: E external/local_xla/xla/service/slow_operation_alarm.cc:65] Trying algorithm eng0{} for conv (f32[64,256,72,96]{3,2,1,0}, u8[0]{0}) custom-call(f32[64,256,72,96]{3,2,1,0}, f32[256,256,3,3]{3,2,1,0}), window={size=3x3 pad=1_1x1_1}, dim_labels=bf01_oi01->bf01, custom_call_target=\"__cudnn$convBackwardInput\", backend_config={\"operation_queue_id\":\"0\",\"wait_on_operation_queues\":[],\"cudnn_conv_backend_config\":{\"activation_mode\":\"kNone\",\"conv_result_scale\":1,\"side_input_scale\":0,\"leakyrelu_alpha\":0},\"force_earliest_schedule\":false} is taking a while...\n",
      "2025-08-26 16:06:51.045409: E external/local_xla/xla/service/slow_operation_alarm.cc:133] The operation took 1.181523822s\n",
      "Trying algorithm eng0{} for conv (f32[64,256,72,96]{3,2,1,0}, u8[0]{0}) custom-call(f32[64,256,72,96]{3,2,1,0}, f32[256,256,3,3]{3,2,1,0}), window={size=3x3 pad=1_1x1_1}, dim_labels=bf01_oi01->bf01, custom_call_target=\"__cudnn$convBackwardInput\", backend_config={\"operation_queue_id\":\"0\",\"wait_on_operation_queues\":[],\"cudnn_conv_backend_config\":{\"activation_mode\":\"kNone\",\"conv_result_scale\":1,\"side_input_scale\":0,\"leakyrelu_alpha\":0},\"force_earliest_schedule\":false} is taking a while...\n",
      "2025-08-26 16:06:54.850289: E external/local_xla/xla/service/slow_operation_alarm.cc:65] Trying algorithm eng0{} for conv (f32[64,512,36,48]{3,2,1,0}, u8[0]{0}) custom-call(f32[64,512,36,48]{3,2,1,0}, f32[512,512,3,3]{3,2,1,0}), window={size=3x3 pad=1_1x1_1}, dim_labels=bf01_oi01->bf01, custom_call_target=\"__cudnn$convBackwardInput\", backend_config={\"operation_queue_id\":\"0\",\"wait_on_operation_queues\":[],\"cudnn_conv_backend_config\":{\"activation_mode\":\"kNone\",\"conv_result_scale\":1,\"side_input_scale\":0,\"leakyrelu_alpha\":0},\"force_earliest_schedule\":false} is taking a while...\n",
      "2025-08-26 16:06:55.036654: E external/local_xla/xla/service/slow_operation_alarm.cc:133] The operation took 1.186504136s\n",
      "Trying algorithm eng0{} for conv (f32[64,512,36,48]{3,2,1,0}, u8[0]{0}) custom-call(f32[64,512,36,48]{3,2,1,0}, f32[512,512,3,3]{3,2,1,0}), window={size=3x3 pad=1_1x1_1}, dim_labels=bf01_oi01->bf01, custom_call_target=\"__cudnn$convBackwardInput\", backend_config={\"operation_queue_id\":\"0\",\"wait_on_operation_queues\":[],\"cudnn_conv_backend_config\":{\"activation_mode\":\"kNone\",\"conv_result_scale\":1,\"side_input_scale\":0,\"leakyrelu_alpha\":0},\"force_earliest_schedule\":false} is taking a while...\n",
      "2025-08-26 16:07:05.552423: E external/local_xla/xla/service/slow_operation_alarm.cc:65] Trying algorithm eng0{} for conv (f32[64,64,3,3]{3,2,1,0}, u8[0]{0}) custom-call(f32[64,64,288,384]{3,2,1,0}, f32[64,64,288,384]{3,2,1,0}), window={size=3x3 pad=1_1x1_1}, dim_labels=bf01_oi01->bf01, custom_call_target=\"__cudnn$convBackwardFilter\", backend_config={\"operation_queue_id\":\"0\",\"wait_on_operation_queues\":[],\"cudnn_conv_backend_config\":{\"activation_mode\":\"kNone\",\"conv_result_scale\":1,\"side_input_scale\":0,\"leakyrelu_alpha\":0},\"force_earliest_schedule\":false} is taking a while...\n",
      "2025-08-26 16:07:06.938465: E external/local_xla/xla/service/slow_operation_alarm.cc:133] The operation took 2.386176049s\n",
      "Trying algorithm eng0{} for conv (f32[64,64,3,3]{3,2,1,0}, u8[0]{0}) custom-call(f32[64,64,288,384]{3,2,1,0}, f32[64,64,288,384]{3,2,1,0}), window={size=3x3 pad=1_1x1_1}, dim_labels=bf01_oi01->bf01, custom_call_target=\"__cudnn$convBackwardFilter\", backend_config={\"operation_queue_id\":\"0\",\"wait_on_operation_queues\":[],\"cudnn_conv_backend_config\":{\"activation_mode\":\"kNone\",\"conv_result_scale\":1,\"side_input_scale\":0,\"leakyrelu_alpha\":0},\"force_earliest_schedule\":false} is taking a while...\n",
      "2025-08-26 16:07:09.581539: E external/local_xla/xla/service/slow_operation_alarm.cc:65] Trying algorithm eng0{} for conv (f32[128,64,3,3]{3,2,1,0}, u8[0]{0}) custom-call(f32[64,64,144,192]{3,2,1,0}, f32[64,128,144,192]{3,2,1,0}), window={size=3x3 pad=1_1x1_1}, dim_labels=bf01_oi01->bf01, custom_call_target=\"__cudnn$convBackwardFilter\", backend_config={\"operation_queue_id\":\"0\",\"wait_on_operation_queues\":[],\"cudnn_conv_backend_config\":{\"activation_mode\":\"kNone\",\"conv_result_scale\":1,\"side_input_scale\":0,\"leakyrelu_alpha\":0},\"force_earliest_schedule\":false} is taking a while...\n",
      "2025-08-26 16:07:09.678841: E external/local_xla/xla/service/slow_operation_alarm.cc:133] The operation took 1.097438643s\n",
      "Trying algorithm eng0{} for conv (f32[128,64,3,3]{3,2,1,0}, u8[0]{0}) custom-call(f32[64,64,144,192]{3,2,1,0}, f32[64,128,144,192]{3,2,1,0}), window={size=3x3 pad=1_1x1_1}, dim_labels=bf01_oi01->bf01, custom_call_target=\"__cudnn$convBackwardFilter\", backend_config={\"operation_queue_id\":\"0\",\"wait_on_operation_queues\":[],\"cudnn_conv_backend_config\":{\"activation_mode\":\"kNone\",\"conv_result_scale\":1,\"side_input_scale\":0,\"leakyrelu_alpha\":0},\"force_earliest_schedule\":false} is taking a while...\n",
      "2025-08-26 16:07:12.452155: E external/local_xla/xla/service/slow_operation_alarm.cc:65] Trying algorithm eng0{} for conv (f32[128,128,3,3]{3,2,1,0}, u8[0]{0}) custom-call(f32[64,128,144,192]{3,2,1,0}, f32[64,128,144,192]{3,2,1,0}), window={size=3x3 pad=1_1x1_1}, dim_labels=bf01_oi01->bf01, custom_call_target=\"__cudnn$convBackwardFilter\", backend_config={\"operation_queue_id\":\"0\",\"wait_on_operation_queues\":[],\"cudnn_conv_backend_config\":{\"activation_mode\":\"kNone\",\"conv_result_scale\":1,\"side_input_scale\":0,\"leakyrelu_alpha\":0},\"force_earliest_schedule\":false} is taking a while...\n",
      "2025-08-26 16:07:13.656255: E external/local_xla/xla/service/slow_operation_alarm.cc:133] The operation took 2.20425184s\n",
      "Trying algorithm eng0{} for conv (f32[128,128,3,3]{3,2,1,0}, u8[0]{0}) custom-call(f32[64,128,144,192]{3,2,1,0}, f32[64,128,144,192]{3,2,1,0}), window={size=3x3 pad=1_1x1_1}, dim_labels=bf01_oi01->bf01, custom_call_target=\"__cudnn$convBackwardFilter\", backend_config={\"operation_queue_id\":\"0\",\"wait_on_operation_queues\":[],\"cudnn_conv_backend_config\":{\"activation_mode\":\"kNone\",\"conv_result_scale\":1,\"side_input_scale\":0,\"leakyrelu_alpha\":0},\"force_earliest_schedule\":false} is taking a while...\n",
      "2025-08-26 16:07:16.312565: E external/local_xla/xla/service/slow_operation_alarm.cc:65] Trying algorithm eng0{} for conv (f32[256,128,3,3]{3,2,1,0}, u8[0]{0}) custom-call(f32[64,128,72,96]{3,2,1,0}, f32[64,256,72,96]{3,2,1,0}), window={size=3x3 pad=1_1x1_1}, dim_labels=bf01_oi01->bf01, custom_call_target=\"__cudnn$convBackwardFilter\", backend_config={\"operation_queue_id\":\"0\",\"wait_on_operation_queues\":[],\"cudnn_conv_backend_config\":{\"activation_mode\":\"kNone\",\"conv_result_scale\":1,\"side_input_scale\":0,\"leakyrelu_alpha\":0},\"force_earliest_schedule\":false} is taking a while...\n",
      "2025-08-26 16:07:16.320156: E external/local_xla/xla/service/slow_operation_alarm.cc:133] The operation took 1.007726154s\n",
      "Trying algorithm eng0{} for conv (f32[256,128,3,3]{3,2,1,0}, u8[0]{0}) custom-call(f32[64,128,72,96]{3,2,1,0}, f32[64,256,72,96]{3,2,1,0}), window={size=3x3 pad=1_1x1_1}, dim_labels=bf01_oi01->bf01, custom_call_target=\"__cudnn$convBackwardFilter\", backend_config={\"operation_queue_id\":\"0\",\"wait_on_operation_queues\":[],\"cudnn_conv_backend_config\":{\"activation_mode\":\"kNone\",\"conv_result_scale\":1,\"side_input_scale\":0,\"leakyrelu_alpha\":0},\"force_earliest_schedule\":false} is taking a while...\n",
      "2025-08-26 16:07:18.751340: E external/local_xla/xla/service/slow_operation_alarm.cc:65] Trying algorithm eng0{} for conv (f32[256,256,3,3]{3,2,1,0}, u8[0]{0}) custom-call(f32[64,256,72,96]{3,2,1,0}, f32[64,256,72,96]{3,2,1,0}), window={size=3x3 pad=1_1x1_1}, dim_labels=bf01_oi01->bf01, custom_call_target=\"__cudnn$convBackwardFilter\", backend_config={\"operation_queue_id\":\"0\",\"wait_on_operation_queues\":[],\"cudnn_conv_backend_config\":{\"activation_mode\":\"kNone\",\"conv_result_scale\":1,\"side_input_scale\":0,\"leakyrelu_alpha\":0},\"force_earliest_schedule\":false} is taking a while...\n",
      "2025-08-26 16:07:19.776926: E external/local_xla/xla/service/slow_operation_alarm.cc:133] The operation took 2.025718324s\n",
      "Trying algorithm eng0{} for conv (f32[256,256,3,3]{3,2,1,0}, u8[0]{0}) custom-call(f32[64,256,72,96]{3,2,1,0}, f32[64,256,72,96]{3,2,1,0}), window={size=3x3 pad=1_1x1_1}, dim_labels=bf01_oi01->bf01, custom_call_target=\"__cudnn$convBackwardFilter\", backend_config={\"operation_queue_id\":\"0\",\"wait_on_operation_queues\":[],\"cudnn_conv_backend_config\":{\"activation_mode\":\"kNone\",\"conv_result_scale\":1,\"side_input_scale\":0,\"leakyrelu_alpha\":0},\"force_earliest_schedule\":false} is taking a while...\n",
      "2025-08-26 16:07:21.925599: E external/local_xla/xla/service/slow_operation_alarm.cc:65] Trying algorithm eng0{} for conv (f32[512,256,3,3]{3,2,1,0}, u8[0]{0}) custom-call(f32[64,256,36,48]{3,2,1,0}, f32[64,512,36,48]{3,2,1,0}), window={size=3x3 pad=1_1x1_1}, dim_labels=bf01_oi01->bf01, custom_call_target=\"__cudnn$convBackwardFilter\", backend_config={\"operation_queue_id\":\"0\",\"wait_on_operation_queues\":[],\"cudnn_conv_backend_config\":{\"activation_mode\":\"kNone\",\"conv_result_scale\":1,\"side_input_scale\":0,\"leakyrelu_alpha\":0},\"force_earliest_schedule\":false} is taking a while...\n",
      "2025-08-26 16:07:21.965604: E external/local_xla/xla/service/slow_operation_alarm.cc:133] The operation took 1.040141958s\n",
      "Trying algorithm eng0{} for conv (f32[512,256,3,3]{3,2,1,0}, u8[0]{0}) custom-call(f32[64,256,36,48]{3,2,1,0}, f32[64,512,36,48]{3,2,1,0}), window={size=3x3 pad=1_1x1_1}, dim_labels=bf01_oi01->bf01, custom_call_target=\"__cudnn$convBackwardFilter\", backend_config={\"operation_queue_id\":\"0\",\"wait_on_operation_queues\":[],\"cudnn_conv_backend_config\":{\"activation_mode\":\"kNone\",\"conv_result_scale\":1,\"side_input_scale\":0,\"leakyrelu_alpha\":0},\"force_earliest_schedule\":false} is taking a while...\n",
      "2025-08-26 16:07:24.297416: E external/local_xla/xla/service/slow_operation_alarm.cc:65] Trying algorithm eng0{} for conv (f32[512,512,3,3]{3,2,1,0}, u8[0]{0}) custom-call(f32[64,512,36,48]{3,2,1,0}, f32[64,512,36,48]{3,2,1,0}), window={size=3x3 pad=1_1x1_1}, dim_labels=bf01_oi01->bf01, custom_call_target=\"__cudnn$convBackwardFilter\", backend_config={\"operation_queue_id\":\"0\",\"wait_on_operation_queues\":[],\"cudnn_conv_backend_config\":{\"activation_mode\":\"kNone\",\"conv_result_scale\":1,\"side_input_scale\":0,\"leakyrelu_alpha\":0},\"force_earliest_schedule\":false} is taking a while...\n",
      "2025-08-26 16:07:25.371709: E external/local_xla/xla/service/slow_operation_alarm.cc:133] The operation took 2.07442527s\n",
      "Trying algorithm eng0{} for conv (f32[512,512,3,3]{3,2,1,0}, u8[0]{0}) custom-call(f32[64,512,36,48]{3,2,1,0}, f32[64,512,36,48]{3,2,1,0}), window={size=3x3 pad=1_1x1_1}, dim_labels=bf01_oi01->bf01, custom_call_target=\"__cudnn$convBackwardFilter\", backend_config={\"operation_queue_id\":\"0\",\"wait_on_operation_queues\":[],\"cudnn_conv_backend_config\":{\"activation_mode\":\"kNone\",\"conv_result_scale\":1,\"side_input_scale\":0,\"leakyrelu_alpha\":0},\"force_earliest_schedule\":false} is taking a while...\n",
      "2025-08-26 16:07:28.212503: E external/local_xla/xla/service/slow_operation_alarm.cc:65] Trying algorithm eng0{} for conv (f32[256,512,3,3]{3,2,1,0}, u8[0]{0}) custom-call(f32[64,512,36,48]{3,2,1,0}, f32[64,256,36,48]{3,2,1,0}), window={size=3x3 pad=1_1x1_1}, dim_labels=bf01_oi01->bf01, custom_call_target=\"__cudnn$convBackwardFilter\", backend_config={\"operation_queue_id\":\"0\",\"wait_on_operation_queues\":[],\"cudnn_conv_backend_config\":{\"activation_mode\":\"kNone\",\"conv_result_scale\":1,\"side_input_scale\":0,\"leakyrelu_alpha\":0},\"force_earliest_schedule\":false} is taking a while...\n",
      "2025-08-26 16:07:28.239216: E external/local_xla/xla/service/slow_operation_alarm.cc:133] The operation took 1.026846467s\n",
      "Trying algorithm eng0{} for conv (f32[256,512,3,3]{3,2,1,0}, u8[0]{0}) custom-call(f32[64,512,36,48]{3,2,1,0}, f32[64,256,36,48]{3,2,1,0}), window={size=3x3 pad=1_1x1_1}, dim_labels=bf01_oi01->bf01, custom_call_target=\"__cudnn$convBackwardFilter\", backend_config={\"operation_queue_id\":\"0\",\"wait_on_operation_queues\":[],\"cudnn_conv_backend_config\":{\"activation_mode\":\"kNone\",\"conv_result_scale\":1,\"side_input_scale\":0,\"leakyrelu_alpha\":0},\"force_earliest_schedule\":false} is taking a while...\n",
      "2025-08-26 16:07:30.117864: E external/local_xla/xla/service/slow_operation_alarm.cc:65] Trying algorithm eng0{} for conv (f32[128,256,3,3]{3,2,1,0}, u8[0]{0}) custom-call(f32[64,256,72,96]{3,2,1,0}, f32[64,128,72,96]{3,2,1,0}), window={size=3x3 pad=1_1x1_1}, dim_labels=bf01_oi01->bf01, custom_call_target=\"__cudnn$convBackwardFilter\", backend_config={\"operation_queue_id\":\"0\",\"wait_on_operation_queues\":[],\"cudnn_conv_backend_config\":{\"activation_mode\":\"kNone\",\"conv_result_scale\":1,\"side_input_scale\":0,\"leakyrelu_alpha\":0},\"force_earliest_schedule\":false} is taking a while...\n",
      "2025-08-26 16:07:30.140554: E external/local_xla/xla/service/slow_operation_alarm.cc:133] The operation took 1.022824682s\n",
      "Trying algorithm eng0{} for conv (f32[128,256,3,3]{3,2,1,0}, u8[0]{0}) custom-call(f32[64,256,72,96]{3,2,1,0}, f32[64,128,72,96]{3,2,1,0}), window={size=3x3 pad=1_1x1_1}, dim_labels=bf01_oi01->bf01, custom_call_target=\"__cudnn$convBackwardFilter\", backend_config={\"operation_queue_id\":\"0\",\"wait_on_operation_queues\":[],\"cudnn_conv_backend_config\":{\"activation_mode\":\"kNone\",\"conv_result_scale\":1,\"side_input_scale\":0,\"leakyrelu_alpha\":0},\"force_earliest_schedule\":false} is taking a while...\n",
      "2025-08-26 16:07:32.586753: E external/local_xla/xla/service/slow_operation_alarm.cc:65] Trying algorithm eng0{} for conv (f32[64,128,3,3]{3,2,1,0}, u8[0]{0}) custom-call(f32[64,128,144,192]{3,2,1,0}, f32[64,64,144,192]{3,2,1,0}), window={size=3x3 pad=1_1x1_1}, dim_labels=bf01_oi01->bf01, custom_call_target=\"__cudnn$convBackwardFilter\", backend_config={\"operation_queue_id\":\"0\",\"wait_on_operation_queues\":[],\"cudnn_conv_backend_config\":{\"activation_mode\":\"kNone\",\"conv_result_scale\":1,\"side_input_scale\":0,\"leakyrelu_alpha\":0},\"force_earliest_schedule\":false} is taking a while...\n",
      "2025-08-26 16:07:32.693845: E external/local_xla/xla/service/slow_operation_alarm.cc:133] The operation took 1.107228565s\n",
      "Trying algorithm eng0{} for conv (f32[64,128,3,3]{3,2,1,0}, u8[0]{0}) custom-call(f32[64,128,144,192]{3,2,1,0}, f32[64,64,144,192]{3,2,1,0}), window={size=3x3 pad=1_1x1_1}, dim_labels=bf01_oi01->bf01, custom_call_target=\"__cudnn$convBackwardFilter\", backend_config={\"operation_queue_id\":\"0\",\"wait_on_operation_queues\":[],\"cudnn_conv_backend_config\":{\"activation_mode\":\"kNone\",\"conv_result_scale\":1,\"side_input_scale\":0,\"leakyrelu_alpha\":0},\"force_earliest_schedule\":false} is taking a while...\n",
      "I0000 00:00:1756195657.164565 4047519 device_compiler.h:188] Compiled cluster using XLA!  This line is logged at most once for the lifetime of the process.\n"
     ]
    },
    {
     "name": "stdout",
     "output_type": "stream",
     "text": [
      "\u001b[1m38/38\u001b[0m \u001b[32m━━━━━━━━━━━━━━━━━━━━\u001b[0m\u001b[37m\u001b[0m \u001b[1m0s\u001b[0m 1s/step - dice_score: 0.1544 - iou_score: 0.0843 - loss: 6.8467   "
     ]
    },
    {
     "name": "stderr",
     "output_type": "stream",
     "text": [
      "2025-08-26 16:08:33.543005: I external/local_xla/xla/stream_executor/cuda/cuda_asm_compiler.cc:393] ptxas warning : Registers are spilled to local memory in function 'input_reduce_fusion_10', 20 bytes spill stores, 28 bytes spill loads\n",
      "\n",
      "2025-08-26 16:08:39.449022: I external/local_xla/xla/stream_executor/cuda/cuda_asm_compiler.cc:393] ptxas warning : Registers are spilled to local memory in function 'input_reduce_fusion_7', 4 bytes spill stores, 4 bytes spill loads\n",
      "\n"
     ]
    },
    {
     "name": "stdout",
     "output_type": "stream",
     "text": [
      "\u001b[1m38/38\u001b[0m \u001b[32m━━━━━━━━━━━━━━━━━━━━\u001b[0m\u001b[37m\u001b[0m \u001b[1m138s\u001b[0m 2s/step - dice_score: 0.1540 - iou_score: 0.0841 - loss: 6.7560 - val_dice_score: 0.0827 - val_iou_score: 0.0432 - val_loss: 0.6638 - learning_rate: 0.0010\n",
      "Epoch 2/300\n",
      "\u001b[1m38/38\u001b[0m \u001b[32m━━━━━━━━━━━━━━━━━━━━\u001b[0m\u001b[37m\u001b[0m \u001b[1m17s\u001b[0m 448ms/step - dice_score: 0.1184 - iou_score: 0.0631 - loss: 0.6510 - val_dice_score: 0.0953 - val_iou_score: 0.0501 - val_loss: 0.6512 - learning_rate: 0.0010\n",
      "Epoch 3/300\n",
      "\u001b[1m38/38\u001b[0m \u001b[32m━━━━━━━━━━━━━━━━━━━━\u001b[0m\u001b[37m\u001b[0m \u001b[1m17s\u001b[0m 435ms/step - dice_score: 0.1208 - iou_score: 0.0644 - loss: 0.6409 - val_dice_score: 0.0952 - val_iou_score: 0.0501 - val_loss: 0.6565 - learning_rate: 0.0010\n",
      "Epoch 4/300\n",
      "\u001b[1m38/38\u001b[0m \u001b[32m━━━━━━━━━━━━━━━━━━━━\u001b[0m\u001b[37m\u001b[0m \u001b[1m17s\u001b[0m 437ms/step - dice_score: 0.1209 - iou_score: 0.0645 - loss: 0.6467 - val_dice_score: 0.1563 - val_iou_score: 0.0851 - val_loss: 0.6288 - learning_rate: 0.0010\n",
      "Epoch 5/300\n",
      "\u001b[1m38/38\u001b[0m \u001b[32m━━━━━━━━━━━━━━━━━━━━\u001b[0m\u001b[37m\u001b[0m \u001b[1m17s\u001b[0m 436ms/step - dice_score: 0.1370 - iou_score: 0.0736 - loss: 0.6292 - val_dice_score: 0.1384 - val_iou_score: 0.0745 - val_loss: 0.6255 - learning_rate: 0.0010\n",
      "Epoch 6/300\n",
      "\u001b[1m38/38\u001b[0m \u001b[32m━━━━━━━━━━━━━━━━━━━━\u001b[0m\u001b[37m\u001b[0m \u001b[1m17s\u001b[0m 448ms/step - dice_score: 0.1495 - iou_score: 0.0808 - loss: 0.6218 - val_dice_score: 0.1661 - val_iou_score: 0.0909 - val_loss: 0.6202 - learning_rate: 0.0010\n",
      "Epoch 7/300\n",
      "\u001b[1m38/38\u001b[0m \u001b[32m━━━━━━━━━━━━━━━━━━━━\u001b[0m\u001b[37m\u001b[0m \u001b[1m17s\u001b[0m 434ms/step - dice_score: 0.1577 - iou_score: 0.0857 - loss: 0.6171 - val_dice_score: 0.1748 - val_iou_score: 0.0961 - val_loss: 0.6112 - learning_rate: 0.0010\n",
      "Epoch 8/300\n",
      "\u001b[1m38/38\u001b[0m \u001b[32m━━━━━━━━━━━━━━━━━━━━\u001b[0m\u001b[37m\u001b[0m \u001b[1m17s\u001b[0m 434ms/step - dice_score: 0.1539 - iou_score: 0.0837 - loss: 0.6255 - val_dice_score: 0.1357 - val_iou_score: 0.0730 - val_loss: 0.6368 - learning_rate: 0.0010\n",
      "Epoch 9/300\n",
      "\u001b[1m38/38\u001b[0m \u001b[32m━━━━━━━━━━━━━━━━━━━━\u001b[0m\u001b[37m\u001b[0m \u001b[1m17s\u001b[0m 442ms/step - dice_score: 0.1496 - iou_score: 0.0812 - loss: 0.6408 - val_dice_score: 0.0649 - val_iou_score: 0.0335 - val_loss: 0.6846 - learning_rate: 0.0010\n",
      "Epoch 10/300\n",
      "\u001b[1m38/38\u001b[0m \u001b[32m━━━━━━━━━━━━━━━━━━━━\u001b[0m\u001b[37m\u001b[0m \u001b[1m16s\u001b[0m 430ms/step - dice_score: 0.1450 - iou_score: 0.0788 - loss: 0.6267 - val_dice_score: 0.1851 - val_iou_score: 0.1023 - val_loss: 0.6070 - learning_rate: 0.0010\n",
      "Epoch 11/300\n",
      "\u001b[1m38/38\u001b[0m \u001b[32m━━━━━━━━━━━━━━━━━━━━\u001b[0m\u001b[37m\u001b[0m \u001b[1m16s\u001b[0m 430ms/step - dice_score: 0.1676 - iou_score: 0.0920 - loss: 0.6244 - val_dice_score: 0.1520 - val_iou_score: 0.0825 - val_loss: 0.6229 - learning_rate: 0.0010\n",
      "Epoch 12/300\n",
      "\u001b[1m38/38\u001b[0m \u001b[32m━━━━━━━━━━━━━━━━━━━━\u001b[0m\u001b[37m\u001b[0m \u001b[1m16s\u001b[0m 419ms/step - dice_score: 0.1615 - iou_score: 0.0880 - loss: 0.6172 - val_dice_score: 0.1509 - val_iou_score: 0.0818 - val_loss: 0.6147 - learning_rate: 0.0010\n",
      "Epoch 13/300\n",
      "\u001b[1m38/38\u001b[0m \u001b[32m━━━━━━━━━━━━━━━━━━━━\u001b[0m\u001b[37m\u001b[0m \u001b[1m17s\u001b[0m 439ms/step - dice_score: 0.1613 - iou_score: 0.0882 - loss: 0.6219 - val_dice_score: 0.2051 - val_iou_score: 0.1148 - val_loss: 0.6069 - learning_rate: 0.0010\n",
      "Epoch 14/300\n",
      "\u001b[1m38/38\u001b[0m \u001b[32m━━━━━━━━━━━━━━━━━━━━\u001b[0m\u001b[37m\u001b[0m \u001b[1m16s\u001b[0m 429ms/step - dice_score: 0.1980 - iou_score: 0.1099 - loss: 0.6005 - val_dice_score: 0.2122 - val_iou_score: 0.1192 - val_loss: 0.5959 - learning_rate: 0.0010\n",
      "Epoch 15/300\n",
      "\u001b[1m38/38\u001b[0m \u001b[32m━━━━━━━━━━━━━━━━━━━━\u001b[0m\u001b[37m\u001b[0m \u001b[1m16s\u001b[0m 430ms/step - dice_score: 0.1961 - iou_score: 0.1089 - loss: 0.6000 - val_dice_score: 0.1920 - val_iou_score: 0.1066 - val_loss: 0.6090 - learning_rate: 0.0010\n",
      "Epoch 16/300\n",
      "\u001b[1m38/38\u001b[0m \u001b[32m━━━━━━━━━━━━━━━━━━━━\u001b[0m\u001b[37m\u001b[0m \u001b[1m16s\u001b[0m 428ms/step - dice_score: 0.2022 - iou_score: 0.1126 - loss: 0.6046 - val_dice_score: 0.2147 - val_iou_score: 0.1208 - val_loss: 0.5944 - learning_rate: 0.0010\n",
      "Epoch 17/300\n",
      "\u001b[1m38/38\u001b[0m \u001b[32m━━━━━━━━━━━━━━━━━━━━\u001b[0m\u001b[37m\u001b[0m \u001b[1m17s\u001b[0m 441ms/step - dice_score: 0.2177 - iou_score: 0.1222 - loss: 0.5933 - val_dice_score: 0.2175 - val_iou_score: 0.1225 - val_loss: 0.5913 - learning_rate: 0.0010\n",
      "Epoch 18/300\n",
      "\u001b[1m38/38\u001b[0m \u001b[32m━━━━━━━━━━━━━━━━━━━━\u001b[0m\u001b[37m\u001b[0m \u001b[1m16s\u001b[0m 427ms/step - dice_score: 0.2224 - iou_score: 0.1253 - loss: 0.5901 - val_dice_score: 0.2276 - val_iou_score: 0.1290 - val_loss: 0.5917 - learning_rate: 0.0010\n",
      "Epoch 19/300\n",
      "\u001b[1m38/38\u001b[0m \u001b[32m━━━━━━━━━━━━━━━━━━━━\u001b[0m\u001b[37m\u001b[0m \u001b[1m16s\u001b[0m 426ms/step - dice_score: 0.2200 - iou_score: 0.1237 - loss: 0.5901 - val_dice_score: 0.2177 - val_iou_score: 0.1227 - val_loss: 0.5905 - learning_rate: 0.0010\n",
      "Epoch 20/300\n",
      "\u001b[1m38/38\u001b[0m \u001b[32m━━━━━━━━━━━━━━━━━━━━\u001b[0m\u001b[37m\u001b[0m \u001b[1m16s\u001b[0m 419ms/step - dice_score: 0.2289 - iou_score: 0.1293 - loss: 0.5873 - val_dice_score: 0.2032 - val_iou_score: 0.1135 - val_loss: 0.5927 - learning_rate: 0.0010\n",
      "Epoch 21/300\n",
      "\u001b[1m38/38\u001b[0m \u001b[32m━━━━━━━━━━━━━━━━━━━━\u001b[0m\u001b[37m\u001b[0m \u001b[1m17s\u001b[0m 438ms/step - dice_score: 0.2285 - iou_score: 0.1291 - loss: 0.5871 - val_dice_score: 0.2278 - val_iou_score: 0.1292 - val_loss: 0.5915 - learning_rate: 0.0010\n",
      "Epoch 22/300\n",
      "\u001b[1m38/38\u001b[0m \u001b[32m━━━━━━━━━━━━━━━━━━━━\u001b[0m\u001b[37m\u001b[0m \u001b[1m16s\u001b[0m 419ms/step - dice_score: 0.2265 - iou_score: 0.1278 - loss: 0.5845 - val_dice_score: 0.2197 - val_iou_score: 0.1239 - val_loss: 0.5912 - learning_rate: 0.0010\n",
      "Epoch 23/300\n",
      "\u001b[1m38/38\u001b[0m \u001b[32m━━━━━━━━━━━━━━━━━━━━\u001b[0m\u001b[37m\u001b[0m \u001b[1m16s\u001b[0m 424ms/step - dice_score: 0.2365 - iou_score: 0.1342 - loss: 0.5910 - val_dice_score: 0.2157 - val_iou_score: 0.1214 - val_loss: 0.5924 - learning_rate: 0.0010\n",
      "Epoch 24/300\n",
      "\u001b[1m38/38\u001b[0m \u001b[32m━━━━━━━━━━━━━━━━━━━━\u001b[0m\u001b[37m\u001b[0m \u001b[1m16s\u001b[0m 430ms/step - dice_score: 0.2274 - iou_score: 0.1284 - loss: 0.5942 - val_dice_score: 0.2335 - val_iou_score: 0.1328 - val_loss: 0.5900 - learning_rate: 0.0010\n",
      "Epoch 25/300\n",
      "\u001b[1m38/38\u001b[0m \u001b[32m━━━━━━━━━━━━━━━━━━━━\u001b[0m\u001b[37m\u001b[0m \u001b[1m16s\u001b[0m 426ms/step - dice_score: 0.2389 - iou_score: 0.1357 - loss: 0.5907 - val_dice_score: 0.2222 - val_iou_score: 0.1255 - val_loss: 0.5893 - learning_rate: 0.0010\n",
      "Epoch 26/300\n",
      "\u001b[1m38/38\u001b[0m \u001b[32m━━━━━━━━━━━━━━━━━━━━\u001b[0m\u001b[37m\u001b[0m \u001b[1m16s\u001b[0m 419ms/step - dice_score: 0.2369 - iou_score: 0.1345 - loss: 0.5887 - val_dice_score: 0.2264 - val_iou_score: 0.1282 - val_loss: 0.5896 - learning_rate: 0.0010\n",
      "Epoch 27/300\n",
      "\u001b[1m38/38\u001b[0m \u001b[32m━━━━━━━━━━━━━━━━━━━━\u001b[0m\u001b[37m\u001b[0m \u001b[1m16s\u001b[0m 428ms/step - dice_score: 0.2331 - iou_score: 0.1320 - loss: 0.5888 - val_dice_score: 0.2256 - val_iou_score: 0.1277 - val_loss: 0.5929 - learning_rate: 0.0010\n",
      "Epoch 28/300\n",
      "\u001b[1m38/38\u001b[0m \u001b[32m━━━━━━━━━━━━━━━━━━━━\u001b[0m\u001b[37m\u001b[0m \u001b[1m17s\u001b[0m 437ms/step - dice_score: 0.2319 - iou_score: 0.1312 - loss: 0.5871 - val_dice_score: 0.2285 - val_iou_score: 0.1296 - val_loss: 0.5909 - learning_rate: 0.0010\n",
      "Epoch 29/300\n",
      "\u001b[1m38/38\u001b[0m \u001b[32m━━━━━━━━━━━━━━━━━━━━\u001b[0m\u001b[37m\u001b[0m \u001b[1m16s\u001b[0m 416ms/step - dice_score: 0.2329 - iou_score: 0.1319 - loss: 0.5868 - val_dice_score: 0.2317 - val_iou_score: 0.1317 - val_loss: 0.5894 - learning_rate: 0.0010\n",
      "Epoch 30/300\n",
      "\u001b[1m38/38\u001b[0m \u001b[32m━━━━━━━━━━━━━━━━━━━━\u001b[0m\u001b[37m\u001b[0m \u001b[1m16s\u001b[0m 425ms/step - dice_score: 0.2365 - iou_score: 0.1342 - loss: 0.5860 - val_dice_score: 0.2282 - val_iou_score: 0.1294 - val_loss: 0.5897 - learning_rate: 0.0010\n",
      "Epoch 31/300\n",
      "\u001b[1m38/38\u001b[0m \u001b[32m━━━━━━━━━━━━━━━━━━━━\u001b[0m\u001b[37m\u001b[0m \u001b[1m16s\u001b[0m 426ms/step - dice_score: 0.2296 - iou_score: 0.1298 - loss: 0.5863 - val_dice_score: 0.0987 - val_iou_score: 0.0519 - val_loss: 0.6590 - learning_rate: 0.0010\n",
      "Epoch 32/300\n",
      "\u001b[1m38/38\u001b[0m \u001b[32m━━━━━━━━━━━━━━━━━━━━\u001b[0m\u001b[37m\u001b[0m \u001b[1m16s\u001b[0m 418ms/step - dice_score: 0.2047 - iou_score: 0.1145 - loss: 0.6082 - val_dice_score: 0.1882 - val_iou_score: 0.1041 - val_loss: 0.6056 - learning_rate: 0.0010\n",
      "Epoch 33/300\n",
      "\u001b[1m38/38\u001b[0m \u001b[32m━━━━━━━━━━━━━━━━━━━━\u001b[0m\u001b[37m\u001b[0m \u001b[1m16s\u001b[0m 427ms/step - dice_score: 0.2083 - iou_score: 0.1166 - loss: 0.6014 - val_dice_score: 0.2071 - val_iou_score: 0.1162 - val_loss: 0.6318 - learning_rate: 0.0010\n",
      "Epoch 34/300\n",
      "\u001b[1m38/38\u001b[0m \u001b[32m━━━━━━━━━━━━━━━━━━━━\u001b[0m\u001b[37m\u001b[0m \u001b[1m16s\u001b[0m 426ms/step - dice_score: 0.1904 - iou_score: 0.1056 - loss: 0.6216 - val_dice_score: 0.2332 - val_iou_score: 0.1325 - val_loss: 0.5842 - learning_rate: 0.0010\n",
      "Epoch 35/300\n",
      "\u001b[1m38/38\u001b[0m \u001b[32m━━━━━━━━━━━━━━━━━━━━\u001b[0m\u001b[37m\u001b[0m \u001b[1m16s\u001b[0m 417ms/step - dice_score: 0.2293 - iou_score: 0.1296 - loss: 0.6014 - val_dice_score: 0.2259 - val_iou_score: 0.1279 - val_loss: 0.5852 - learning_rate: 0.0010\n",
      "Epoch 36/300\n",
      "\u001b[1m38/38\u001b[0m \u001b[32m━━━━━━━━━━━━━━━━━━━━\u001b[0m\u001b[37m\u001b[0m \u001b[1m16s\u001b[0m 427ms/step - dice_score: 0.2238 - iou_score: 0.1262 - loss: 0.5909 - val_dice_score: 0.2734 - val_iou_score: 0.1589 - val_loss: 0.5702 - learning_rate: 0.0010\n",
      "Epoch 37/300\n",
      "\u001b[1m38/38\u001b[0m \u001b[32m━━━━━━━━━━━━━━━━━━━━\u001b[0m\u001b[37m\u001b[0m \u001b[1m16s\u001b[0m 422ms/step - dice_score: 0.2193 - iou_score: 0.1242 - loss: 0.5897 - val_dice_score: 0.2190 - val_iou_score: 0.1232 - val_loss: 0.5848 - learning_rate: 0.0010\n",
      "Epoch 38/300\n",
      "\u001b[1m38/38\u001b[0m \u001b[32m━━━━━━━━━━━━━━━━━━━━\u001b[0m\u001b[37m\u001b[0m \u001b[1m17s\u001b[0m 439ms/step - dice_score: 0.2373 - iou_score: 0.1350 - loss: 0.5803 - val_dice_score: 0.3141 - val_iou_score: 0.1874 - val_loss: 0.5907 - learning_rate: 0.0010\n",
      "Epoch 39/300\n",
      "\u001b[1m38/38\u001b[0m \u001b[32m━━━━━━━━━━━━━━━━━━━━\u001b[0m\u001b[37m\u001b[0m \u001b[1m16s\u001b[0m 416ms/step - dice_score: 0.2736 - iou_score: 0.1593 - loss: 0.5672 - val_dice_score: 0.3129 - val_iou_score: 0.1860 - val_loss: 0.5529 - learning_rate: 0.0010\n",
      "Epoch 40/300\n",
      "\u001b[1m38/38\u001b[0m \u001b[32m━━━━━━━━━━━━━━━━━━━━\u001b[0m\u001b[37m\u001b[0m \u001b[1m16s\u001b[0m 427ms/step - dice_score: 0.2948 - iou_score: 0.1734 - loss: 0.5569 - val_dice_score: 0.2785 - val_iou_score: 0.1623 - val_loss: 0.5542 - learning_rate: 0.0010\n",
      "Epoch 41/300\n",
      "\u001b[1m38/38\u001b[0m \u001b[32m━━━━━━━━━━━━━━━━━━━━\u001b[0m\u001b[37m\u001b[0m \u001b[1m16s\u001b[0m 429ms/step - dice_score: 0.3073 - iou_score: 0.1822 - loss: 0.5507 - val_dice_score: 0.3338 - val_iou_score: 0.2014 - val_loss: 0.5523 - learning_rate: 0.0010\n",
      "Epoch 42/300\n",
      "\u001b[1m38/38\u001b[0m \u001b[32m━━━━━━━━━━━━━━━━━━━━\u001b[0m\u001b[37m\u001b[0m \u001b[1m16s\u001b[0m 431ms/step - dice_score: 0.3350 - iou_score: 0.2019 - loss: 0.5394 - val_dice_score: 0.3082 - val_iou_score: 0.1826 - val_loss: 0.5607 - learning_rate: 0.0010\n",
      "Epoch 43/300\n",
      "\u001b[1m38/38\u001b[0m \u001b[32m━━━━━━━━━━━━━━━━━━━━\u001b[0m\u001b[37m\u001b[0m \u001b[1m16s\u001b[0m 426ms/step - dice_score: 0.3392 - iou_score: 0.2046 - loss: 0.5405 - val_dice_score: 0.3388 - val_iou_score: 0.2048 - val_loss: 0.5451 - learning_rate: 0.0010\n",
      "Epoch 44/300\n",
      "\u001b[1m38/38\u001b[0m \u001b[32m━━━━━━━━━━━━━━━━━━━━\u001b[0m\u001b[37m\u001b[0m \u001b[1m16s\u001b[0m 416ms/step - dice_score: 0.3668 - iou_score: 0.2252 - loss: 0.5242 - val_dice_score: 0.2732 - val_iou_score: 0.1589 - val_loss: 0.5550 - learning_rate: 0.0010\n",
      "Epoch 45/300\n",
      "\u001b[1m38/38\u001b[0m \u001b[32m━━━━━━━━━━━━━━━━━━━━\u001b[0m\u001b[37m\u001b[0m \u001b[1m16s\u001b[0m 431ms/step - dice_score: 0.3553 - iou_score: 0.2173 - loss: 0.5268 - val_dice_score: 0.4143 - val_iou_score: 0.2625 - val_loss: 0.5100 - learning_rate: 0.0010\n",
      "Epoch 46/300\n",
      "\u001b[1m38/38\u001b[0m \u001b[32m━━━━━━━━━━━━━━━━━━━━\u001b[0m\u001b[37m\u001b[0m \u001b[1m17s\u001b[0m 439ms/step - dice_score: 0.3964 - iou_score: 0.2480 - loss: 0.5146 - val_dice_score: 0.4132 - val_iou_score: 0.2621 - val_loss: 0.5255 - learning_rate: 0.0010\n",
      "Epoch 47/300\n",
      "\u001b[1m38/38\u001b[0m \u001b[32m━━━━━━━━━━━━━━━━━━━━\u001b[0m\u001b[37m\u001b[0m \u001b[1m16s\u001b[0m 427ms/step - dice_score: 0.3974 - iou_score: 0.2492 - loss: 0.5128 - val_dice_score: 0.4569 - val_iou_score: 0.2979 - val_loss: 0.4983 - learning_rate: 0.0010\n",
      "Epoch 48/300\n",
      "\u001b[1m38/38\u001b[0m \u001b[32m━━━━━━━━━━━━━━━━━━━━\u001b[0m\u001b[37m\u001b[0m \u001b[1m16s\u001b[0m 425ms/step - dice_score: 0.4545 - iou_score: 0.2953 - loss: 0.4841 - val_dice_score: 0.4130 - val_iou_score: 0.2614 - val_loss: 0.4985 - learning_rate: 0.0010\n",
      "Epoch 49/300\n",
      "\u001b[1m38/38\u001b[0m \u001b[32m━━━━━━━━━━━━━━━━━━━━\u001b[0m\u001b[37m\u001b[0m \u001b[1m16s\u001b[0m 419ms/step - dice_score: 0.4510 - iou_score: 0.2923 - loss: 0.4828 - val_dice_score: 0.4530 - val_iou_score: 0.2943 - val_loss: 0.4964 - learning_rate: 0.0010\n",
      "Epoch 50/300\n",
      "\u001b[1m38/38\u001b[0m \u001b[32m━━━━━━━━━━━━━━━━━━━━\u001b[0m\u001b[37m\u001b[0m \u001b[1m17s\u001b[0m 433ms/step - dice_score: 0.4523 - iou_score: 0.2930 - loss: 0.4820 - val_dice_score: 0.4827 - val_iou_score: 0.3198 - val_loss: 0.4657 - learning_rate: 0.0010\n",
      "Epoch 51/300\n",
      "\u001b[1m38/38\u001b[0m \u001b[32m━━━━━━━━━━━━━━━━━━━━\u001b[0m\u001b[37m\u001b[0m \u001b[1m16s\u001b[0m 430ms/step - dice_score: 0.4900 - iou_score: 0.3253 - loss: 0.4576 - val_dice_score: 0.4854 - val_iou_score: 0.3220 - val_loss: 0.4536 - learning_rate: 0.0010\n",
      "Epoch 52/300\n",
      "\u001b[1m38/38\u001b[0m \u001b[32m━━━━━━━━━━━━━━━━━━━━\u001b[0m\u001b[37m\u001b[0m \u001b[1m20s\u001b[0m 432ms/step - dice_score: 0.5021 - iou_score: 0.3359 - loss: 0.4515 - val_dice_score: 0.5217 - val_iou_score: 0.3546 - val_loss: 0.4353 - learning_rate: 0.0010\n",
      "Epoch 53/300\n",
      "\u001b[1m38/38\u001b[0m \u001b[32m━━━━━━━━━━━━━━━━━━━━\u001b[0m\u001b[37m\u001b[0m \u001b[1m16s\u001b[0m 423ms/step - dice_score: 0.5287 - iou_score: 0.3604 - loss: 0.4347 - val_dice_score: 0.4725 - val_iou_score: 0.3124 - val_loss: 0.4704 - learning_rate: 0.0010\n",
      "Epoch 54/300\n",
      "\u001b[1m38/38\u001b[0m \u001b[32m━━━━━━━━━━━━━━━━━━━━\u001b[0m\u001b[37m\u001b[0m \u001b[1m17s\u001b[0m 451ms/step - dice_score: 0.5562 - iou_score: 0.3858 - loss: 0.4174 - val_dice_score: 0.5609 - val_iou_score: 0.3915 - val_loss: 0.4197 - learning_rate: 0.0010\n",
      "Epoch 55/300\n",
      "\u001b[1m38/38\u001b[0m \u001b[32m━━━━━━━━━━━━━━━━━━━━\u001b[0m\u001b[37m\u001b[0m \u001b[1m16s\u001b[0m 429ms/step - dice_score: 0.5636 - iou_score: 0.3933 - loss: 0.4128 - val_dice_score: 0.5607 - val_iou_score: 0.3915 - val_loss: 0.4222 - learning_rate: 0.0010\n",
      "Epoch 56/300\n",
      "\u001b[1m38/38\u001b[0m \u001b[32m━━━━━━━━━━━━━━━━━━━━\u001b[0m\u001b[37m\u001b[0m \u001b[1m16s\u001b[0m 419ms/step - dice_score: 0.5902 - iou_score: 0.4193 - loss: 0.3952 - val_dice_score: 0.5417 - val_iou_score: 0.3732 - val_loss: 0.4135 - learning_rate: 0.0010\n",
      "Epoch 57/300\n",
      "\u001b[1m38/38\u001b[0m \u001b[32m━━━━━━━━━━━━━━━━━━━━\u001b[0m\u001b[37m\u001b[0m \u001b[1m16s\u001b[0m 429ms/step - dice_score: 0.5881 - iou_score: 0.4173 - loss: 0.3936 - val_dice_score: 0.5530 - val_iou_score: 0.3839 - val_loss: 0.4133 - learning_rate: 0.0010\n",
      "Epoch 58/300\n",
      "\u001b[1m38/38\u001b[0m \u001b[32m━━━━━━━━━━━━━━━━━━━━\u001b[0m\u001b[37m\u001b[0m \u001b[1m16s\u001b[0m 432ms/step - dice_score: 0.6234 - iou_score: 0.4540 - loss: 0.3759 - val_dice_score: 0.5986 - val_iou_score: 0.4289 - val_loss: 0.3961 - learning_rate: 0.0010\n",
      "Epoch 59/300\n",
      "\u001b[1m38/38\u001b[0m \u001b[32m━━━━━━━━━━━━━━━━━━━━\u001b[0m\u001b[37m\u001b[0m \u001b[1m16s\u001b[0m 432ms/step - dice_score: 0.6326 - iou_score: 0.4637 - loss: 0.3644 - val_dice_score: 0.6124 - val_iou_score: 0.4435 - val_loss: 0.3931 - learning_rate: 0.0010\n",
      "Epoch 60/300\n",
      "\u001b[1m38/38\u001b[0m \u001b[32m━━━━━━━━━━━━━━━━━━━━\u001b[0m\u001b[37m\u001b[0m \u001b[1m16s\u001b[0m 420ms/step - dice_score: 0.6387 - iou_score: 0.4700 - loss: 0.3619 - val_dice_score: 0.5888 - val_iou_score: 0.4193 - val_loss: 0.3954 - learning_rate: 0.0010\n",
      "Epoch 61/300\n",
      "\u001b[1m38/38\u001b[0m \u001b[32m━━━━━━━━━━━━━━━━━━━━\u001b[0m\u001b[37m\u001b[0m \u001b[1m16s\u001b[0m 418ms/step - dice_score: 0.6429 - iou_score: 0.4746 - loss: 0.3631 - val_dice_score: 0.6074 - val_iou_score: 0.4384 - val_loss: 0.4028 - learning_rate: 0.0010\n",
      "Epoch 62/300\n",
      "\u001b[1m38/38\u001b[0m \u001b[32m━━━━━━━━━━━━━━━━━━━━\u001b[0m\u001b[37m\u001b[0m \u001b[1m16s\u001b[0m 419ms/step - dice_score: 0.6672 - iou_score: 0.5013 - loss: 0.3425 - val_dice_score: 0.5898 - val_iou_score: 0.4202 - val_loss: 0.4083 - learning_rate: 0.0010\n",
      "Epoch 63/300\n",
      "\u001b[1m38/38\u001b[0m \u001b[32m━━━━━━━━━━━━━━━━━━━━\u001b[0m\u001b[37m\u001b[0m \u001b[1m16s\u001b[0m 430ms/step - dice_score: 0.6739 - iou_score: 0.5089 - loss: 0.3394 - val_dice_score: 0.6227 - val_iou_score: 0.4538 - val_loss: 0.3955 - learning_rate: 0.0010\n",
      "Epoch 64/300\n",
      "\u001b[1m38/38\u001b[0m \u001b[32m━━━━━━━━━━━━━━━━━━━━\u001b[0m\u001b[37m\u001b[0m \u001b[1m16s\u001b[0m 419ms/step - dice_score: 0.6811 - iou_score: 0.5171 - loss: 0.3336 - val_dice_score: 0.5983 - val_iou_score: 0.4295 - val_loss: 0.4317 - learning_rate: 0.0010\n",
      "Epoch 65/300\n",
      "\u001b[1m38/38\u001b[0m \u001b[32m━━━━━━━━━━━━━━━━━━━━\u001b[0m\u001b[37m\u001b[0m \u001b[1m17s\u001b[0m 434ms/step - dice_score: 0.6594 - iou_score: 0.4934 - loss: 0.3491 - val_dice_score: 0.6323 - val_iou_score: 0.4643 - val_loss: 0.3799 - learning_rate: 0.0010\n",
      "Epoch 66/300\n",
      "\u001b[1m38/38\u001b[0m \u001b[32m━━━━━━━━━━━━━━━━━━━━\u001b[0m\u001b[37m\u001b[0m \u001b[1m17s\u001b[0m 441ms/step - dice_score: 0.7066 - iou_score: 0.5471 - loss: 0.3127 - val_dice_score: 0.6492 - val_iou_score: 0.4818 - val_loss: 0.3679 - learning_rate: 0.0010\n",
      "Epoch 67/300\n",
      "\u001b[1m38/38\u001b[0m \u001b[32m━━━━━━━━━━━━━━━━━━━━\u001b[0m\u001b[37m\u001b[0m \u001b[1m16s\u001b[0m 418ms/step - dice_score: 0.7157 - iou_score: 0.5581 - loss: 0.3067 - val_dice_score: 0.6163 - val_iou_score: 0.4490 - val_loss: 0.4001 - learning_rate: 0.0010\n",
      "Epoch 68/300\n",
      "\u001b[1m38/38\u001b[0m \u001b[32m━━━━━━━━━━━━━━━━━━━━\u001b[0m\u001b[37m\u001b[0m \u001b[1m16s\u001b[0m 419ms/step - dice_score: 0.7099 - iou_score: 0.5511 - loss: 0.3133 - val_dice_score: 0.5854 - val_iou_score: 0.4164 - val_loss: 0.4306 - learning_rate: 0.0010\n",
      "Epoch 69/300\n",
      "\u001b[1m38/38\u001b[0m \u001b[32m━━━━━━━━━━━━━━━━━━━━\u001b[0m\u001b[37m\u001b[0m \u001b[1m16s\u001b[0m 429ms/step - dice_score: 0.7093 - iou_score: 0.5511 - loss: 0.3140 - val_dice_score: 0.6503 - val_iou_score: 0.4839 - val_loss: 0.3622 - learning_rate: 0.0010\n",
      "Epoch 70/300\n",
      "\u001b[1m38/38\u001b[0m \u001b[32m━━━━━━━━━━━━━━━━━━━━\u001b[0m\u001b[37m\u001b[0m \u001b[1m16s\u001b[0m 429ms/step - dice_score: 0.7259 - iou_score: 0.5708 - loss: 0.2956 - val_dice_score: 0.6619 - val_iou_score: 0.4965 - val_loss: 0.3742 - learning_rate: 0.0010\n",
      "Epoch 71/300\n",
      "\u001b[1m38/38\u001b[0m \u001b[32m━━━━━━━━━━━━━━━━━━━━\u001b[0m\u001b[37m\u001b[0m \u001b[1m17s\u001b[0m 435ms/step - dice_score: 0.7497 - iou_score: 0.6006 - loss: 0.2759 - val_dice_score: 0.6743 - val_iou_score: 0.5103 - val_loss: 0.3597 - learning_rate: 0.0010\n",
      "Epoch 72/300\n",
      "\u001b[1m38/38\u001b[0m \u001b[32m━━━━━━━━━━━━━━━━━━━━\u001b[0m\u001b[37m\u001b[0m \u001b[1m16s\u001b[0m 430ms/step - dice_score: 0.7647 - iou_score: 0.6204 - loss: 0.2645 - val_dice_score: 0.6746 - val_iou_score: 0.5107 - val_loss: 0.3576 - learning_rate: 0.0010\n",
      "Epoch 73/300\n",
      "\u001b[1m38/38\u001b[0m \u001b[32m━━━━━━━━━━━━━━━━━━━━\u001b[0m\u001b[37m\u001b[0m \u001b[1m16s\u001b[0m 433ms/step - dice_score: 0.7825 - iou_score: 0.6430 - loss: 0.2475 - val_dice_score: 0.6832 - val_iou_score: 0.5202 - val_loss: 0.3720 - learning_rate: 0.0010\n",
      "Epoch 74/300\n",
      "\u001b[1m38/38\u001b[0m \u001b[32m━━━━━━━━━━━━━━━━━━━━\u001b[0m\u001b[37m\u001b[0m \u001b[1m16s\u001b[0m 429ms/step - dice_score: 0.7903 - iou_score: 0.6545 - loss: 0.2412 - val_dice_score: 0.6743 - val_iou_score: 0.5101 - val_loss: 0.3732 - learning_rate: 0.0010\n",
      "Epoch 75/300\n",
      "\u001b[1m38/38\u001b[0m \u001b[32m━━━━━━━━━━━━━━━━━━━━\u001b[0m\u001b[37m\u001b[0m \u001b[1m16s\u001b[0m 418ms/step - dice_score: 0.7947 - iou_score: 0.6599 - loss: 0.2373 - val_dice_score: 0.6722 - val_iou_score: 0.5079 - val_loss: 0.3702 - learning_rate: 0.0010\n",
      "Epoch 76/300\n",
      "\u001b[1m38/38\u001b[0m \u001b[32m━━━━━━━━━━━━━━━━━━━━\u001b[0m\u001b[37m\u001b[0m \u001b[1m16s\u001b[0m 418ms/step - dice_score: 0.7827 - iou_score: 0.6435 - loss: 0.2479 - val_dice_score: 0.6717 - val_iou_score: 0.5074 - val_loss: 0.3601 - learning_rate: 0.0010\n",
      "Epoch 77/300\n",
      "\u001b[1m38/38\u001b[0m \u001b[32m━━━━━━━━━━━━━━━━━━━━\u001b[0m\u001b[37m\u001b[0m \u001b[1m16s\u001b[0m 419ms/step - dice_score: 0.8062 - iou_score: 0.6758 - loss: 0.2271 - val_dice_score: 0.6600 - val_iou_score: 0.4942 - val_loss: 0.3640 - learning_rate: 0.0010\n",
      "Epoch 78/300\n",
      "\u001b[1m38/38\u001b[0m \u001b[32m━━━━━━━━━━━━━━━━━━━━\u001b[0m\u001b[37m\u001b[0m \u001b[1m16s\u001b[0m 420ms/step - dice_score: 0.8112 - iou_score: 0.6830 - loss: 0.2207 - val_dice_score: 0.6670 - val_iou_score: 0.5018 - val_loss: 0.3557 - learning_rate: 0.0010\n",
      "Epoch 79/300\n",
      "\u001b[1m38/38\u001b[0m \u001b[32m━━━━━━━━━━━━━━━━━━━━\u001b[0m\u001b[37m\u001b[0m \u001b[1m16s\u001b[0m 430ms/step - dice_score: 0.8243 - iou_score: 0.7018 - loss: 0.2062 - val_dice_score: 0.6903 - val_iou_score: 0.5289 - val_loss: 0.3825 - learning_rate: 0.0010\n",
      "Epoch 80/300\n",
      "\u001b[1m38/38\u001b[0m \u001b[32m━━━━━━━━━━━━━━━━━━━━\u001b[0m\u001b[37m\u001b[0m \u001b[1m16s\u001b[0m 428ms/step - dice_score: 0.8233 - iou_score: 0.7003 - loss: 0.2107 - val_dice_score: 0.6675 - val_iou_score: 0.5030 - val_loss: 0.3600 - learning_rate: 0.0010\n",
      "Epoch 81/300\n",
      "\u001b[1m38/38\u001b[0m \u001b[32m━━━━━━━━━━━━━━━━━━━━\u001b[0m\u001b[37m\u001b[0m \u001b[1m16s\u001b[0m 420ms/step - dice_score: 0.8325 - iou_score: 0.7135 - loss: 0.1980 - val_dice_score: 0.6799 - val_iou_score: 0.5167 - val_loss: 0.3756 - learning_rate: 0.0010\n",
      "Epoch 82/300\n",
      "\u001b[1m38/38\u001b[0m \u001b[32m━━━━━━━━━━━━━━━━━━━━\u001b[0m\u001b[37m\u001b[0m \u001b[1m16s\u001b[0m 422ms/step - dice_score: 0.8370 - iou_score: 0.7205 - loss: 0.1935 - val_dice_score: 0.6783 - val_iou_score: 0.5148 - val_loss: 0.3623 - learning_rate: 0.0010\n",
      "Epoch 83/300\n",
      "\u001b[1m38/38\u001b[0m \u001b[32m━━━━━━━━━━━━━━━━━━━━\u001b[0m\u001b[37m\u001b[0m \u001b[1m16s\u001b[0m 423ms/step - dice_score: 0.8491 - iou_score: 0.7383 - loss: 0.1821 - val_dice_score: 0.6890 - val_iou_score: 0.5269 - val_loss: 0.3655 - learning_rate: 0.0010\n",
      "Epoch 84/300\n",
      "\u001b[1m38/38\u001b[0m \u001b[32m━━━━━━━━━━━━━━━━━━━━\u001b[0m\u001b[37m\u001b[0m \u001b[1m17s\u001b[0m 434ms/step - dice_score: 0.8376 - iou_score: 0.7212 - loss: 0.1932 - val_dice_score: 0.6937 - val_iou_score: 0.5327 - val_loss: 0.3674 - learning_rate: 0.0010\n",
      "Epoch 85/300\n",
      "\u001b[1m38/38\u001b[0m \u001b[32m━━━━━━━━━━━━━━━━━━━━\u001b[0m\u001b[37m\u001b[0m \u001b[1m16s\u001b[0m 418ms/step - dice_score: 0.8646 - iou_score: 0.7622 - loss: 0.1648 - val_dice_score: 0.6922 - val_iou_score: 0.5312 - val_loss: 0.3589 - learning_rate: 0.0010\n",
      "Epoch 86/300\n",
      "\u001b[1m38/38\u001b[0m \u001b[32m━━━━━━━━━━━━━━━━━━━━\u001b[0m\u001b[37m\u001b[0m \u001b[1m16s\u001b[0m 419ms/step - dice_score: 0.8633 - iou_score: 0.7598 - loss: 0.1673 - val_dice_score: 0.6866 - val_iou_score: 0.5245 - val_loss: 0.3750 - learning_rate: 0.0010\n",
      "Epoch 87/300\n",
      "\u001b[1m38/38\u001b[0m \u001b[32m━━━━━━━━━━━━━━━━━━━━\u001b[0m\u001b[37m\u001b[0m \u001b[1m16s\u001b[0m 419ms/step - dice_score: 0.8684 - iou_score: 0.7678 - loss: 0.1605 - val_dice_score: 0.6832 - val_iou_score: 0.5204 - val_loss: 0.3611 - learning_rate: 0.0010\n",
      "Epoch 88/300\n",
      "\u001b[1m38/38\u001b[0m \u001b[32m━━━━━━━━━━━━━━━━━━━━\u001b[0m\u001b[37m\u001b[0m \u001b[1m16s\u001b[0m 419ms/step - dice_score: 0.8638 - iou_score: 0.7606 - loss: 0.1658 - val_dice_score: 0.6866 - val_iou_score: 0.5249 - val_loss: 0.3673 - learning_rate: 0.0010\n",
      "Epoch 89/300\n",
      "\u001b[1m38/38\u001b[0m \u001b[32m━━━━━━━━━━━━━━━━━━━━\u001b[0m\u001b[37m\u001b[0m \u001b[1m16s\u001b[0m 429ms/step - dice_score: 0.8777 - iou_score: 0.7824 - loss: 0.1506 - val_dice_score: 0.6977 - val_iou_score: 0.5375 - val_loss: 0.3719 - learning_rate: 0.0010\n",
      "Epoch 90/300\n",
      "\u001b[1m38/38\u001b[0m \u001b[32m━━━━━━━━━━━━━━━━━━━━\u001b[0m\u001b[37m\u001b[0m \u001b[1m16s\u001b[0m 427ms/step - dice_score: 0.8893 - iou_score: 0.8008 - loss: 0.1391 - val_dice_score: 0.6874 - val_iou_score: 0.5251 - val_loss: 0.3690 - learning_rate: 0.0010\n",
      "Epoch 91/300\n",
      "\u001b[1m38/38\u001b[0m \u001b[32m━━━━━━━━━━━━━━━━━━━━\u001b[0m\u001b[37m\u001b[0m \u001b[1m16s\u001b[0m 419ms/step - dice_score: 0.8866 - iou_score: 0.7966 - loss: 0.1395 - val_dice_score: 0.6960 - val_iou_score: 0.5356 - val_loss: 0.3823 - learning_rate: 0.0010\n",
      "Epoch 92/300\n",
      "\u001b[1m38/38\u001b[0m \u001b[32m━━━━━━━━━━━━━━━━━━━━\u001b[0m\u001b[37m\u001b[0m \u001b[1m16s\u001b[0m 422ms/step - dice_score: 0.8993 - iou_score: 0.8172 - loss: 0.1288 - val_dice_score: 0.6943 - val_iou_score: 0.5339 - val_loss: 0.3987 - learning_rate: 0.0010\n",
      "Epoch 93/300\n",
      "\u001b[1m38/38\u001b[0m \u001b[32m━━━━━━━━━━━━━━━━━━━━\u001b[0m\u001b[37m\u001b[0m \u001b[1m16s\u001b[0m 422ms/step - dice_score: 0.9027 - iou_score: 0.8229 - loss: 0.1229 - val_dice_score: 0.6888 - val_iou_score: 0.5268 - val_loss: 0.3787 - learning_rate: 0.0010\n",
      "Epoch 94/300\n",
      "\u001b[1m38/38\u001b[0m \u001b[32m━━━━━━━━━━━━━━━━━━━━\u001b[0m\u001b[37m\u001b[0m \u001b[1m16s\u001b[0m 427ms/step - dice_score: 0.8884 - iou_score: 0.7995 - loss: 0.1392 - val_dice_score: 0.6860 - val_iou_score: 0.5240 - val_loss: 0.3778 - learning_rate: 0.0010\n",
      "Epoch 95/300\n",
      "\u001b[1m38/38\u001b[0m \u001b[32m━━━━━━━━━━━━━━━━━━━━\u001b[0m\u001b[37m\u001b[0m \u001b[1m16s\u001b[0m 419ms/step - dice_score: 0.8713 - iou_score: 0.7727 - loss: 0.1577 - val_dice_score: 0.6848 - val_iou_score: 0.5220 - val_loss: 0.3913 - learning_rate: 0.0010\n",
      "Epoch 96/300\n",
      "\u001b[1m38/38\u001b[0m \u001b[32m━━━━━━━━━━━━━━━━━━━━\u001b[0m\u001b[37m\u001b[0m \u001b[1m16s\u001b[0m 419ms/step - dice_score: 0.8844 - iou_score: 0.7932 - loss: 0.1408 - val_dice_score: 0.6831 - val_iou_score: 0.5201 - val_loss: 0.3878 - learning_rate: 0.0010\n",
      "Epoch 97/300\n",
      "\u001b[1m38/38\u001b[0m \u001b[32m━━━━━━━━━━━━━━━━━━━━\u001b[0m\u001b[37m\u001b[0m \u001b[1m16s\u001b[0m 430ms/step - dice_score: 0.9083 - iou_score: 0.8322 - loss: 0.1186 - val_dice_score: 0.7168 - val_iou_score: 0.5601 - val_loss: 0.3555 - learning_rate: 0.0010\n",
      "Epoch 98/300\n",
      "\u001b[1m38/38\u001b[0m \u001b[32m━━━━━━━━━━━━━━━━━━━━\u001b[0m\u001b[37m\u001b[0m \u001b[1m16s\u001b[0m 420ms/step - dice_score: 0.9116 - iou_score: 0.8378 - loss: 0.1119 - val_dice_score: 0.7088 - val_iou_score: 0.5507 - val_loss: 0.3675 - learning_rate: 0.0010\n",
      "Epoch 99/300\n",
      "\u001b[1m38/38\u001b[0m \u001b[32m━━━━━━━━━━━━━━━━━━━━\u001b[0m\u001b[37m\u001b[0m \u001b[1m16s\u001b[0m 418ms/step - dice_score: 0.9217 - iou_score: 0.8548 - loss: 0.1010 - val_dice_score: 0.6918 - val_iou_score: 0.5310 - val_loss: 0.3909 - learning_rate: 0.0010\n",
      "Epoch 100/300\n",
      "\u001b[1m38/38\u001b[0m \u001b[32m━━━━━━━━━━━━━━━━━━━━\u001b[0m\u001b[37m\u001b[0m \u001b[1m16s\u001b[0m 419ms/step - dice_score: 0.9211 - iou_score: 0.8538 - loss: 0.1006 - val_dice_score: 0.7108 - val_iou_score: 0.5529 - val_loss: 0.3763 - learning_rate: 0.0010\n",
      "Epoch 101/300\n",
      "\u001b[1m38/38\u001b[0m \u001b[32m━━━━━━━━━━━━━━━━━━━━\u001b[0m\u001b[37m\u001b[0m \u001b[1m16s\u001b[0m 419ms/step - dice_score: 0.9260 - iou_score: 0.8624 - loss: 0.0951 - val_dice_score: 0.7047 - val_iou_score: 0.5463 - val_loss: 0.3991 - learning_rate: 0.0010\n",
      "Epoch 102/300\n",
      "\u001b[1m38/38\u001b[0m \u001b[32m━━━━━━━━━━━━━━━━━━━━\u001b[0m\u001b[37m\u001b[0m \u001b[1m16s\u001b[0m 425ms/step - dice_score: 0.9299 - iou_score: 0.8692 - loss: 0.0905 - val_dice_score: 0.7057 - val_iou_score: 0.5469 - val_loss: 0.3844 - learning_rate: 0.0010\n",
      "Epoch 103/300\n",
      "\u001b[1m38/38\u001b[0m \u001b[32m━━━━━━━━━━━━━━━━━━━━\u001b[0m\u001b[37m\u001b[0m \u001b[1m16s\u001b[0m 418ms/step - dice_score: 0.9291 - iou_score: 0.8677 - loss: 0.0907 - val_dice_score: 0.7079 - val_iou_score: 0.5502 - val_loss: 0.3806 - learning_rate: 0.0010\n",
      "Epoch 104/300\n",
      "\u001b[1m38/38\u001b[0m \u001b[32m━━━━━━━━━━━━━━━━━━━━\u001b[0m\u001b[37m\u001b[0m \u001b[1m16s\u001b[0m 418ms/step - dice_score: 0.9311 - iou_score: 0.8712 - loss: 0.0882 - val_dice_score: 0.7049 - val_iou_score: 0.5465 - val_loss: 0.3905 - learning_rate: 0.0010\n",
      "Epoch 105/300\n",
      "\u001b[1m38/38\u001b[0m \u001b[32m━━━━━━━━━━━━━━━━━━━━\u001b[0m\u001b[37m\u001b[0m \u001b[1m16s\u001b[0m 419ms/step - dice_score: 0.9304 - iou_score: 0.8699 - loss: 0.0903 - val_dice_score: 0.6966 - val_iou_score: 0.5359 - val_loss: 0.3905 - learning_rate: 0.0010\n",
      "Epoch 106/300\n",
      "\u001b[1m38/38\u001b[0m \u001b[32m━━━━━━━━━━━━━━━━━━━━\u001b[0m\u001b[37m\u001b[0m \u001b[1m16s\u001b[0m 420ms/step - dice_score: 0.9279 - iou_score: 0.8656 - loss: 0.0922 - val_dice_score: 0.6896 - val_iou_score: 0.5277 - val_loss: 0.4095 - learning_rate: 0.0010\n",
      "Epoch 107/300\n",
      "\u001b[1m38/38\u001b[0m \u001b[32m━━━━━━━━━━━━━━━━━━━━\u001b[0m\u001b[37m\u001b[0m \u001b[1m16s\u001b[0m 421ms/step - dice_score: 0.9318 - iou_score: 0.8724 - loss: 0.0879 - val_dice_score: 0.7026 - val_iou_score: 0.5435 - val_loss: 0.3834 - learning_rate: 0.0010\n",
      "Epoch 108/300\n",
      "\u001b[1m38/38\u001b[0m \u001b[32m━━━━━━━━━━━━━━━━━━━━\u001b[0m\u001b[37m\u001b[0m \u001b[1m16s\u001b[0m 422ms/step - dice_score: 0.9404 - iou_score: 0.8875 - loss: 0.0768 - val_dice_score: 0.7114 - val_iou_score: 0.5538 - val_loss: 0.3847 - learning_rate: 0.0010\n",
      "Epoch 109/300\n",
      "\u001b[1m38/38\u001b[0m \u001b[32m━━━━━━━━━━━━━━━━━━━━\u001b[0m\u001b[37m\u001b[0m \u001b[1m16s\u001b[0m 419ms/step - dice_score: 0.9454 - iou_score: 0.8965 - loss: 0.0708 - val_dice_score: 0.7065 - val_iou_score: 0.5480 - val_loss: 0.3990 - learning_rate: 0.0010\n",
      "Epoch 110/300\n",
      "\u001b[1m38/38\u001b[0m \u001b[32m━━━━━━━━━━━━━━━━━━━━\u001b[0m\u001b[37m\u001b[0m \u001b[1m16s\u001b[0m 418ms/step - dice_score: 0.9468 - iou_score: 0.8990 - loss: 0.0693 - val_dice_score: 0.7085 - val_iou_score: 0.5504 - val_loss: 0.3949 - learning_rate: 0.0010\n",
      "Epoch 111/300\n",
      "\u001b[1m38/38\u001b[0m \u001b[32m━━━━━━━━━━━━━━━━━━━━\u001b[0m\u001b[37m\u001b[0m \u001b[1m16s\u001b[0m 417ms/step - dice_score: 0.9475 - iou_score: 0.9003 - loss: 0.0681 - val_dice_score: 0.7089 - val_iou_score: 0.5509 - val_loss: 0.4082 - learning_rate: 0.0010\n",
      "Epoch 112/300\n",
      "\u001b[1m38/38\u001b[0m \u001b[32m━━━━━━━━━━━━━━━━━━━━\u001b[0m\u001b[37m\u001b[0m \u001b[1m16s\u001b[0m 419ms/step - dice_score: 0.9518 - iou_score: 0.9082 - loss: 0.0624 - val_dice_score: 0.7047 - val_iou_score: 0.5458 - val_loss: 0.4060 - learning_rate: 0.0010\n",
      "Epoch 113/300\n",
      "\u001b[1m38/38\u001b[0m \u001b[32m━━━━━━━━━━━━━━━━━━━━\u001b[0m\u001b[37m\u001b[0m \u001b[1m16s\u001b[0m 418ms/step - dice_score: 0.9523 - iou_score: 0.9090 - loss: 0.0617 - val_dice_score: 0.7085 - val_iou_score: 0.5501 - val_loss: 0.4068 - learning_rate: 0.0010\n",
      "Epoch 114/300\n",
      "\u001b[1m38/38\u001b[0m \u001b[32m━━━━━━━━━━━━━━━━━━━━\u001b[0m\u001b[37m\u001b[0m \u001b[1m16s\u001b[0m 419ms/step - dice_score: 0.9547 - iou_score: 0.9133 - loss: 0.0594 - val_dice_score: 0.7051 - val_iou_score: 0.5461 - val_loss: 0.4188 - learning_rate: 0.0010\n",
      "Epoch 115/300\n",
      "\u001b[1m38/38\u001b[0m \u001b[32m━━━━━━━━━━━━━━━━━━━━\u001b[0m\u001b[37m\u001b[0m \u001b[1m16s\u001b[0m 418ms/step - dice_score: 0.9558 - iou_score: 0.9154 - loss: 0.0583 - val_dice_score: 0.7058 - val_iou_score: 0.5469 - val_loss: 0.4079 - learning_rate: 0.0010\n",
      "Epoch 116/300\n",
      "\u001b[1m38/38\u001b[0m \u001b[32m━━━━━━━━━━━━━━━━━━━━\u001b[0m\u001b[37m\u001b[0m \u001b[1m16s\u001b[0m 419ms/step - dice_score: 0.9573 - iou_score: 0.9181 - loss: 0.0557 - val_dice_score: 0.7092 - val_iou_score: 0.5508 - val_loss: 0.4128 - learning_rate: 0.0010\n",
      "Epoch 117/300\n",
      "\u001b[1m38/38\u001b[0m \u001b[32m━━━━━━━━━━━━━━━━━━━━\u001b[0m\u001b[37m\u001b[0m \u001b[1m16s\u001b[0m 423ms/step - dice_score: 0.9579 - iou_score: 0.9192 - loss: 0.0547 - val_dice_score: 0.7088 - val_iou_score: 0.5507 - val_loss: 0.4216 - learning_rate: 0.0010\n",
      "Epoch 118/300\n",
      "\u001b[1m38/38\u001b[0m \u001b[32m━━━━━━━━━━━━━━━━━━━━\u001b[0m\u001b[37m\u001b[0m \u001b[1m16s\u001b[0m 422ms/step - dice_score: 0.9612 - iou_score: 0.9254 - loss: 0.0503 - val_dice_score: 0.7131 - val_iou_score: 0.5557 - val_loss: 0.4126 - learning_rate: 5.0000e-04\n",
      "Epoch 119/300\n",
      "\u001b[1m38/38\u001b[0m \u001b[32m━━━━━━━━━━━━━━━━━━━━\u001b[0m\u001b[37m\u001b[0m \u001b[1m16s\u001b[0m 419ms/step - dice_score: 0.9665 - iou_score: 0.9352 - loss: 0.0440 - val_dice_score: 0.7099 - val_iou_score: 0.5519 - val_loss: 0.4285 - learning_rate: 5.0000e-04\n",
      "Epoch 120/300\n",
      "\u001b[1m38/38\u001b[0m \u001b[32m━━━━━━━━━━━━━━━━━━━━\u001b[0m\u001b[37m\u001b[0m \u001b[1m16s\u001b[0m 421ms/step - dice_score: 0.9680 - iou_score: 0.9380 - loss: 0.0427 - val_dice_score: 0.7126 - val_iou_score: 0.5551 - val_loss: 0.4269 - learning_rate: 5.0000e-04\n",
      "Epoch 121/300\n",
      "\u001b[1m38/38\u001b[0m \u001b[32m━━━━━━━━━━━━━━━━━━━━\u001b[0m\u001b[37m\u001b[0m \u001b[1m16s\u001b[0m 421ms/step - dice_score: 0.9706 - iou_score: 0.9429 - loss: 0.0392 - val_dice_score: 0.7128 - val_iou_score: 0.5553 - val_loss: 0.4278 - learning_rate: 5.0000e-04\n",
      "Epoch 122/300\n",
      "\u001b[1m38/38\u001b[0m \u001b[32m━━━━━━━━━━━━━━━━━━━━\u001b[0m\u001b[37m\u001b[0m \u001b[1m16s\u001b[0m 421ms/step - dice_score: 0.9721 - iou_score: 0.9458 - loss: 0.0372 - val_dice_score: 0.7100 - val_iou_score: 0.5520 - val_loss: 0.4307 - learning_rate: 5.0000e-04\n",
      "Epoch 123/300\n",
      "\u001b[1m38/38\u001b[0m \u001b[32m━━━━━━━━━━━━━━━━━━━━\u001b[0m\u001b[37m\u001b[0m \u001b[1m16s\u001b[0m 426ms/step - dice_score: 0.9732 - iou_score: 0.9479 - loss: 0.0355 - val_dice_score: 0.7114 - val_iou_score: 0.5535 - val_loss: 0.4359 - learning_rate: 5.0000e-04\n",
      "Epoch 124/300\n",
      "\u001b[1m38/38\u001b[0m \u001b[32m━━━━━━━━━━━━━━━━━━━━\u001b[0m\u001b[37m\u001b[0m \u001b[1m16s\u001b[0m 419ms/step - dice_score: 0.9731 - iou_score: 0.9476 - loss: 0.0360 - val_dice_score: 0.7123 - val_iou_score: 0.5549 - val_loss: 0.4401 - learning_rate: 5.0000e-04\n",
      "Epoch 125/300\n",
      "\u001b[1m38/38\u001b[0m \u001b[32m━━━━━━━━━━━━━━━━━━━━\u001b[0m\u001b[37m\u001b[0m \u001b[1m16s\u001b[0m 418ms/step - dice_score: 0.9736 - iou_score: 0.9485 - loss: 0.0352 - val_dice_score: 0.7092 - val_iou_score: 0.5510 - val_loss: 0.4356 - learning_rate: 5.0000e-04\n",
      "Epoch 126/300\n",
      "\u001b[1m38/38\u001b[0m \u001b[32m━━━━━━━━━━━━━━━━━━━━\u001b[0m\u001b[37m\u001b[0m \u001b[1m16s\u001b[0m 419ms/step - dice_score: 0.9741 - iou_score: 0.9495 - loss: 0.0345 - val_dice_score: 0.7095 - val_iou_score: 0.5515 - val_loss: 0.4491 - learning_rate: 5.0000e-04\n",
      "Epoch 127/300\n",
      "\u001b[1m38/38\u001b[0m \u001b[32m━━━━━━━━━━━━━━━━━━━━\u001b[0m\u001b[37m\u001b[0m \u001b[1m16s\u001b[0m 419ms/step - dice_score: 0.9749 - iou_score: 0.9511 - loss: 0.0334 - val_dice_score: 0.7111 - val_iou_score: 0.5533 - val_loss: 0.4377 - learning_rate: 5.0000e-04\n",
      "Epoch 128/300\n",
      "\u001b[1m38/38\u001b[0m \u001b[32m━━━━━━━━━━━━━━━━━━━━\u001b[0m\u001b[37m\u001b[0m \u001b[1m16s\u001b[0m 419ms/step - dice_score: 0.9749 - iou_score: 0.9510 - loss: 0.0331 - val_dice_score: 0.7092 - val_iou_score: 0.5512 - val_loss: 0.4511 - learning_rate: 5.0000e-04\n",
      "Epoch 129/300\n",
      "\u001b[1m38/38\u001b[0m \u001b[32m━━━━━━━━━━━━━━━━━━━━\u001b[0m\u001b[37m\u001b[0m \u001b[1m16s\u001b[0m 419ms/step - dice_score: 0.9748 - iou_score: 0.9509 - loss: 0.0335 - val_dice_score: 0.7096 - val_iou_score: 0.5515 - val_loss: 0.4496 - learning_rate: 5.0000e-04\n",
      "Epoch 130/300\n",
      "\u001b[1m38/38\u001b[0m \u001b[32m━━━━━━━━━━━━━━━━━━━━\u001b[0m\u001b[37m\u001b[0m \u001b[1m16s\u001b[0m 419ms/step - dice_score: 0.9758 - iou_score: 0.9527 - loss: 0.0322 - val_dice_score: 0.7117 - val_iou_score: 0.5541 - val_loss: 0.4492 - learning_rate: 5.0000e-04\n",
      "Epoch 131/300\n",
      "\u001b[1m38/38\u001b[0m \u001b[32m━━━━━━━━━━━━━━━━━━━━\u001b[0m\u001b[37m\u001b[0m \u001b[1m16s\u001b[0m 419ms/step - dice_score: 0.9758 - iou_score: 0.9528 - loss: 0.0320 - val_dice_score: 0.7105 - val_iou_score: 0.5527 - val_loss: 0.4491 - learning_rate: 5.0000e-04\n",
      "Epoch 132/300\n",
      "\u001b[1m38/38\u001b[0m \u001b[32m━━━━━━━━━━━━━━━━━━━━\u001b[0m\u001b[37m\u001b[0m \u001b[1m16s\u001b[0m 420ms/step - dice_score: 0.9763 - iou_score: 0.9538 - loss: 0.0311 - val_dice_score: 0.7110 - val_iou_score: 0.5532 - val_loss: 0.4532 - learning_rate: 5.0000e-04\n",
      "Epoch 133/300\n",
      "\u001b[1m38/38\u001b[0m \u001b[32m━━━━━━━━━━━━━━━━━━━━\u001b[0m\u001b[37m\u001b[0m \u001b[1m16s\u001b[0m 425ms/step - dice_score: 0.9768 - iou_score: 0.9548 - loss: 0.0307 - val_dice_score: 0.7103 - val_iou_score: 0.5525 - val_loss: 0.4587 - learning_rate: 5.0000e-04\n",
      "Epoch 134/300\n",
      "\u001b[1m38/38\u001b[0m \u001b[32m━━━━━━━━━━━━━━━━━━━━\u001b[0m\u001b[37m\u001b[0m \u001b[1m16s\u001b[0m 420ms/step - dice_score: 0.9771 - iou_score: 0.9553 - loss: 0.0305 - val_dice_score: 0.7119 - val_iou_score: 0.5545 - val_loss: 0.4516 - learning_rate: 5.0000e-04\n",
      "Epoch 135/300\n",
      "\u001b[1m38/38\u001b[0m \u001b[32m━━━━━━━━━━━━━━━━━━━━\u001b[0m\u001b[37m\u001b[0m \u001b[1m16s\u001b[0m 421ms/step - dice_score: 0.9785 - iou_score: 0.9579 - loss: 0.0289 - val_dice_score: 0.7103 - val_iou_score: 0.5524 - val_loss: 0.4532 - learning_rate: 5.0000e-04\n",
      "Epoch 136/300\n",
      "\u001b[1m38/38\u001b[0m \u001b[32m━━━━━━━━━━━━━━━━━━━━\u001b[0m\u001b[37m\u001b[0m \u001b[1m16s\u001b[0m 421ms/step - dice_score: 0.9780 - iou_score: 0.9570 - loss: 0.0291 - val_dice_score: 0.7107 - val_iou_score: 0.5528 - val_loss: 0.4585 - learning_rate: 5.0000e-04\n",
      "Epoch 137/300\n",
      "\u001b[1m38/38\u001b[0m \u001b[32m━━━━━━━━━━━━━━━━━━━━\u001b[0m\u001b[37m\u001b[0m \u001b[1m16s\u001b[0m 421ms/step - dice_score: 0.9783 - iou_score: 0.9575 - loss: 0.0288 - val_dice_score: 0.7076 - val_iou_score: 0.5492 - val_loss: 0.4619 - learning_rate: 5.0000e-04\n",
      "Epoch 138/300\n",
      "\u001b[1m38/38\u001b[0m \u001b[32m━━━━━━━━━━━━━━━━━━━━\u001b[0m\u001b[37m\u001b[0m \u001b[1m16s\u001b[0m 424ms/step - dice_score: 0.9799 - iou_score: 0.9606 - loss: 0.0268 - val_dice_score: 0.7090 - val_iou_score: 0.5508 - val_loss: 0.4650 - learning_rate: 2.5000e-04\n",
      "Epoch 139/300\n",
      "\u001b[1m38/38\u001b[0m \u001b[32m━━━━━━━━━━━━━━━━━━━━\u001b[0m\u001b[37m\u001b[0m \u001b[1m16s\u001b[0m 417ms/step - dice_score: 0.9821 - iou_score: 0.9648 - loss: 0.0238 - val_dice_score: 0.7088 - val_iou_score: 0.5507 - val_loss: 0.4738 - learning_rate: 2.5000e-04\n",
      "Epoch 140/300\n",
      "\u001b[1m38/38\u001b[0m \u001b[32m━━━━━━━━━━━━━━━━━━━━\u001b[0m\u001b[37m\u001b[0m \u001b[1m16s\u001b[0m 418ms/step - dice_score: 0.9832 - iou_score: 0.9670 - loss: 0.0224 - val_dice_score: 0.7098 - val_iou_score: 0.5519 - val_loss: 0.4767 - learning_rate: 2.5000e-04\n",
      "Epoch 141/300\n",
      "\u001b[1m38/38\u001b[0m \u001b[32m━━━━━━━━━━━━━━━━━━━━\u001b[0m\u001b[37m\u001b[0m \u001b[1m16s\u001b[0m 418ms/step - dice_score: 0.9836 - iou_score: 0.9678 - loss: 0.0218 - val_dice_score: 0.7093 - val_iou_score: 0.5512 - val_loss: 0.4797 - learning_rate: 2.5000e-04\n",
      "Epoch 142/300\n",
      "\u001b[1m38/38\u001b[0m \u001b[32m━━━━━━━━━━━━━━━━━━━━\u001b[0m\u001b[37m\u001b[0m \u001b[1m16s\u001b[0m 419ms/step - dice_score: 0.9841 - iou_score: 0.9688 - loss: 0.0212 - val_dice_score: 0.7101 - val_iou_score: 0.5522 - val_loss: 0.4780 - learning_rate: 2.5000e-04\n",
      "Epoch 143/300\n",
      "\u001b[1m38/38\u001b[0m \u001b[32m━━━━━━━━━━━━━━━━━━━━\u001b[0m\u001b[37m\u001b[0m \u001b[1m16s\u001b[0m 419ms/step - dice_score: 0.9840 - iou_score: 0.9686 - loss: 0.0214 - val_dice_score: 0.7101 - val_iou_score: 0.5522 - val_loss: 0.4826 - learning_rate: 2.5000e-04\n",
      "Epoch 144/300\n",
      "\u001b[1m38/38\u001b[0m \u001b[32m━━━━━━━━━━━━━━━━━━━━\u001b[0m\u001b[37m\u001b[0m \u001b[1m16s\u001b[0m 419ms/step - dice_score: 0.9848 - iou_score: 0.9701 - loss: 0.0205 - val_dice_score: 0.7102 - val_iou_score: 0.5523 - val_loss: 0.4813 - learning_rate: 2.5000e-04\n",
      "Epoch 145/300\n",
      "\u001b[1m38/38\u001b[0m \u001b[32m━━━━━━━━━━━━━━━━━━━━\u001b[0m\u001b[37m\u001b[0m \u001b[1m16s\u001b[0m 420ms/step - dice_score: 0.9848 - iou_score: 0.9701 - loss: 0.0205 - val_dice_score: 0.7086 - val_iou_score: 0.5504 - val_loss: 0.4851 - learning_rate: 2.5000e-04\n",
      "Epoch 146/300\n",
      "\u001b[1m38/38\u001b[0m \u001b[32m━━━━━━━━━━━━━━━━━━━━\u001b[0m\u001b[37m\u001b[0m \u001b[1m16s\u001b[0m 420ms/step - dice_score: 0.9848 - iou_score: 0.9700 - loss: 0.0205 - val_dice_score: 0.7081 - val_iou_score: 0.5497 - val_loss: 0.4813 - learning_rate: 2.5000e-04\n",
      "Epoch 147/300\n",
      "\u001b[1m38/38\u001b[0m \u001b[32m━━━━━━━━━━━━━━━━━━━━\u001b[0m\u001b[37m\u001b[0m \u001b[1m16s\u001b[0m 426ms/step - dice_score: 0.9841 - iou_score: 0.9687 - loss: 0.0215 - val_dice_score: 0.7096 - val_iou_score: 0.5516 - val_loss: 0.4854 - learning_rate: 2.5000e-04\n",
      "Epoch 148/300\n",
      "\u001b[1m38/38\u001b[0m \u001b[32m━━━━━━━━━━━━━━━━━━━━\u001b[0m\u001b[37m\u001b[0m \u001b[1m16s\u001b[0m 420ms/step - dice_score: 0.9848 - iou_score: 0.9700 - loss: 0.0205 - val_dice_score: 0.7084 - val_iou_score: 0.5500 - val_loss: 0.4808 - learning_rate: 2.5000e-04\n",
      "Epoch 149/300\n",
      "\u001b[1m38/38\u001b[0m \u001b[32m━━━━━━━━━━━━━━━━━━━━\u001b[0m\u001b[37m\u001b[0m \u001b[1m16s\u001b[0m 421ms/step - dice_score: 0.9845 - iou_score: 0.9694 - loss: 0.0208 - val_dice_score: 0.7086 - val_iou_score: 0.5502 - val_loss: 0.4742 - learning_rate: 2.5000e-04\n",
      "Epoch 150/300\n",
      "\u001b[1m38/38\u001b[0m \u001b[32m━━━━━━━━━━━━━━━━━━━━\u001b[0m\u001b[37m\u001b[0m \u001b[1m16s\u001b[0m 421ms/step - dice_score: 0.9848 - iou_score: 0.9700 - loss: 0.0203 - val_dice_score: 0.7082 - val_iou_score: 0.5499 - val_loss: 0.4808 - learning_rate: 2.5000e-04\n",
      "Epoch 151/300\n",
      "\u001b[1m38/38\u001b[0m \u001b[32m━━━━━━━━━━━━━━━━━━━━\u001b[0m\u001b[37m\u001b[0m \u001b[1m16s\u001b[0m 421ms/step - dice_score: 0.9847 - iou_score: 0.9698 - loss: 0.0205 - val_dice_score: 0.7082 - val_iou_score: 0.5498 - val_loss: 0.4851 - learning_rate: 2.5000e-04\n",
      "Epoch 152/300\n",
      "\u001b[1m38/38\u001b[0m \u001b[32m━━━━━━━━━━━━━━━━━━━━\u001b[0m\u001b[37m\u001b[0m \u001b[1m16s\u001b[0m 423ms/step - dice_score: 0.9851 - iou_score: 0.9706 - loss: 0.0200 - val_dice_score: 0.7076 - val_iou_score: 0.5491 - val_loss: 0.4851 - learning_rate: 2.5000e-04\n",
      "Epoch 153/300\n",
      "\u001b[1m38/38\u001b[0m \u001b[32m━━━━━━━━━━━━━━━━━━━━\u001b[0m\u001b[37m\u001b[0m \u001b[1m16s\u001b[0m 422ms/step - dice_score: 0.9849 - iou_score: 0.9703 - loss: 0.0201 - val_dice_score: 0.7084 - val_iou_score: 0.5502 - val_loss: 0.4866 - learning_rate: 2.5000e-04\n",
      "Epoch 154/300\n",
      "\u001b[1m38/38\u001b[0m \u001b[32m━━━━━━━━━━━━━━━━━━━━\u001b[0m\u001b[37m\u001b[0m \u001b[1m16s\u001b[0m 418ms/step - dice_score: 0.9854 - iou_score: 0.9713 - loss: 0.0192 - val_dice_score: 0.7093 - val_iou_score: 0.5512 - val_loss: 0.4849 - learning_rate: 2.5000e-04\n",
      "Epoch 155/300\n",
      "\u001b[1m38/38\u001b[0m \u001b[32m━━━━━━━━━━━━━━━━━━━━\u001b[0m\u001b[37m\u001b[0m \u001b[1m16s\u001b[0m 419ms/step - dice_score: 0.9856 - iou_score: 0.9715 - loss: 0.0193 - val_dice_score: 0.7067 - val_iou_score: 0.5480 - val_loss: 0.4874 - learning_rate: 2.5000e-04\n",
      "Epoch 156/300\n",
      "\u001b[1m38/38\u001b[0m \u001b[32m━━━━━━━━━━━━━━━━━━━━\u001b[0m\u001b[37m\u001b[0m \u001b[1m16s\u001b[0m 419ms/step - dice_score: 0.9858 - iou_score: 0.9719 - loss: 0.0191 - val_dice_score: 0.7073 - val_iou_score: 0.5487 - val_loss: 0.4836 - learning_rate: 2.5000e-04\n",
      "Epoch 157/300\n",
      "\u001b[1m38/38\u001b[0m \u001b[32m━━━━━━━━━━━━━━━━━━━━\u001b[0m\u001b[37m\u001b[0m \u001b[1m16s\u001b[0m 419ms/step - dice_score: 0.9854 - iou_score: 0.9712 - loss: 0.0194 - val_dice_score: 0.7089 - val_iou_score: 0.5508 - val_loss: 0.4888 - learning_rate: 2.5000e-04\n",
      "Epoch 158/300\n",
      "\u001b[1m38/38\u001b[0m \u001b[32m━━━━━━━━━━━━━━━━━━━━\u001b[0m\u001b[37m\u001b[0m \u001b[1m16s\u001b[0m 419ms/step - dice_score: 0.9857 - iou_score: 0.9718 - loss: 0.0190 - val_dice_score: 0.7089 - val_iou_score: 0.5507 - val_loss: 0.4922 - learning_rate: 1.2500e-04\n",
      "Epoch 159/300\n",
      "\u001b[1m38/38\u001b[0m \u001b[32m━━━━━━━━━━━━━━━━━━━━\u001b[0m\u001b[37m\u001b[0m \u001b[1m16s\u001b[0m 419ms/step - dice_score: 0.9868 - iou_score: 0.9740 - loss: 0.0173 - val_dice_score: 0.7079 - val_iou_score: 0.5495 - val_loss: 0.5017 - learning_rate: 1.2500e-04\n",
      "Epoch 160/300\n",
      "\u001b[1m38/38\u001b[0m \u001b[32m━━━━━━━━━━━━━━━━━━━━\u001b[0m\u001b[37m\u001b[0m \u001b[1m16s\u001b[0m 419ms/step - dice_score: 0.9882 - iou_score: 0.9767 - loss: 0.0160 - val_dice_score: 0.7090 - val_iou_score: 0.5508 - val_loss: 0.5037 - learning_rate: 1.2500e-04\n",
      "Epoch 161/300\n",
      "\u001b[1m38/38\u001b[0m \u001b[32m━━━━━━━━━━━━━━━━━━━━\u001b[0m\u001b[37m\u001b[0m \u001b[1m16s\u001b[0m 420ms/step - dice_score: 0.9881 - iou_score: 0.9765 - loss: 0.0160 - val_dice_score: 0.7082 - val_iou_score: 0.5498 - val_loss: 0.5069 - learning_rate: 1.2500e-04\n",
      "Epoch 162/300\n",
      "\u001b[1m38/38\u001b[0m \u001b[32m━━━━━━━━━━━━━━━━━━━━\u001b[0m\u001b[37m\u001b[0m \u001b[1m16s\u001b[0m 422ms/step - dice_score: 0.9881 - iou_score: 0.9766 - loss: 0.0159 - val_dice_score: 0.7088 - val_iou_score: 0.5506 - val_loss: 0.5072 - learning_rate: 1.2500e-04\n",
      "Epoch 163/300\n",
      "\u001b[1m38/38\u001b[0m \u001b[32m━━━━━━━━━━━━━━━━━━━━\u001b[0m\u001b[37m\u001b[0m \u001b[1m16s\u001b[0m 424ms/step - dice_score: 0.9888 - iou_score: 0.9779 - loss: 0.0151 - val_dice_score: 0.7078 - val_iou_score: 0.5494 - val_loss: 0.5088 - learning_rate: 1.2500e-04\n",
      "Epoch 164/300\n",
      "\u001b[1m38/38\u001b[0m \u001b[32m━━━━━━━━━━━━━━━━━━━━\u001b[0m\u001b[37m\u001b[0m \u001b[1m16s\u001b[0m 420ms/step - dice_score: 0.9887 - iou_score: 0.9777 - loss: 0.0151 - val_dice_score: 0.7084 - val_iou_score: 0.5501 - val_loss: 0.5054 - learning_rate: 1.2500e-04\n",
      "Epoch 165/300\n",
      "\u001b[1m38/38\u001b[0m \u001b[32m━━━━━━━━━━━━━━━━━━━━\u001b[0m\u001b[37m\u001b[0m \u001b[1m16s\u001b[0m 421ms/step - dice_score: 0.9886 - iou_score: 0.9774 - loss: 0.0154 - val_dice_score: 0.7075 - val_iou_score: 0.5491 - val_loss: 0.5072 - learning_rate: 1.2500e-04\n",
      "Epoch 166/300\n",
      "\u001b[1m38/38\u001b[0m \u001b[32m━━━━━━━━━━━━━━━━━━━━\u001b[0m\u001b[37m\u001b[0m \u001b[1m16s\u001b[0m 422ms/step - dice_score: 0.9886 - iou_score: 0.9774 - loss: 0.0154 - val_dice_score: 0.7082 - val_iou_score: 0.5498 - val_loss: 0.5094 - learning_rate: 1.2500e-04\n",
      "Epoch 167/300\n",
      "\u001b[1m38/38\u001b[0m \u001b[32m━━━━━━━━━━━━━━━━━━━━\u001b[0m\u001b[37m\u001b[0m \u001b[1m16s\u001b[0m 421ms/step - dice_score: 0.9891 - iou_score: 0.9784 - loss: 0.0147 - val_dice_score: 0.7075 - val_iou_score: 0.5491 - val_loss: 0.5042 - learning_rate: 1.2500e-04\n",
      "Epoch 168/300\n",
      "\u001b[1m38/38\u001b[0m \u001b[32m━━━━━━━━━━━━━━━━━━━━\u001b[0m\u001b[37m\u001b[0m \u001b[1m16s\u001b[0m 424ms/step - dice_score: 0.9886 - iou_score: 0.9776 - loss: 0.0155 - val_dice_score: 0.7079 - val_iou_score: 0.5495 - val_loss: 0.5108 - learning_rate: 1.2500e-04\n",
      "Epoch 169/300\n",
      "\u001b[1m38/38\u001b[0m \u001b[32m━━━━━━━━━━━━━━━━━━━━\u001b[0m\u001b[37m\u001b[0m \u001b[1m16s\u001b[0m 421ms/step - dice_score: 0.9885 - iou_score: 0.9774 - loss: 0.0154 - val_dice_score: 0.7080 - val_iou_score: 0.5497 - val_loss: 0.5107 - learning_rate: 1.2500e-04\n",
      "Epoch 170/300\n",
      "\u001b[1m38/38\u001b[0m \u001b[32m━━━━━━━━━━━━━━━━━━━━\u001b[0m\u001b[37m\u001b[0m \u001b[1m16s\u001b[0m 419ms/step - dice_score: 0.9893 - iou_score: 0.9787 - loss: 0.0144 - val_dice_score: 0.7075 - val_iou_score: 0.5490 - val_loss: 0.5125 - learning_rate: 1.2500e-04\n",
      "Epoch 171/300\n",
      "\u001b[1m38/38\u001b[0m \u001b[32m━━━━━━━━━━━━━━━━━━━━\u001b[0m\u001b[37m\u001b[0m \u001b[1m16s\u001b[0m 419ms/step - dice_score: 0.9886 - iou_score: 0.9775 - loss: 0.0154 - val_dice_score: 0.7074 - val_iou_score: 0.5489 - val_loss: 0.5102 - learning_rate: 1.2500e-04\n",
      "Epoch 172/300\n",
      "\u001b[1m38/38\u001b[0m \u001b[32m━━━━━━━━━━━━━━━━━━━━\u001b[0m\u001b[37m\u001b[0m \u001b[1m16s\u001b[0m 419ms/step - dice_score: 0.9885 - iou_score: 0.9773 - loss: 0.0155 - val_dice_score: 0.7076 - val_iou_score: 0.5492 - val_loss: 0.5128 - learning_rate: 1.2500e-04\n",
      "Epoch 173/300\n",
      "\u001b[1m38/38\u001b[0m \u001b[32m━━━━━━━━━━━━━━━━━━━━\u001b[0m\u001b[37m\u001b[0m \u001b[1m16s\u001b[0m 419ms/step - dice_score: 0.9886 - iou_score: 0.9775 - loss: 0.0154 - val_dice_score: 0.7071 - val_iou_score: 0.5486 - val_loss: 0.5126 - learning_rate: 1.2500e-04\n",
      "Epoch 174/300\n",
      "\u001b[1m38/38\u001b[0m \u001b[32m━━━━━━━━━━━━━━━━━━━━\u001b[0m\u001b[37m\u001b[0m \u001b[1m16s\u001b[0m 418ms/step - dice_score: 0.9888 - iou_score: 0.9779 - loss: 0.0150 - val_dice_score: 0.7074 - val_iou_score: 0.5490 - val_loss: 0.5117 - learning_rate: 1.2500e-04\n",
      "Epoch 175/300\n",
      "\u001b[1m38/38\u001b[0m \u001b[32m━━━━━━━━━━━━━━━━━━━━\u001b[0m\u001b[37m\u001b[0m \u001b[1m16s\u001b[0m 419ms/step - dice_score: 0.9889 - iou_score: 0.9780 - loss: 0.0150 - val_dice_score: 0.7065 - val_iou_score: 0.5479 - val_loss: 0.5097 - learning_rate: 1.2500e-04\n",
      "Epoch 176/300\n",
      "\u001b[1m38/38\u001b[0m \u001b[32m━━━━━━━━━━━━━━━━━━━━\u001b[0m\u001b[37m\u001b[0m \u001b[1m16s\u001b[0m 419ms/step - dice_score: 0.9889 - iou_score: 0.9781 - loss: 0.0148 - val_dice_score: 0.7072 - val_iou_score: 0.5486 - val_loss: 0.5122 - learning_rate: 1.2500e-04\n",
      "Epoch 177/300\n",
      "\u001b[1m38/38\u001b[0m \u001b[32m━━━━━━━━━━━━━━━━━━━━\u001b[0m\u001b[37m\u001b[0m \u001b[1m16s\u001b[0m 420ms/step - dice_score: 0.9889 - iou_score: 0.9780 - loss: 0.0149 - val_dice_score: 0.7076 - val_iou_score: 0.5492 - val_loss: 0.5139 - learning_rate: 1.2500e-04\n",
      "Epoch 178/300\n",
      "\u001b[1m38/38\u001b[0m \u001b[32m━━━━━━━━━━━━━━━━━━━━\u001b[0m\u001b[37m\u001b[0m \u001b[1m16s\u001b[0m 422ms/step - dice_score: 0.9893 - iou_score: 0.9788 - loss: 0.0144 - val_dice_score: 0.7072 - val_iou_score: 0.5486 - val_loss: 0.5190 - learning_rate: 6.2500e-05\n",
      "Epoch 179/300\n",
      "\u001b[1m38/38\u001b[0m \u001b[32m━━━━━━━━━━━━━━━━━━━━\u001b[0m\u001b[37m\u001b[0m \u001b[1m16s\u001b[0m 423ms/step - dice_score: 0.9897 - iou_score: 0.9797 - loss: 0.0137 - val_dice_score: 0.7074 - val_iou_score: 0.5490 - val_loss: 0.5228 - learning_rate: 6.2500e-05\n",
      "Epoch 180/300\n",
      "\u001b[1m38/38\u001b[0m \u001b[32m━━━━━━━━━━━━━━━━━━━━\u001b[0m\u001b[37m\u001b[0m \u001b[1m16s\u001b[0m 420ms/step - dice_score: 0.9901 - iou_score: 0.9803 - loss: 0.0134 - val_dice_score: 0.7074 - val_iou_score: 0.5489 - val_loss: 0.5254 - learning_rate: 6.2500e-05\n",
      "Epoch 181/300\n",
      "\u001b[1m38/38\u001b[0m \u001b[32m━━━━━━━━━━━━━━━━━━━━\u001b[0m\u001b[37m\u001b[0m \u001b[1m16s\u001b[0m 421ms/step - dice_score: 0.9900 - iou_score: 0.9802 - loss: 0.0135 - val_dice_score: 0.7072 - val_iou_score: 0.5487 - val_loss: 0.5261 - learning_rate: 6.2500e-05\n",
      "Epoch 182/300\n",
      "\u001b[1m38/38\u001b[0m \u001b[32m━━━━━━━━━━━━━━━━━━━━\u001b[0m\u001b[37m\u001b[0m \u001b[1m16s\u001b[0m 421ms/step - dice_score: 0.9898 - iou_score: 0.9798 - loss: 0.0136 - val_dice_score: 0.7071 - val_iou_score: 0.5485 - val_loss: 0.5281 - learning_rate: 6.2500e-05\n",
      "Epoch 183/300\n",
      "\u001b[1m38/38\u001b[0m \u001b[32m━━━━━━━━━━━━━━━━━━━━\u001b[0m\u001b[37m\u001b[0m \u001b[1m16s\u001b[0m 423ms/step - dice_score: 0.9907 - iou_score: 0.9815 - loss: 0.0126 - val_dice_score: 0.7070 - val_iou_score: 0.5484 - val_loss: 0.5271 - learning_rate: 6.2500e-05\n",
      "Epoch 184/300\n",
      "\u001b[1m38/38\u001b[0m \u001b[32m━━━━━━━━━━━━━━━━━━━━\u001b[0m\u001b[37m\u001b[0m \u001b[1m16s\u001b[0m 426ms/step - dice_score: 0.9902 - iou_score: 0.9806 - loss: 0.0134 - val_dice_score: 0.7067 - val_iou_score: 0.5481 - val_loss: 0.5289 - learning_rate: 6.2500e-05\n",
      "Epoch 185/300\n",
      "\u001b[1m38/38\u001b[0m \u001b[32m━━━━━━━━━━━━━━━━━━━━\u001b[0m\u001b[37m\u001b[0m \u001b[1m16s\u001b[0m 420ms/step - dice_score: 0.9906 - iou_score: 0.9813 - loss: 0.0128 - val_dice_score: 0.7068 - val_iou_score: 0.5483 - val_loss: 0.5268 - learning_rate: 6.2500e-05\n",
      "Epoch 186/300\n",
      "\u001b[1m38/38\u001b[0m \u001b[32m━━━━━━━━━━━━━━━━━━━━\u001b[0m\u001b[37m\u001b[0m \u001b[1m16s\u001b[0m 420ms/step - dice_score: 0.9905 - iou_score: 0.9812 - loss: 0.0129 - val_dice_score: 0.7069 - val_iou_score: 0.5483 - val_loss: 0.5278 - learning_rate: 6.2500e-05\n",
      "Epoch 187/300\n",
      "\u001b[1m38/38\u001b[0m \u001b[32m━━━━━━━━━━━━━━━━━━━━\u001b[0m\u001b[37m\u001b[0m \u001b[1m16s\u001b[0m 419ms/step - dice_score: 0.9906 - iou_score: 0.9813 - loss: 0.0128 - val_dice_score: 0.7069 - val_iou_score: 0.5484 - val_loss: 0.5305 - learning_rate: 6.2500e-05\n",
      "Epoch 188/300\n",
      "\u001b[1m38/38\u001b[0m \u001b[32m━━━━━━━━━━━━━━━━━━━━\u001b[0m\u001b[37m\u001b[0m \u001b[1m16s\u001b[0m 418ms/step - dice_score: 0.9908 - iou_score: 0.9817 - loss: 0.0125 - val_dice_score: 0.7071 - val_iou_score: 0.5485 - val_loss: 0.5304 - learning_rate: 6.2500e-05\n",
      "Epoch 189/300\n",
      "\u001b[1m38/38\u001b[0m \u001b[32m━━━━━━━━━━━━━━━━━━━━\u001b[0m\u001b[37m\u001b[0m \u001b[1m16s\u001b[0m 419ms/step - dice_score: 0.9905 - iou_score: 0.9811 - loss: 0.0130 - val_dice_score: 0.7062 - val_iou_score: 0.5475 - val_loss: 0.5297 - learning_rate: 6.2500e-05\n",
      "Epoch 190/300\n",
      "\u001b[1m38/38\u001b[0m \u001b[32m━━━━━━━━━━━━━━━━━━━━\u001b[0m\u001b[37m\u001b[0m \u001b[1m16s\u001b[0m 419ms/step - dice_score: 0.9908 - iou_score: 0.9818 - loss: 0.0124 - val_dice_score: 0.7063 - val_iou_score: 0.5477 - val_loss: 0.5318 - learning_rate: 6.2500e-05\n",
      "Epoch 191/300\n",
      "\u001b[1m38/38\u001b[0m \u001b[32m━━━━━━━━━━━━━━━━━━━━\u001b[0m\u001b[37m\u001b[0m \u001b[1m16s\u001b[0m 419ms/step - dice_score: 0.9911 - iou_score: 0.9823 - loss: 0.0121 - val_dice_score: 0.7065 - val_iou_score: 0.5479 - val_loss: 0.5300 - learning_rate: 6.2500e-05\n",
      "Epoch 192/300\n",
      "\u001b[1m38/38\u001b[0m \u001b[32m━━━━━━━━━━━━━━━━━━━━\u001b[0m\u001b[37m\u001b[0m \u001b[1m16s\u001b[0m 419ms/step - dice_score: 0.9908 - iou_score: 0.9817 - loss: 0.0125 - val_dice_score: 0.7064 - val_iou_score: 0.5477 - val_loss: 0.5307 - learning_rate: 6.2500e-05\n",
      "Epoch 193/300\n",
      "\u001b[1m38/38\u001b[0m \u001b[32m━━━━━━━━━━━━━━━━━━━━\u001b[0m\u001b[37m\u001b[0m \u001b[1m16s\u001b[0m 420ms/step - dice_score: 0.9905 - iou_score: 0.9813 - loss: 0.0127 - val_dice_score: 0.7059 - val_iou_score: 0.5472 - val_loss: 0.5313 - learning_rate: 6.2500e-05\n",
      "Epoch 194/300\n",
      "\u001b[1m38/38\u001b[0m \u001b[32m━━━━━━━━━━━━━━━━━━━━\u001b[0m\u001b[37m\u001b[0m \u001b[1m16s\u001b[0m 427ms/step - dice_score: 0.9905 - iou_score: 0.9812 - loss: 0.0129 - val_dice_score: 0.7067 - val_iou_score: 0.5480 - val_loss: 0.5307 - learning_rate: 6.2500e-05\n",
      "Epoch 195/300\n",
      "\u001b[1m38/38\u001b[0m \u001b[32m━━━━━━━━━━━━━━━━━━━━\u001b[0m\u001b[37m\u001b[0m \u001b[1m16s\u001b[0m 420ms/step - dice_score: 0.9906 - iou_score: 0.9814 - loss: 0.0127 - val_dice_score: 0.7066 - val_iou_score: 0.5479 - val_loss: 0.5320 - learning_rate: 6.2500e-05\n",
      "Epoch 196/300\n",
      "\u001b[1m38/38\u001b[0m \u001b[32m━━━━━━━━━━━━━━━━━━━━\u001b[0m\u001b[37m\u001b[0m \u001b[1m16s\u001b[0m 420ms/step - dice_score: 0.9908 - iou_score: 0.9818 - loss: 0.0123 - val_dice_score: 0.7061 - val_iou_score: 0.5474 - val_loss: 0.5315 - learning_rate: 6.2500e-05\n",
      "Epoch 197/300\n",
      "\u001b[1m38/38\u001b[0m \u001b[32m━━━━━━━━━━━━━━━━━━━━\u001b[0m\u001b[37m\u001b[0m \u001b[1m16s\u001b[0m 421ms/step - dice_score: 0.9908 - iou_score: 0.9817 - loss: 0.0126 - val_dice_score: 0.7065 - val_iou_score: 0.5479 - val_loss: 0.5341 - learning_rate: 6.2500e-05\n",
      "Epoch 198/300\n",
      "\u001b[1m38/38\u001b[0m \u001b[32m━━━━━━━━━━━━━━━━━━━━\u001b[0m\u001b[37m\u001b[0m \u001b[1m16s\u001b[0m 421ms/step - dice_score: 0.9904 - iou_score: 0.9810 - loss: 0.0129 - val_dice_score: 0.7064 - val_iou_score: 0.5478 - val_loss: 0.5354 - learning_rate: 3.1250e-05\n",
      "Epoch 199/300\n",
      "\u001b[1m38/38\u001b[0m \u001b[32m━━━━━━━━━━━━━━━━━━━━\u001b[0m\u001b[37m\u001b[0m \u001b[1m16s\u001b[0m 424ms/step - dice_score: 0.9914 - iou_score: 0.9829 - loss: 0.0117 - val_dice_score: 0.7059 - val_iou_score: 0.5471 - val_loss: 0.5366 - learning_rate: 3.1250e-05\n",
      "Epoch 200/300\n",
      "\u001b[1m38/38\u001b[0m \u001b[32m━━━━━━━━━━━━━━━━━━━━\u001b[0m\u001b[37m\u001b[0m \u001b[1m16s\u001b[0m 424ms/step - dice_score: 0.9911 - iou_score: 0.9824 - loss: 0.0121 - val_dice_score: 0.7060 - val_iou_score: 0.5473 - val_loss: 0.5390 - learning_rate: 3.1250e-05\n",
      "Epoch 201/300\n",
      "\u001b[1m38/38\u001b[0m \u001b[32m━━━━━━━━━━━━━━━━━━━━\u001b[0m\u001b[37m\u001b[0m \u001b[1m16s\u001b[0m 421ms/step - dice_score: 0.9914 - iou_score: 0.9829 - loss: 0.0116 - val_dice_score: 0.7061 - val_iou_score: 0.5473 - val_loss: 0.5382 - learning_rate: 3.1250e-05\n",
      "Epoch 202/300\n",
      "\u001b[1m38/38\u001b[0m \u001b[32m━━━━━━━━━━━━━━━━━━━━\u001b[0m\u001b[37m\u001b[0m \u001b[1m16s\u001b[0m 419ms/step - dice_score: 0.9913 - iou_score: 0.9828 - loss: 0.0118 - val_dice_score: 0.7061 - val_iou_score: 0.5473 - val_loss: 0.5419 - learning_rate: 3.1250e-05\n",
      "Epoch 203/300\n",
      "\u001b[1m38/38\u001b[0m \u001b[32m━━━━━━━━━━━━━━━━━━━━\u001b[0m\u001b[37m\u001b[0m \u001b[1m16s\u001b[0m 419ms/step - dice_score: 0.9917 - iou_score: 0.9835 - loss: 0.0113 - val_dice_score: 0.7059 - val_iou_score: 0.5471 - val_loss: 0.5422 - learning_rate: 3.1250e-05\n",
      "Epoch 204/300\n",
      "\u001b[1m38/38\u001b[0m \u001b[32m━━━━━━━━━━━━━━━━━━━━\u001b[0m\u001b[37m\u001b[0m \u001b[1m16s\u001b[0m 419ms/step - dice_score: 0.9913 - iou_score: 0.9827 - loss: 0.0118 - val_dice_score: 0.7060 - val_iou_score: 0.5473 - val_loss: 0.5419 - learning_rate: 3.1250e-05\n",
      "Epoch 205/300\n",
      "\u001b[1m38/38\u001b[0m \u001b[32m━━━━━━━━━━━━━━━━━━━━\u001b[0m\u001b[37m\u001b[0m \u001b[1m16s\u001b[0m 420ms/step - dice_score: 0.9917 - iou_score: 0.9835 - loss: 0.0113 - val_dice_score: 0.7056 - val_iou_score: 0.5468 - val_loss: 0.5417 - learning_rate: 3.1250e-05\n",
      "Epoch 206/300\n",
      "\u001b[1m38/38\u001b[0m \u001b[32m━━━━━━━━━━━━━━━━━━━━\u001b[0m\u001b[37m\u001b[0m \u001b[1m16s\u001b[0m 420ms/step - dice_score: 0.9916 - iou_score: 0.9833 - loss: 0.0114 - val_dice_score: 0.7056 - val_iou_score: 0.5468 - val_loss: 0.5407 - learning_rate: 3.1250e-05\n",
      "Epoch 207/300\n",
      "\u001b[1m38/38\u001b[0m \u001b[32m━━━━━━━━━━━━━━━━━━━━\u001b[0m\u001b[37m\u001b[0m \u001b[1m16s\u001b[0m 420ms/step - dice_score: 0.9913 - iou_score: 0.9828 - loss: 0.0117 - val_dice_score: 0.7058 - val_iou_score: 0.5470 - val_loss: 0.5430 - learning_rate: 3.1250e-05\n",
      "Epoch 208/300\n",
      "\u001b[1m38/38\u001b[0m \u001b[32m━━━━━━━━━━━━━━━━━━━━\u001b[0m\u001b[37m\u001b[0m \u001b[1m16s\u001b[0m 420ms/step - dice_score: 0.9913 - iou_score: 0.9827 - loss: 0.0118 - val_dice_score: 0.7057 - val_iou_score: 0.5469 - val_loss: 0.5441 - learning_rate: 3.1250e-05\n",
      "Epoch 209/300\n",
      "\u001b[1m38/38\u001b[0m \u001b[32m━━━━━━━━━━━━━━━━━━━━\u001b[0m\u001b[37m\u001b[0m \u001b[1m16s\u001b[0m 420ms/step - dice_score: 0.9915 - iou_score: 0.9831 - loss: 0.0117 - val_dice_score: 0.7058 - val_iou_score: 0.5470 - val_loss: 0.5445 - learning_rate: 3.1250e-05\n",
      "Epoch 210/300\n",
      "\u001b[1m38/38\u001b[0m \u001b[32m━━━━━━━━━━━━━━━━━━━━\u001b[0m\u001b[37m\u001b[0m \u001b[1m16s\u001b[0m 422ms/step - dice_score: 0.9914 - iou_score: 0.9830 - loss: 0.0117 - val_dice_score: 0.7056 - val_iou_score: 0.5468 - val_loss: 0.5452 - learning_rate: 3.1250e-05\n",
      "Epoch 211/300\n",
      "\u001b[1m38/38\u001b[0m \u001b[32m━━━━━━━━━━━━━━━━━━━━\u001b[0m\u001b[37m\u001b[0m \u001b[1m16s\u001b[0m 426ms/step - dice_score: 0.9919 - iou_score: 0.9839 - loss: 0.0111 - val_dice_score: 0.7057 - val_iou_score: 0.5469 - val_loss: 0.5450 - learning_rate: 3.1250e-05\n",
      "Epoch 212/300\n",
      "\u001b[1m38/38\u001b[0m \u001b[32m━━━━━━━━━━━━━━━━━━━━\u001b[0m\u001b[37m\u001b[0m \u001b[1m16s\u001b[0m 420ms/step - dice_score: 0.9917 - iou_score: 0.9835 - loss: 0.0114 - val_dice_score: 0.7057 - val_iou_score: 0.5469 - val_loss: 0.5462 - learning_rate: 3.1250e-05\n",
      "Epoch 213/300\n",
      "\u001b[1m38/38\u001b[0m \u001b[32m━━━━━━━━━━━━━━━━━━━━\u001b[0m\u001b[37m\u001b[0m \u001b[1m16s\u001b[0m 421ms/step - dice_score: 0.9915 - iou_score: 0.9832 - loss: 0.0115 - val_dice_score: 0.7055 - val_iou_score: 0.5466 - val_loss: 0.5459 - learning_rate: 3.1250e-05\n",
      "Epoch 214/300\n",
      "\u001b[1m38/38\u001b[0m \u001b[32m━━━━━━━━━━━━━━━━━━━━\u001b[0m\u001b[37m\u001b[0m \u001b[1m16s\u001b[0m 420ms/step - dice_score: 0.9919 - iou_score: 0.9839 - loss: 0.0110 - val_dice_score: 0.7056 - val_iou_score: 0.5468 - val_loss: 0.5449 - learning_rate: 3.1250e-05\n",
      "Epoch 215/300\n",
      "\u001b[1m38/38\u001b[0m \u001b[32m━━━━━━━━━━━━━━━━━━━━\u001b[0m\u001b[37m\u001b[0m \u001b[1m16s\u001b[0m 422ms/step - dice_score: 0.9911 - iou_score: 0.9824 - loss: 0.0121 - val_dice_score: 0.7053 - val_iou_score: 0.5465 - val_loss: 0.5451 - learning_rate: 3.1250e-05\n",
      "Epoch 216/300\n",
      "\u001b[1m38/38\u001b[0m \u001b[32m━━━━━━━━━━━━━━━━━━━━\u001b[0m\u001b[37m\u001b[0m \u001b[1m16s\u001b[0m 422ms/step - dice_score: 0.9917 - iou_score: 0.9836 - loss: 0.0112 - val_dice_score: 0.7055 - val_iou_score: 0.5466 - val_loss: 0.5460 - learning_rate: 3.1250e-05\n",
      "Epoch 217/300\n",
      "\u001b[1m38/38\u001b[0m \u001b[32m━━━━━━━━━━━━━━━━━━━━\u001b[0m\u001b[37m\u001b[0m \u001b[1m16s\u001b[0m 425ms/step - dice_score: 0.9916 - iou_score: 0.9833 - loss: 0.0114 - val_dice_score: 0.7054 - val_iou_score: 0.5466 - val_loss: 0.5451 - learning_rate: 3.1250e-05\n",
      "Epoch 218/300\n",
      "\u001b[1m38/38\u001b[0m \u001b[32m━━━━━━━━━━━━━━━━━━━━\u001b[0m\u001b[37m\u001b[0m \u001b[1m16s\u001b[0m 419ms/step - dice_score: 0.9917 - iou_score: 0.9836 - loss: 0.0112 - val_dice_score: 0.7054 - val_iou_score: 0.5465 - val_loss: 0.5461 - learning_rate: 1.5625e-05\n",
      "Epoch 219/300\n",
      "\u001b[1m38/38\u001b[0m \u001b[32m━━━━━━━━━━━━━━━━━━━━\u001b[0m\u001b[37m\u001b[0m \u001b[1m16s\u001b[0m 419ms/step - dice_score: 0.9918 - iou_score: 0.9838 - loss: 0.0111 - val_dice_score: 0.7055 - val_iou_score: 0.5466 - val_loss: 0.5471 - learning_rate: 1.5625e-05\n",
      "Epoch 220/300\n",
      "\u001b[1m38/38\u001b[0m \u001b[32m━━━━━━━━━━━━━━━━━━━━\u001b[0m\u001b[37m\u001b[0m \u001b[1m16s\u001b[0m 417ms/step - dice_score: 0.9920 - iou_score: 0.9841 - loss: 0.0110 - val_dice_score: 0.7054 - val_iou_score: 0.5465 - val_loss: 0.5488 - learning_rate: 1.5625e-05\n",
      "Epoch 221/300\n",
      "\u001b[1m38/38\u001b[0m \u001b[32m━━━━━━━━━━━━━━━━━━━━\u001b[0m\u001b[37m\u001b[0m \u001b[1m16s\u001b[0m 419ms/step - dice_score: 0.9919 - iou_score: 0.9840 - loss: 0.0109 - val_dice_score: 0.7054 - val_iou_score: 0.5465 - val_loss: 0.5489 - learning_rate: 1.5625e-05\n",
      "Epoch 222/300\n",
      "\u001b[1m38/38\u001b[0m \u001b[32m━━━━━━━━━━━━━━━━━━━━\u001b[0m\u001b[37m\u001b[0m \u001b[1m16s\u001b[0m 419ms/step - dice_score: 0.9920 - iou_score: 0.9841 - loss: 0.0109 - val_dice_score: 0.7054 - val_iou_score: 0.5465 - val_loss: 0.5490 - learning_rate: 1.5625e-05\n",
      "Epoch 223/300\n",
      "\u001b[1m38/38\u001b[0m \u001b[32m━━━━━━━━━━━━━━━━━━━━\u001b[0m\u001b[37m\u001b[0m \u001b[1m16s\u001b[0m 419ms/step - dice_score: 0.9922 - iou_score: 0.9845 - loss: 0.0106 - val_dice_score: 0.7054 - val_iou_score: 0.5465 - val_loss: 0.5494 - learning_rate: 1.5625e-05\n",
      "Epoch 224/300\n",
      "\u001b[1m38/38\u001b[0m \u001b[32m━━━━━━━━━━━━━━━━━━━━\u001b[0m\u001b[37m\u001b[0m \u001b[1m16s\u001b[0m 418ms/step - dice_score: 0.9920 - iou_score: 0.9842 - loss: 0.0108 - val_dice_score: 0.7053 - val_iou_score: 0.5464 - val_loss: 0.5496 - learning_rate: 1.5625e-05\n",
      "Epoch 225/300\n",
      "\u001b[1m38/38\u001b[0m \u001b[32m━━━━━━━━━━━━━━━━━━━━\u001b[0m\u001b[37m\u001b[0m \u001b[1m16s\u001b[0m 419ms/step - dice_score: 0.9921 - iou_score: 0.9843 - loss: 0.0107 - val_dice_score: 0.7053 - val_iou_score: 0.5464 - val_loss: 0.5502 - learning_rate: 1.5625e-05\n",
      "Epoch 226/300\n",
      "\u001b[1m38/38\u001b[0m \u001b[32m━━━━━━━━━━━━━━━━━━━━\u001b[0m\u001b[37m\u001b[0m \u001b[1m16s\u001b[0m 420ms/step - dice_score: 0.9920 - iou_score: 0.9840 - loss: 0.0111 - val_dice_score: 0.7053 - val_iou_score: 0.5465 - val_loss: 0.5512 - learning_rate: 1.5625e-05\n",
      "Epoch 227/300\n",
      "\u001b[1m38/38\u001b[0m \u001b[32m━━━━━━━━━━━━━━━━━━━━\u001b[0m\u001b[37m\u001b[0m \u001b[1m16s\u001b[0m 420ms/step - dice_score: 0.9921 - iou_score: 0.9842 - loss: 0.0108 - val_dice_score: 0.7053 - val_iou_score: 0.5464 - val_loss: 0.5510 - learning_rate: 1.5625e-05\n",
      "Epoch 228/300\n",
      "\u001b[1m38/38\u001b[0m \u001b[32m━━━━━━━━━━━━━━━━━━━━\u001b[0m\u001b[37m\u001b[0m \u001b[1m16s\u001b[0m 425ms/step - dice_score: 0.9920 - iou_score: 0.9842 - loss: 0.0109 - val_dice_score: 0.7051 - val_iou_score: 0.5462 - val_loss: 0.5503 - learning_rate: 1.5625e-05\n",
      "Epoch 229/300\n",
      "\u001b[1m38/38\u001b[0m \u001b[32m━━━━━━━━━━━━━━━━━━━━\u001b[0m\u001b[37m\u001b[0m \u001b[1m16s\u001b[0m 420ms/step - dice_score: 0.9919 - iou_score: 0.9840 - loss: 0.0110 - val_dice_score: 0.7054 - val_iou_score: 0.5465 - val_loss: 0.5520 - learning_rate: 1.5625e-05\n",
      "Epoch 230/300\n",
      "\u001b[1m38/38\u001b[0m \u001b[32m━━━━━━━━━━━━━━━━━━━━\u001b[0m\u001b[37m\u001b[0m \u001b[1m16s\u001b[0m 421ms/step - dice_score: 0.9919 - iou_score: 0.9840 - loss: 0.0110 - val_dice_score: 0.7052 - val_iou_score: 0.5463 - val_loss: 0.5512 - learning_rate: 1.5625e-05\n",
      "Epoch 231/300\n",
      "\u001b[1m38/38\u001b[0m \u001b[32m━━━━━━━━━━━━━━━━━━━━\u001b[0m\u001b[37m\u001b[0m \u001b[1m16s\u001b[0m 421ms/step - dice_score: 0.9915 - iou_score: 0.9832 - loss: 0.0116 - val_dice_score: 0.7051 - val_iou_score: 0.5462 - val_loss: 0.5530 - learning_rate: 1.5625e-05\n",
      "Epoch 232/300\n",
      "\u001b[1m38/38\u001b[0m \u001b[32m━━━━━━━━━━━━━━━━━━━━\u001b[0m\u001b[37m\u001b[0m \u001b[1m16s\u001b[0m 424ms/step - dice_score: 0.9918 - iou_score: 0.9837 - loss: 0.0112 - val_dice_score: 0.7053 - val_iou_score: 0.5464 - val_loss: 0.5529 - learning_rate: 1.5625e-05\n",
      "Epoch 233/300\n",
      "\u001b[1m38/38\u001b[0m \u001b[32m━━━━━━━━━━━━━━━━━━━━\u001b[0m\u001b[37m\u001b[0m \u001b[1m16s\u001b[0m 426ms/step - dice_score: 0.9917 - iou_score: 0.9835 - loss: 0.0113 - val_dice_score: 0.7052 - val_iou_score: 0.5463 - val_loss: 0.5529 - learning_rate: 1.5625e-05\n",
      "Epoch 234/300\n",
      "\u001b[1m38/38\u001b[0m \u001b[32m━━━━━━━━━━━━━━━━━━━━\u001b[0m\u001b[37m\u001b[0m \u001b[1m16s\u001b[0m 419ms/step - dice_score: 0.9919 - iou_score: 0.9839 - loss: 0.0110 - val_dice_score: 0.7051 - val_iou_score: 0.5462 - val_loss: 0.5529 - learning_rate: 1.5625e-05\n",
      "Epoch 235/300\n",
      "\u001b[1m38/38\u001b[0m \u001b[32m━━━━━━━━━━━━━━━━━━━━\u001b[0m\u001b[37m\u001b[0m \u001b[1m16s\u001b[0m 419ms/step - dice_score: 0.9920 - iou_score: 0.9841 - loss: 0.0109 - val_dice_score: 0.7053 - val_iou_score: 0.5464 - val_loss: 0.5531 - learning_rate: 1.5625e-05\n",
      "Epoch 236/300\n",
      "\u001b[1m38/38\u001b[0m \u001b[32m━━━━━━━━━━━━━━━━━━━━\u001b[0m\u001b[37m\u001b[0m \u001b[1m16s\u001b[0m 419ms/step - dice_score: 0.9920 - iou_score: 0.9841 - loss: 0.0109 - val_dice_score: 0.7050 - val_iou_score: 0.5460 - val_loss: 0.5533 - learning_rate: 1.5625e-05\n",
      "Epoch 237/300\n",
      "\u001b[1m38/38\u001b[0m \u001b[32m━━━━━━━━━━━━━━━━━━━━\u001b[0m\u001b[37m\u001b[0m \u001b[1m16s\u001b[0m 420ms/step - dice_score: 0.9918 - iou_score: 0.9838 - loss: 0.0111 - val_dice_score: 0.7051 - val_iou_score: 0.5462 - val_loss: 0.5541 - learning_rate: 1.5625e-05\n",
      "Epoch 238/300\n",
      "\u001b[1m38/38\u001b[0m \u001b[32m━━━━━━━━━━━━━━━━━━━━\u001b[0m\u001b[37m\u001b[0m \u001b[1m16s\u001b[0m 420ms/step - dice_score: 0.9922 - iou_score: 0.9844 - loss: 0.0107 - val_dice_score: 0.7051 - val_iou_score: 0.5461 - val_loss: 0.5543 - learning_rate: 7.8125e-06\n",
      "Epoch 239/300\n",
      "\u001b[1m38/38\u001b[0m \u001b[32m━━━━━━━━━━━━━━━━━━━━\u001b[0m\u001b[37m\u001b[0m \u001b[1m16s\u001b[0m 420ms/step - dice_score: 0.9920 - iou_score: 0.9840 - loss: 0.0108 - val_dice_score: 0.7050 - val_iou_score: 0.5461 - val_loss: 0.5548 - learning_rate: 7.8125e-06\n",
      "Epoch 240/300\n",
      "\u001b[1m38/38\u001b[0m \u001b[32m━━━━━━━━━━━━━━━━━━━━\u001b[0m\u001b[37m\u001b[0m \u001b[1m16s\u001b[0m 420ms/step - dice_score: 0.9920 - iou_score: 0.9842 - loss: 0.0109 - val_dice_score: 0.7050 - val_iou_score: 0.5461 - val_loss: 0.5546 - learning_rate: 7.8125e-06\n",
      "Epoch 241/300\n",
      "\u001b[1m38/38\u001b[0m \u001b[32m━━━━━━━━━━━━━━━━━━━━\u001b[0m\u001b[37m\u001b[0m \u001b[1m16s\u001b[0m 420ms/step - dice_score: 0.9920 - iou_score: 0.9842 - loss: 0.0108 - val_dice_score: 0.7050 - val_iou_score: 0.5461 - val_loss: 0.5556 - learning_rate: 7.8125e-06\n",
      "Epoch 242/300\n",
      "\u001b[1m38/38\u001b[0m \u001b[32m━━━━━━━━━━━━━━━━━━━━\u001b[0m\u001b[37m\u001b[0m \u001b[1m16s\u001b[0m 420ms/step - dice_score: 0.9922 - iou_score: 0.9845 - loss: 0.0106 - val_dice_score: 0.7050 - val_iou_score: 0.5461 - val_loss: 0.5551 - learning_rate: 7.8125e-06\n",
      "Epoch 243/300\n",
      "\u001b[1m38/38\u001b[0m \u001b[32m━━━━━━━━━━━━━━━━━━━━\u001b[0m\u001b[37m\u001b[0m \u001b[1m16s\u001b[0m 429ms/step - dice_score: 0.9925 - iou_score: 0.9851 - loss: 0.0103 - val_dice_score: 0.7050 - val_iou_score: 0.5460 - val_loss: 0.5553 - learning_rate: 7.8125e-06\n",
      "Epoch 244/300\n",
      "\u001b[1m38/38\u001b[0m \u001b[32m━━━━━━━━━━━━━━━━━━━━\u001b[0m\u001b[37m\u001b[0m \u001b[1m16s\u001b[0m 420ms/step - dice_score: 0.9923 - iou_score: 0.9846 - loss: 0.0106 - val_dice_score: 0.7050 - val_iou_score: 0.5461 - val_loss: 0.5553 - learning_rate: 7.8125e-06\n",
      "Epoch 245/300\n",
      "\u001b[1m38/38\u001b[0m \u001b[32m━━━━━━━━━━━━━━━━━━━━\u001b[0m\u001b[37m\u001b[0m \u001b[1m16s\u001b[0m 421ms/step - dice_score: 0.9919 - iou_score: 0.9839 - loss: 0.0110 - val_dice_score: 0.7049 - val_iou_score: 0.5460 - val_loss: 0.5553 - learning_rate: 7.8125e-06\n",
      "Epoch 246/300\n",
      "\u001b[1m38/38\u001b[0m \u001b[32m━━━━━━━━━━━━━━━━━━━━\u001b[0m\u001b[37m\u001b[0m \u001b[1m16s\u001b[0m 421ms/step - dice_score: 0.9922 - iou_score: 0.9846 - loss: 0.0104 - val_dice_score: 0.7049 - val_iou_score: 0.5459 - val_loss: 0.5557 - learning_rate: 7.8125e-06\n",
      "Epoch 247/300\n",
      "\u001b[1m38/38\u001b[0m \u001b[32m━━━━━━━━━━━━━━━━━━━━\u001b[0m\u001b[37m\u001b[0m \u001b[1m16s\u001b[0m 419ms/step - dice_score: 0.9925 - iou_score: 0.9850 - loss: 0.0103 - val_dice_score: 0.7049 - val_iou_score: 0.5459 - val_loss: 0.5556 - learning_rate: 7.8125e-06\n",
      "Epoch 248/300\n",
      "\u001b[1m38/38\u001b[0m \u001b[32m━━━━━━━━━━━━━━━━━━━━\u001b[0m\u001b[37m\u001b[0m \u001b[1m16s\u001b[0m 423ms/step - dice_score: 0.9919 - iou_score: 0.9840 - loss: 0.0111 - val_dice_score: 0.7050 - val_iou_score: 0.5460 - val_loss: 0.5563 - learning_rate: 7.8125e-06\n",
      "Epoch 249/300\n",
      "\u001b[1m38/38\u001b[0m \u001b[32m━━━━━━━━━━━━━━━━━━━━\u001b[0m\u001b[37m\u001b[0m \u001b[1m16s\u001b[0m 424ms/step - dice_score: 0.9923 - iou_score: 0.9847 - loss: 0.0105 - val_dice_score: 0.7050 - val_iou_score: 0.5460 - val_loss: 0.5562 - learning_rate: 7.8125e-06\n",
      "Epoch 250/300\n",
      "\u001b[1m38/38\u001b[0m \u001b[32m━━━━━━━━━━━━━━━━━━━━\u001b[0m\u001b[37m\u001b[0m \u001b[1m16s\u001b[0m 418ms/step - dice_score: 0.9923 - iou_score: 0.9848 - loss: 0.0104 - val_dice_score: 0.7049 - val_iou_score: 0.5460 - val_loss: 0.5566 - learning_rate: 7.8125e-06\n",
      "Epoch 251/300\n",
      "\u001b[1m38/38\u001b[0m \u001b[32m━━━━━━━━━━━━━━━━━━━━\u001b[0m\u001b[37m\u001b[0m \u001b[1m16s\u001b[0m 419ms/step - dice_score: 0.9924 - iou_score: 0.9848 - loss: 0.0104 - val_dice_score: 0.7049 - val_iou_score: 0.5460 - val_loss: 0.5551 - learning_rate: 7.8125e-06\n",
      "Epoch 252/300\n",
      "\u001b[1m38/38\u001b[0m \u001b[32m━━━━━━━━━━━━━━━━━━━━\u001b[0m\u001b[37m\u001b[0m \u001b[1m16s\u001b[0m 418ms/step - dice_score: 0.9917 - iou_score: 0.9835 - loss: 0.0112 - val_dice_score: 0.7049 - val_iou_score: 0.5460 - val_loss: 0.5560 - learning_rate: 7.8125e-06\n",
      "Epoch 253/300\n",
      "\u001b[1m38/38\u001b[0m \u001b[32m━━━━━━━━━━━━━━━━━━━━\u001b[0m\u001b[37m\u001b[0m \u001b[1m16s\u001b[0m 419ms/step - dice_score: 0.9924 - iou_score: 0.9848 - loss: 0.0104 - val_dice_score: 0.7049 - val_iou_score: 0.5459 - val_loss: 0.5567 - learning_rate: 7.8125e-06\n",
      "Epoch 254/300\n",
      "\u001b[1m38/38\u001b[0m \u001b[32m━━━━━━━━━━━━━━━━━━━━\u001b[0m\u001b[37m\u001b[0m \u001b[1m16s\u001b[0m 419ms/step - dice_score: 0.9923 - iou_score: 0.9846 - loss: 0.0106 - val_dice_score: 0.7049 - val_iou_score: 0.5460 - val_loss: 0.5562 - learning_rate: 7.8125e-06\n",
      "Epoch 255/300\n",
      "\u001b[1m38/38\u001b[0m \u001b[32m━━━━━━━━━━━━━━━━━━━━\u001b[0m\u001b[37m\u001b[0m \u001b[1m16s\u001b[0m 419ms/step - dice_score: 0.9922 - iou_score: 0.9845 - loss: 0.0107 - val_dice_score: 0.7048 - val_iou_score: 0.5459 - val_loss: 0.5565 - learning_rate: 7.8125e-06\n",
      "Epoch 256/300\n",
      "\u001b[1m38/38\u001b[0m \u001b[32m━━━━━━━━━━━━━━━━━━━━\u001b[0m\u001b[37m\u001b[0m \u001b[1m16s\u001b[0m 419ms/step - dice_score: 0.9922 - iou_score: 0.9845 - loss: 0.0106 - val_dice_score: 0.7049 - val_iou_score: 0.5459 - val_loss: 0.5574 - learning_rate: 7.8125e-06\n",
      "Epoch 257/300\n",
      "\u001b[1m38/38\u001b[0m \u001b[32m━━━━━━━━━━━━━━━━━━━━\u001b[0m\u001b[37m\u001b[0m \u001b[1m16s\u001b[0m 419ms/step - dice_score: 0.9923 - iou_score: 0.9847 - loss: 0.0106 - val_dice_score: 0.7049 - val_iou_score: 0.5459 - val_loss: 0.5571 - learning_rate: 7.8125e-06\n",
      "Epoch 258/300\n",
      "\u001b[1m38/38\u001b[0m \u001b[32m━━━━━━━━━━━━━━━━━━━━\u001b[0m\u001b[37m\u001b[0m \u001b[1m16s\u001b[0m 421ms/step - dice_score: 0.9923 - iou_score: 0.9848 - loss: 0.0106 - val_dice_score: 0.7048 - val_iou_score: 0.5459 - val_loss: 0.5576 - learning_rate: 3.9063e-06\n",
      "Epoch 259/300\n",
      "\u001b[1m38/38\u001b[0m \u001b[32m━━━━━━━━━━━━━━━━━━━━\u001b[0m\u001b[37m\u001b[0m \u001b[1m16s\u001b[0m 427ms/step - dice_score: 0.9923 - iou_score: 0.9848 - loss: 0.0106 - val_dice_score: 0.7048 - val_iou_score: 0.5459 - val_loss: 0.5577 - learning_rate: 3.9063e-06\n",
      "Epoch 260/300\n",
      "\u001b[1m38/38\u001b[0m \u001b[32m━━━━━━━━━━━━━━━━━━━━\u001b[0m\u001b[37m\u001b[0m \u001b[1m16s\u001b[0m 420ms/step - dice_score: 0.9920 - iou_score: 0.9841 - loss: 0.0109 - val_dice_score: 0.7049 - val_iou_score: 0.5459 - val_loss: 0.5580 - learning_rate: 3.9063e-06\n",
      "Epoch 261/300\n",
      "\u001b[1m38/38\u001b[0m \u001b[32m━━━━━━━━━━━━━━━━━━━━\u001b[0m\u001b[37m\u001b[0m \u001b[1m16s\u001b[0m 421ms/step - dice_score: 0.9922 - iou_score: 0.9846 - loss: 0.0107 - val_dice_score: 0.7048 - val_iou_score: 0.5458 - val_loss: 0.5581 - learning_rate: 3.9063e-06\n",
      "Epoch 262/300\n",
      "\u001b[1m38/38\u001b[0m \u001b[32m━━━━━━━━━━━━━━━━━━━━\u001b[0m\u001b[37m\u001b[0m \u001b[1m16s\u001b[0m 421ms/step - dice_score: 0.9925 - iou_score: 0.9851 - loss: 0.0103 - val_dice_score: 0.7048 - val_iou_score: 0.5458 - val_loss: 0.5583 - learning_rate: 3.9063e-06\n",
      "Epoch 263/300\n",
      "\u001b[1m38/38\u001b[0m \u001b[32m━━━━━━━━━━━━━━━━━━━━\u001b[0m\u001b[37m\u001b[0m \u001b[1m16s\u001b[0m 423ms/step - dice_score: 0.9924 - iou_score: 0.9850 - loss: 0.0104 - val_dice_score: 0.7048 - val_iou_score: 0.5458 - val_loss: 0.5582 - learning_rate: 3.9063e-06\n",
      "Epoch 264/300\n",
      "\u001b[1m38/38\u001b[0m \u001b[32m━━━━━━━━━━━━━━━━━━━━\u001b[0m\u001b[37m\u001b[0m \u001b[1m16s\u001b[0m 426ms/step - dice_score: 0.9921 - iou_score: 0.9843 - loss: 0.0107 - val_dice_score: 0.7048 - val_iou_score: 0.5458 - val_loss: 0.5585 - learning_rate: 3.9063e-06\n",
      "Epoch 265/300\n",
      "\u001b[1m38/38\u001b[0m \u001b[32m━━━━━━━━━━━━━━━━━━━━\u001b[0m\u001b[37m\u001b[0m \u001b[1m16s\u001b[0m 425ms/step - dice_score: 0.9924 - iou_score: 0.9850 - loss: 0.0103 - val_dice_score: 0.7048 - val_iou_score: 0.5458 - val_loss: 0.5586 - learning_rate: 3.9063e-06\n",
      "Epoch 266/300\n",
      "\u001b[1m38/38\u001b[0m \u001b[32m━━━━━━━━━━━━━━━━━━━━\u001b[0m\u001b[37m\u001b[0m \u001b[1m16s\u001b[0m 420ms/step - dice_score: 0.9924 - iou_score: 0.9849 - loss: 0.0103 - val_dice_score: 0.7048 - val_iou_score: 0.5458 - val_loss: 0.5585 - learning_rate: 3.9063e-06\n",
      "Epoch 267/300\n",
      "\u001b[1m38/38\u001b[0m \u001b[32m━━━━━━━━━━━━━━━━━━━━\u001b[0m\u001b[37m\u001b[0m \u001b[1m16s\u001b[0m 420ms/step - dice_score: 0.9924 - iou_score: 0.9849 - loss: 0.0103 - val_dice_score: 0.7048 - val_iou_score: 0.5458 - val_loss: 0.5587 - learning_rate: 3.9063e-06\n",
      "Epoch 268/300\n",
      "\u001b[1m38/38\u001b[0m \u001b[32m━━━━━━━━━━━━━━━━━━━━\u001b[0m\u001b[37m\u001b[0m \u001b[1m16s\u001b[0m 420ms/step - dice_score: 0.9925 - iou_score: 0.9851 - loss: 0.0103 - val_dice_score: 0.7048 - val_iou_score: 0.5459 - val_loss: 0.5588 - learning_rate: 3.9063e-06\n",
      "Epoch 269/300\n",
      "\u001b[1m38/38\u001b[0m \u001b[32m━━━━━━━━━━━━━━━━━━━━\u001b[0m\u001b[37m\u001b[0m \u001b[1m16s\u001b[0m 420ms/step - dice_score: 0.9920 - iou_score: 0.9842 - loss: 0.0108 - val_dice_score: 0.7048 - val_iou_score: 0.5458 - val_loss: 0.5591 - learning_rate: 3.9063e-06\n",
      "Epoch 270/300\n",
      "\u001b[1m38/38\u001b[0m \u001b[32m━━━━━━━━━━━━━━━━━━━━\u001b[0m\u001b[37m\u001b[0m \u001b[1m16s\u001b[0m 420ms/step - dice_score: 0.9924 - iou_score: 0.9850 - loss: 0.0103 - val_dice_score: 0.7047 - val_iou_score: 0.5457 - val_loss: 0.5592 - learning_rate: 3.9063e-06\n",
      "Epoch 271/300\n",
      "\u001b[1m38/38\u001b[0m \u001b[32m━━━━━━━━━━━━━━━━━━━━\u001b[0m\u001b[37m\u001b[0m \u001b[1m16s\u001b[0m 419ms/step - dice_score: 0.9923 - iou_score: 0.9846 - loss: 0.0105 - val_dice_score: 0.7048 - val_iou_score: 0.5458 - val_loss: 0.5595 - learning_rate: 3.9063e-06\n",
      "Epoch 272/300\n",
      "\u001b[1m38/38\u001b[0m \u001b[32m━━━━━━━━━━━━━━━━━━━━\u001b[0m\u001b[37m\u001b[0m \u001b[1m16s\u001b[0m 418ms/step - dice_score: 0.9923 - iou_score: 0.9847 - loss: 0.0105 - val_dice_score: 0.7047 - val_iou_score: 0.5457 - val_loss: 0.5594 - learning_rate: 3.9063e-06\n",
      "Epoch 273/300\n",
      "\u001b[1m38/38\u001b[0m \u001b[32m━━━━━━━━━━━━━━━━━━━━\u001b[0m\u001b[37m\u001b[0m \u001b[1m16s\u001b[0m 420ms/step - dice_score: 0.9922 - iou_score: 0.9845 - loss: 0.0106 - val_dice_score: 0.7048 - val_iou_score: 0.5458 - val_loss: 0.5600 - learning_rate: 3.9063e-06\n",
      "Epoch 274/300\n",
      "\u001b[1m38/38\u001b[0m \u001b[32m━━━━━━━━━━━━━━━━━━━━\u001b[0m\u001b[37m\u001b[0m \u001b[1m16s\u001b[0m 422ms/step - dice_score: 0.9922 - iou_score: 0.9845 - loss: 0.0106 - val_dice_score: 0.7047 - val_iou_score: 0.5457 - val_loss: 0.5598 - learning_rate: 3.9063e-06\n",
      "Epoch 275/300\n",
      "\u001b[1m38/38\u001b[0m \u001b[32m━━━━━━━━━━━━━━━━━━━━\u001b[0m\u001b[37m\u001b[0m \u001b[1m16s\u001b[0m 423ms/step - dice_score: 0.9924 - iou_score: 0.9850 - loss: 0.0103 - val_dice_score: 0.7047 - val_iou_score: 0.5457 - val_loss: 0.5601 - learning_rate: 3.9063e-06\n",
      "Epoch 276/300\n",
      "\u001b[1m38/38\u001b[0m \u001b[32m━━━━━━━━━━━━━━━━━━━━\u001b[0m\u001b[37m\u001b[0m \u001b[1m16s\u001b[0m 418ms/step - dice_score: 0.9923 - iou_score: 0.9846 - loss: 0.0106 - val_dice_score: 0.7047 - val_iou_score: 0.5457 - val_loss: 0.5601 - learning_rate: 3.9063e-06\n",
      "Epoch 277/300\n",
      "\u001b[1m38/38\u001b[0m \u001b[32m━━━━━━━━━━━━━━━━━━━━\u001b[0m\u001b[37m\u001b[0m \u001b[1m16s\u001b[0m 421ms/step - dice_score: 0.9923 - iou_score: 0.9848 - loss: 0.0104 - val_dice_score: 0.7047 - val_iou_score: 0.5457 - val_loss: 0.5604 - learning_rate: 3.9063e-06\n",
      "Epoch 278/300\n",
      "\u001b[1m38/38\u001b[0m \u001b[32m━━━━━━━━━━━━━━━━━━━━\u001b[0m\u001b[37m\u001b[0m \u001b[1m16s\u001b[0m 422ms/step - dice_score: 0.9927 - iou_score: 0.9854 - loss: 0.0101 - val_dice_score: 0.7047 - val_iou_score: 0.5457 - val_loss: 0.5603 - learning_rate: 1.9531e-06\n",
      "Epoch 279/300\n",
      "\u001b[1m38/38\u001b[0m \u001b[32m━━━━━━━━━━━━━━━━━━━━\u001b[0m\u001b[37m\u001b[0m \u001b[1m16s\u001b[0m 421ms/step - dice_score: 0.9922 - iou_score: 0.9845 - loss: 0.0106 - val_dice_score: 0.7047 - val_iou_score: 0.5457 - val_loss: 0.5603 - learning_rate: 1.9531e-06\n",
      "Epoch 280/300\n",
      "\u001b[1m38/38\u001b[0m \u001b[32m━━━━━━━━━━━━━━━━━━━━\u001b[0m\u001b[37m\u001b[0m \u001b[1m16s\u001b[0m 425ms/step - dice_score: 0.9924 - iou_score: 0.9850 - loss: 0.0103 - val_dice_score: 0.7047 - val_iou_score: 0.5457 - val_loss: 0.5608 - learning_rate: 1.9531e-06\n",
      "Epoch 281/300\n",
      "\u001b[1m38/38\u001b[0m \u001b[32m━━━━━━━━━━━━━━━━━━━━\u001b[0m\u001b[37m\u001b[0m \u001b[1m16s\u001b[0m 422ms/step - dice_score: 0.9921 - iou_score: 0.9844 - loss: 0.0107 - val_dice_score: 0.7047 - val_iou_score: 0.5457 - val_loss: 0.5606 - learning_rate: 1.9531e-06\n",
      "Epoch 282/300\n",
      "\u001b[1m38/38\u001b[0m \u001b[32m━━━━━━━━━━━━━━━━━━━━\u001b[0m\u001b[37m\u001b[0m \u001b[1m16s\u001b[0m 420ms/step - dice_score: 0.9924 - iou_score: 0.9849 - loss: 0.0104 - val_dice_score: 0.7047 - val_iou_score: 0.5457 - val_loss: 0.5608 - learning_rate: 1.9531e-06\n",
      "Epoch 283/300\n",
      "\u001b[1m38/38\u001b[0m \u001b[32m━━━━━━━━━━━━━━━━━━━━\u001b[0m\u001b[37m\u001b[0m \u001b[1m16s\u001b[0m 419ms/step - dice_score: 0.9925 - iou_score: 0.9850 - loss: 0.0104 - val_dice_score: 0.7047 - val_iou_score: 0.5457 - val_loss: 0.5607 - learning_rate: 1.9531e-06\n",
      "Epoch 284/300\n",
      "\u001b[1m38/38\u001b[0m \u001b[32m━━━━━━━━━━━━━━━━━━━━\u001b[0m\u001b[37m\u001b[0m \u001b[1m16s\u001b[0m 420ms/step - dice_score: 0.9922 - iou_score: 0.9846 - loss: 0.0106 - val_dice_score: 0.7047 - val_iou_score: 0.5457 - val_loss: 0.5609 - learning_rate: 1.9531e-06\n",
      "Epoch 285/300\n",
      "\u001b[1m38/38\u001b[0m \u001b[32m━━━━━━━━━━━━━━━━━━━━\u001b[0m\u001b[37m\u001b[0m \u001b[1m16s\u001b[0m 418ms/step - dice_score: 0.9922 - iou_score: 0.9845 - loss: 0.0106 - val_dice_score: 0.7047 - val_iou_score: 0.5457 - val_loss: 0.5609 - learning_rate: 1.9531e-06\n",
      "Epoch 286/300\n",
      "\u001b[1m38/38\u001b[0m \u001b[32m━━━━━━━━━━━━━━━━━━━━\u001b[0m\u001b[37m\u001b[0m \u001b[1m16s\u001b[0m 416ms/step - dice_score: 0.9923 - iou_score: 0.9847 - loss: 0.0105 - val_dice_score: 0.7047 - val_iou_score: 0.5457 - val_loss: 0.5611 - learning_rate: 1.9531e-06\n",
      "Epoch 287/300\n",
      "\u001b[1m38/38\u001b[0m \u001b[32m━━━━━━━━━━━━━━━━━━━━\u001b[0m\u001b[37m\u001b[0m \u001b[1m16s\u001b[0m 419ms/step - dice_score: 0.9923 - iou_score: 0.9848 - loss: 0.0105 - val_dice_score: 0.7047 - val_iou_score: 0.5457 - val_loss: 0.5610 - learning_rate: 1.9531e-06\n",
      "Epoch 288/300\n",
      "\u001b[1m38/38\u001b[0m \u001b[32m━━━━━━━━━━━━━━━━━━━━\u001b[0m\u001b[37m\u001b[0m \u001b[1m16s\u001b[0m 418ms/step - dice_score: 0.9923 - iou_score: 0.9848 - loss: 0.0104 - val_dice_score: 0.7046 - val_iou_score: 0.5457 - val_loss: 0.5611 - learning_rate: 1.9531e-06\n",
      "Epoch 289/300\n",
      "\u001b[1m38/38\u001b[0m \u001b[32m━━━━━━━━━━━━━━━━━━━━\u001b[0m\u001b[37m\u001b[0m \u001b[1m16s\u001b[0m 417ms/step - dice_score: 0.9924 - iou_score: 0.9849 - loss: 0.0104 - val_dice_score: 0.7046 - val_iou_score: 0.5456 - val_loss: 0.5612 - learning_rate: 1.9531e-06\n",
      "Epoch 290/300\n",
      "\u001b[1m38/38\u001b[0m \u001b[32m━━━━━━━━━━━━━━━━━━━━\u001b[0m\u001b[37m\u001b[0m \u001b[1m16s\u001b[0m 419ms/step - dice_score: 0.9926 - iou_score: 0.9854 - loss: 0.0101 - val_dice_score: 0.7047 - val_iou_score: 0.5457 - val_loss: 0.5615 - learning_rate: 1.9531e-06\n",
      "Epoch 291/300\n",
      "\u001b[1m38/38\u001b[0m \u001b[32m━━━━━━━━━━━━━━━━━━━━\u001b[0m\u001b[37m\u001b[0m \u001b[1m16s\u001b[0m 424ms/step - dice_score: 0.9926 - iou_score: 0.9853 - loss: 0.0101 - val_dice_score: 0.7047 - val_iou_score: 0.5457 - val_loss: 0.5614 - learning_rate: 1.9531e-06\n",
      "Epoch 292/300\n",
      "\u001b[1m38/38\u001b[0m \u001b[32m━━━━━━━━━━━━━━━━━━━━\u001b[0m\u001b[37m\u001b[0m \u001b[1m16s\u001b[0m 419ms/step - dice_score: 0.9926 - iou_score: 0.9854 - loss: 0.0100 - val_dice_score: 0.7047 - val_iou_score: 0.5457 - val_loss: 0.5613 - learning_rate: 1.9531e-06\n",
      "Epoch 293/300\n",
      "\u001b[1m38/38\u001b[0m \u001b[32m━━━━━━━━━━━━━━━━━━━━\u001b[0m\u001b[37m\u001b[0m \u001b[1m16s\u001b[0m 421ms/step - dice_score: 0.9920 - iou_score: 0.9842 - loss: 0.0109 - val_dice_score: 0.7046 - val_iou_score: 0.5456 - val_loss: 0.5616 - learning_rate: 1.9531e-06\n",
      "Epoch 294/300\n",
      "\u001b[1m38/38\u001b[0m \u001b[32m━━━━━━━━━━━━━━━━━━━━\u001b[0m\u001b[37m\u001b[0m \u001b[1m16s\u001b[0m 422ms/step - dice_score: 0.9924 - iou_score: 0.9849 - loss: 0.0104 - val_dice_score: 0.7046 - val_iou_score: 0.5457 - val_loss: 0.5614 - learning_rate: 1.9531e-06\n",
      "Epoch 295/300\n",
      "\u001b[1m38/38\u001b[0m \u001b[32m━━━━━━━━━━━━━━━━━━━━\u001b[0m\u001b[37m\u001b[0m \u001b[1m16s\u001b[0m 419ms/step - dice_score: 0.9927 - iou_score: 0.9855 - loss: 0.0100 - val_dice_score: 0.7046 - val_iou_score: 0.5456 - val_loss: 0.5618 - learning_rate: 1.9531e-06\n",
      "Epoch 296/300\n",
      "\u001b[1m38/38\u001b[0m \u001b[32m━━━━━━━━━━━━━━━━━━━━\u001b[0m\u001b[37m\u001b[0m \u001b[1m16s\u001b[0m 426ms/step - dice_score: 0.9924 - iou_score: 0.9850 - loss: 0.0103 - val_dice_score: 0.7046 - val_iou_score: 0.5456 - val_loss: 0.5616 - learning_rate: 1.9531e-06\n",
      "Epoch 297/300\n",
      "\u001b[1m38/38\u001b[0m \u001b[32m━━━━━━━━━━━━━━━━━━━━\u001b[0m\u001b[37m\u001b[0m \u001b[1m16s\u001b[0m 423ms/step - dice_score: 0.9918 - iou_score: 0.9838 - loss: 0.0111 - val_dice_score: 0.7046 - val_iou_score: 0.5456 - val_loss: 0.5617 - learning_rate: 1.9531e-06\n",
      "Epoch 298/300\n",
      "\u001b[1m38/38\u001b[0m \u001b[32m━━━━━━━━━━━━━━━━━━━━\u001b[0m\u001b[37m\u001b[0m \u001b[1m16s\u001b[0m 420ms/step - dice_score: 0.9921 - iou_score: 0.9843 - loss: 0.0107 - val_dice_score: 0.7046 - val_iou_score: 0.5456 - val_loss: 0.5617 - learning_rate: 9.7656e-07\n",
      "Epoch 299/300\n",
      "\u001b[1m38/38\u001b[0m \u001b[32m━━━━━━━━━━━━━━━━━━━━\u001b[0m\u001b[37m\u001b[0m \u001b[1m16s\u001b[0m 420ms/step - dice_score: 0.9925 - iou_score: 0.9851 - loss: 0.0104 - val_dice_score: 0.7046 - val_iou_score: 0.5456 - val_loss: 0.5619 - learning_rate: 9.7656e-07\n",
      "Epoch 300/300\n",
      "\u001b[1m38/38\u001b[0m \u001b[32m━━━━━━━━━━━━━━━━━━━━\u001b[0m\u001b[37m\u001b[0m \u001b[1m16s\u001b[0m 420ms/step - dice_score: 0.9928 - iou_score: 0.9857 - loss: 0.0098 - val_dice_score: 0.7046 - val_iou_score: 0.5456 - val_loss: 0.5620 - learning_rate: 9.7656e-07\n"
     ]
    },
    {
     "data": {
      "text/plain": [
       "<keras.src.callbacks.history.History at 0x7f81a07c6ca0>"
      ]
     },
     "execution_count": 22,
     "metadata": {},
     "output_type": "execute_result"
    }
   ],
   "source": [
    "\n",
    "# 模型训练\n",
    "model.fit(\n",
    "       x=T_img,\n",
    "       y=T_mask,\n",
    "       # validation_split=0.2,  # 验证集\n",
    "       batch_size=64,\n",
    "       epochs=300,\n",
    "       validation_data=(V_img, V_mask),\n",
    "       callbacks = callbacks_list\n",
    ")"
   ]
  },
  {
   "cell_type": "code",
   "execution_count": null,
   "id": "6eb02c4e-90ce-4911-afba-8d2cb6982780",
   "metadata": {},
   "outputs": [],
   "source": []
  },
  {
   "cell_type": "code",
   "execution_count": null,
   "id": "38732c75-e9a9-4f06-acc8-09cb2d187c19",
   "metadata": {},
   "outputs": [],
   "source": []
  },
  {
   "cell_type": "code",
   "execution_count": 100,
   "id": "471c9259-f289-4800-b0ca-0443ef922620",
   "metadata": {},
   "outputs": [],
   "source": [
    "# 读取测试集\n",
    "fh5 = h5py.File(r'../data//test/TestDataset/Kvasir/images/test_Kvasir_imgandmasks.h5','r')\n",
    "img_png_c = fh5['img']\n",
    "img_png_c = np.array(img_png_c)\n",
    "mask_c = fh5['masks']\n",
    "mask_c = np.array(mask_c)"
   ]
  },
  {
   "cell_type": "code",
   "execution_count": 101,
   "id": "5fda9305-b14d-430e-b697-0d0a64dc2521",
   "metadata": {},
   "outputs": [
    {
     "data": {
      "text/plain": [
       "1.0"
      ]
     },
     "execution_count": 101,
     "metadata": {},
     "output_type": "execute_result"
    }
   ],
   "source": [
    "img_png_c.max()"
   ]
  },
  {
   "cell_type": "code",
   "execution_count": 102,
   "id": "ac256528-75e0-45fc-961a-9293b8f43e8e",
   "metadata": {},
   "outputs": [
    {
     "data": {
      "text/plain": [
       "1.0"
      ]
     },
     "execution_count": 102,
     "metadata": {},
     "output_type": "execute_result"
    }
   ],
   "source": [
    "mask_c = mask_c/255\n",
    "mask_c[1].max()"
   ]
  },
  {
   "cell_type": "code",
   "execution_count": null,
   "id": "7ac1f268-6a94-48ba-b49f-de40675cf9b3",
   "metadata": {},
   "outputs": [],
   "source": []
  },
  {
   "cell_type": "code",
   "execution_count": 103,
   "id": "6c2de32f-ba16-43de-8c9a-8aefe661ace2",
   "metadata": {},
   "outputs": [],
   "source": [
    "# 读取测试集\n",
    "fh5 = h5py.File(r'../data//test/TestDataset/Kvasir/img Highlights processing FMM/test_Kvasir_imgandmasks_Highlights_percentile=99.5.h5','r')\n",
    "img_png_c1 = fh5['img']\n",
    "img_png_c1 = np.array(img_png_c1)\n",
    "mask_c1 = fh5['masks']\n",
    "mask_c1 = np.array(mask_c1)"
   ]
  },
  {
   "cell_type": "code",
   "execution_count": 104,
   "id": "d5893a41-4c99-4920-920c-37abdf15d04e",
   "metadata": {},
   "outputs": [
    {
     "data": {
      "text/plain": [
       "1.0"
      ]
     },
     "execution_count": 104,
     "metadata": {},
     "output_type": "execute_result"
    }
   ],
   "source": [
    "img_png_c1.max()"
   ]
  },
  {
   "cell_type": "code",
   "execution_count": 105,
   "id": "48cf2b38-c5d5-42c3-8e09-fa9c52ea8f20",
   "metadata": {},
   "outputs": [
    {
     "data": {
      "text/plain": [
       "1.0"
      ]
     },
     "execution_count": 105,
     "metadata": {},
     "output_type": "execute_result"
    }
   ],
   "source": [
    "mask_c1.max()"
   ]
  },
  {
   "cell_type": "code",
   "execution_count": null,
   "id": "97a9e6f8-69b0-4a19-9d56-eb15b8a48918",
   "metadata": {},
   "outputs": [],
   "source": []
  },
  {
   "cell_type": "code",
   "execution_count": 106,
   "id": "b630a35a-72bf-4138-8620-63b010eeb174",
   "metadata": {},
   "outputs": [],
   "source": [
    "model.compile(\n",
    "    optimizer='adam',\n",
    "    loss=bce_jaccard_loss,\n",
    "    metrics=[dice_score, iou_score]\n",
    ")"
   ]
  },
  {
   "cell_type": "code",
   "execution_count": 107,
   "id": "b09c2f1f-38da-4ea8-8fe2-ad387849267a",
   "metadata": {},
   "outputs": [],
   "source": [
    "# # 加载模型\n",
    "model.load_weights(r'../best weight/SegNet/img/img_best_epoch_097_val_iou_0.5601.weights.h5')"
   ]
  },
  {
   "cell_type": "code",
   "execution_count": 108,
   "id": "fbfcd55d-0246-45b1-8f21-a569f9deefbe",
   "metadata": {},
   "outputs": [],
   "source": [
    "# 原图评估模型（返回 loss + metrics）\n",
    "results = model.evaluate(img_png_c, mask_c, verbose=0)"
   ]
  },
  {
   "cell_type": "code",
   "execution_count": 109,
   "id": "4a37026f-969b-4c2f-a7d0-418067793fe7",
   "metadata": {},
   "outputs": [
    {
     "name": "stdout",
     "output_type": "stream",
     "text": [
      "\n",
      "=== 测试结果 ===\n",
      "Loss: 0.3932\n",
      "dice_score: 0.7399\n",
      "iou_score: 0.5884\n"
     ]
    }
   ],
   "source": [
    "# 打印所有指标名称和值\n",
    "print(\"\\n=== 测试结果 ===\")\n",
    "print(f\"Loss: {results[0]:.4f}\")\n",
    "print(f\"dice_score: {results[1]:.4f}\")\n",
    "print(f\"iou_score: {results[2]:.4f}\")"
   ]
  },
  {
   "cell_type": "code",
   "execution_count": 110,
   "id": "7bbc328b-5b0e-444c-953e-1e79f9377c55",
   "metadata": {},
   "outputs": [],
   "source": [
    "# # 加载模型\n",
    "model.load_weights(r'../best weight/SegNet/FMM+percentile=99.5/img_FMM+percentile=99.5_bestweigh_epoch_159_val_iou_0.5825.weights.h5')"
   ]
  },
  {
   "cell_type": "code",
   "execution_count": 111,
   "id": "06965491-cb18-4140-ac8c-b952b35f3fa9",
   "metadata": {},
   "outputs": [],
   "source": [
    "# 原图评估模型（返回 loss + metrics）\n",
    "results1 = model.evaluate(img_png_c1, mask_c1, verbose=0)"
   ]
  },
  {
   "cell_type": "code",
   "execution_count": 112,
   "id": "fd866091-a5e4-4232-9076-5e322543d513",
   "metadata": {},
   "outputs": [
    {
     "name": "stdout",
     "output_type": "stream",
     "text": [
      "\n",
      "=== 测试结果 ===\n",
      "Loss: 0.5973\n",
      "dice_score: 0.7507\n",
      "iou_score: 0.6023\n"
     ]
    }
   ],
   "source": [
    "# 打印所有指标名称和值\n",
    "print(\"\\n=== 测试结果 ===\")\n",
    "print(f\"Loss: {results1[0]:.4f}\")\n",
    "print(f\"dice_score: {results1[1]:.4f}\")\n",
    "print(f\"iou_score: {results1[2]:.4f}\")"
   ]
  },
  {
   "cell_type": "code",
   "execution_count": null,
   "id": "f63afb32-6a88-4fbd-b523-cf77907875d8",
   "metadata": {},
   "outputs": [],
   "source": []
  },
  {
   "cell_type": "code",
   "execution_count": null,
   "id": "fa2d1df8-bb05-4c09-9d15-890af8691a60",
   "metadata": {},
   "outputs": [],
   "source": []
  },
  {
   "cell_type": "code",
   "execution_count": 113,
   "id": "103278c5-d457-4d8e-870e-fdc658a6dce6",
   "metadata": {},
   "outputs": [],
   "source": [
    "# # 加载模型\n",
    "model.load_weights(r'../best weight/SegNet/img/img_best_epoch_097_val_iou_0.5601.weights.h5')"
   ]
  },
  {
   "cell_type": "code",
   "execution_count": 114,
   "id": "9d2e5b0c-86ce-4656-8f0d-07e3ede0c69b",
   "metadata": {},
   "outputs": [
    {
     "name": "stdout",
     "output_type": "stream",
     "text": [
      "\u001b[1m4/4\u001b[0m \u001b[32m━━━━━━━━━━━━━━━━━━━━\u001b[0m\u001b[37m\u001b[0m \u001b[1m2s\u001b[0m 305ms/step\n"
     ]
    }
   ],
   "source": [
    "#测试mask\n",
    "imgp = model.predict(img_png_c, verbose=1)"
   ]
  },
  {
   "cell_type": "code",
   "execution_count": null,
   "id": "2def131b-5e55-4cb4-ab3e-9265a98cc7f9",
   "metadata": {},
   "outputs": [],
   "source": []
  },
  {
   "cell_type": "code",
   "execution_count": 115,
   "id": "bcc15f85-fb3d-465a-ad17-0e31d231db5f",
   "metadata": {},
   "outputs": [],
   "source": [
    "# # 加载模型\n",
    "model.load_weights(r'../best weight/SegNet/FMM+percentile=99.5/img_FMM+percentile=99.5_bestweigh_epoch_159_val_iou_0.5825.weights.h5')"
   ]
  },
  {
   "cell_type": "code",
   "execution_count": 116,
   "id": "f2c99b47-5e4e-46e5-89ab-07203872172a",
   "metadata": {},
   "outputs": [
    {
     "name": "stdout",
     "output_type": "stream",
     "text": [
      "\u001b[1m4/4\u001b[0m \u001b[32m━━━━━━━━━━━━━━━━━━━━\u001b[0m\u001b[37m\u001b[0m \u001b[1m0s\u001b[0m 53ms/step\n"
     ]
    }
   ],
   "source": [
    "#测试mask\n",
    "imgp1 = model.predict(img_png_c1, verbose=1)"
   ]
  },
  {
   "cell_type": "code",
   "execution_count": null,
   "id": "a7f62cc5-bfce-4d67-b7ea-79790fbc84b7",
   "metadata": {},
   "outputs": [],
   "source": []
  },
  {
   "cell_type": "code",
   "execution_count": 118,
   "id": "4170fa31-1401-49ff-8cdb-3d9b1dc6423a",
   "metadata": {},
   "outputs": [
    {
     "name": "stderr",
     "output_type": "stream",
     "text": [
      "保存图片: 100%|██████████████████████████████████████████████████████████████████████████████████████████████| 100/100 [00:00<00:00, 1038.47it/s]"
     ]
    },
    {
     "name": "stdout",
     "output_type": "stream",
     "text": [
      "恭喜，运行完成！已保存 100 张图片\n"
     ]
    },
    {
     "name": "stderr",
     "output_type": "stream",
     "text": [
      "\n"
     ]
    }
   ],
   "source": [
    "import time\n",
    "from tqdm import tqdm\n",
    "import os\n",
    "import cv2\n",
    "\n",
    "file_path = os.path.join(os.getcwd(), r'../best weight/1.img')\n",
    "os.makedirs(file_path, exist_ok=True)  # 确保目录存在\n",
    "\n",
    "# 保存图片\n",
    "for i in tqdm(range(len(imgp)), desc=\"保存图片\"):\n",
    "    # 生成文件名：img_序号.png\n",
    "    filename = f\"Kvasir-img_{i}.png\"\n",
    "    save_path = os.path.join(file_path, filename)\n",
    "    # img1 = img_png_c1[...,::-1]\n",
    "    # 保存图片\n",
    "    cv2.imwrite(save_path, imgp[i]*255)\n",
    "\n",
    "print(\"恭喜，运行完成！已保存 {} 张图片\".format(len(imgp)))"
   ]
  },
  {
   "cell_type": "code",
   "execution_count": 33,
   "id": "3c40e1c9-908c-484c-94ae-1d1071f52e1e",
   "metadata": {},
   "outputs": [
    {
     "data": {
      "image/png": "[encoded data removed]",
      "text/plain": [
       "<Figure size 600x300 with 2 Axes>"
      ]
     },
     "metadata": {},
     "output_type": "display_data"
    }
   ],
   "source": [
    "a = 19\n",
    "# 创建紧凑画布\n",
    "fig = plt.figure(figsize=(6, 3))\n",
    "\n",
    "# 使用GridSpec控制微小边距\n",
    "gs = fig.add_gridspec(2, 1, \n",
    "                     hspace=0.02,  # 行间距\n",
    "                     left=0.01,    # 左边距\n",
    "                     right=0.99,   # 右边距\n",
    "                     top=0.99,     # 上边距\n",
    "                     bottom=0.01)  # 下边距\n",
    "\n",
    "# 添加图像子图\n",
    "ax1 = fig.add_subplot(gs[0])\n",
    "ax1.imshow(imgp[a].reshape(288, 384), 'gray')\n",
    "ax1.axis('off')\n",
    "ax1.margins(0.01)  # 图像周围微小边距\n",
    "\n",
    "ax2 = fig.add_subplot(gs[1])\n",
    "ax2.imshow(imgp1[a].reshape(288, 384), 'gray')\n",
    "ax2.axis('off')\n",
    "ax2.margins(0.01)  # 图像周围微小边距\n",
    "\n",
    "# 显示紧凑布局\n",
    "plt.show()"
   ]
  },
  {
   "cell_type": "code",
   "execution_count": null,
   "id": "7fb66a6b-389f-470e-8e61-a45d55d6108a",
   "metadata": {},
   "outputs": [],
   "source": []
  }
 ],
 "metadata": {
  "kernelspec": {
   "display_name": "Python 3 (ipykernel)",
   "language": "python",
   "name": "python3"
  },
  "language_info": {
   "codemirror_mode": {
    "name": "ipython",
    "version": 3
   },
   "file_extension": ".py",
   "mimetype": "text/x-python",
   "name": "python",
   "nbconvert_exporter": "python",
   "pygments_lexer": "ipython3",
   "version": "3.9.21"
  }
 },
 "nbformat": 4,
 "nbformat_minor": 5
}
