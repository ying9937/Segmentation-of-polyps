{
 "cells": [
  {
   "cell_type": "code",
   "execution_count": 21,
   "id": "2c45892b",
   "metadata": {},
   "outputs": [],
   "source": [
    "import cv2\n",
    "import os\n",
    "import shutil\n",
    "import imghdr\n",
    "import numpy as np\n",
    "import matplotlib.pyplot as plt"
   ]
  },
  {
   "cell_type": "code",
   "execution_count": 22,
   "id": "dd3e864d",
   "metadata": {},
   "outputs": [],
   "source": [
    "# 方案三：统计阈值法\n",
    "# 原理：基于亮度分布的均值和标准差动态计算阈值\n",
    "# sigma控制阈值偏移程度（推荐1.5-3.0）\n",
    "# 自动适应不同亮度分布的图像\n",
    "# 通过clip防止阈值超出合理范围\n",
    "def create_mask(imgpath, sigma=1):\n",
    "    image = cv2.imread(imgpath, cv2.IMREAD_GRAYSCALE)\n",
    "    \"\"\"基于统计分布的动态阈值\"\"\"   \n",
    "    mean = np.mean(image)\n",
    "    std = np.std(image)\n",
    "    threshold = mean + sigma * std\n",
    "    threshold = np.clip(threshold, 210, 255)  # 限制阈值范围\n",
    "    _, mask = cv2.threshold(image, threshold, 255, cv2.THRESH_BINARY)\n",
    "    return mask"
   ]
  },
  {
   "cell_type": "code",
   "execution_count": 23,
   "id": "b57e12a8",
   "metadata": {},
   "outputs": [],
   "source": [
    "def xiufu(imgpath, maskpath):\n",
    "    src = cv2.imread(imgpath)\n",
    "    mask = cv2.imread(maskpath, cv2.IMREAD_GRAYSCALE)\n",
    "    res = cv2.resize(src, None, fx=0.6, fy=0.6, \n",
    "                     interpolation=cv2.INTER_CUBIC)\n",
    "    mask = cv2.resize(mask, None, fx=0.6, fy=0.6, \n",
    "                      interpolation=cv2.INTER_CUBIC)\n",
    "    dst = cv2.inpaint(res, mask, 10, cv2.INPAINT_TELEA)\n",
    "    return dst"
   ]
  },
  {
   "cell_type": "code",
   "execution_count": null,
   "id": "1937f576",
   "metadata": {},
   "outputs": [],
   "source": []
  },
  {
   "cell_type": "code",
   "execution_count": 24,
   "id": "009b2f6a",
   "metadata": {},
   "outputs": [],
   "source": [
    "def process_images(rootpath, masksavepath, savepath):\n",
    "    imgfiles = [f for f in os.listdir(rootpath) if imghdr.what(os.path.join(rootpath, f)) in ['jpeg', 'png', 'gif', 'bmp']]\n",
    "    \n",
    "    for imgfile in imgfiles:\n",
    "        imgpath = os.path.join(rootpath, imgfile)\n",
    "#         print(imgfile)\n",
    "\n",
    "        maskpath = os.path.join(masksavepath, \"mask_\" + imgfile)\n",
    "        cv2.imwrite(maskpath, create_mask(imgpath))\n",
    "\n",
    "        dst = xiufu(imgpath, maskpath)\n",
    "        newname = imgfile.split(\".\")[0]\n",
    "        dstresize = cv2.resize(dst,(384,288))\n",
    "        cv2.imwrite(os.path.join(savepath, newname + \".jpg\"), dstresize)"
   ]
  },
  {
   "cell_type": "code",
   "execution_count": 25,
   "id": "25ce5381",
   "metadata": {},
   "outputs": [
    {
     "name": "stdout",
     "output_type": "stream",
     "text": [
      "处理完成\n"
     ]
    }
   ],
   "source": [
    "\n",
    "if __name__ == \"__main__\":\n",
    "    rootpath = r\"F:\\wujieyu\\img test\\TestDataset\\Kvasir\\images\\img\"\n",
    "    masksavepath=r\"F:\\wujieyu\\img test\\TestDataset\\Kvasir\\img Highlights processing FMM\\Highlights processing statistical\\highlightmask\"\n",
    "    savepath = r\"F:\\wujieyu\\img test\\TestDataset\\Kvasir\\img Highlights processing FMM\\Highlights processing statistical\\result\"\n",
    "\n",
    "    for directory in [rootpath, masksavepath, savepath]:\n",
    "        os.makedirs(directory, exist_ok=True)\n",
    "\n",
    "    process_images(rootpath, masksavepath, savepath)\n",
    "    print(\"处理完成\")"
   ]
  },
  {
   "cell_type": "code",
   "execution_count": null,
   "id": "fd788252",
   "metadata": {},
   "outputs": [],
   "source": []
  }
 ],
 "metadata": {
  "kernelspec": {
   "display_name": "Python 3",
   "language": "python",
   "name": "python3"
  },
  "language_info": {
   "codemirror_mode": {
    "name": "ipython",
    "version": 3
   },
   "file_extension": ".py",
   "mimetype": "text/x-python",
   "name": "python",
   "nbconvert_exporter": "python",
   "pygments_lexer": "ipython3",
   "version": "3.6.13"
  }
 },
 "nbformat": 4,
 "nbformat_minor": 5
}
