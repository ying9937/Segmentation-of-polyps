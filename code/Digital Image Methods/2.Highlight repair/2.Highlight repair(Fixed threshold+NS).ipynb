{
 "cells": [
  {
   "cell_type": "code",
   "execution_count": 1,
   "id": "3726d9e3",
   "metadata": {},
   "outputs": [],
   "source": [
    "import cv2\n",
    "import os\n",
    "import shutil\n",
    "import imghdr"
   ]
  },
  {
   "cell_type": "code",
   "execution_count": 2,
   "id": "5868935d",
   "metadata": {},
   "outputs": [],
   "source": [
    "def create_mask(imgpath):\n",
    "    image = cv2.imread(imgpath, cv2.IMREAD_GRAYSCALE)\n",
    "    _, mask = cv2.threshold(image, 220, 255, cv2.THRESH_BINARY)\n",
    "    return mask\n",
    "\n",
    "def xiufu(imgpath, maskpath):\n",
    "    src = cv2.imread(imgpath)\n",
    "    mask = cv2.imread(maskpath, cv2.IMREAD_GRAYSCALE)\n",
    "    res = cv2.resize(src, None, fx=0.6, fy=0.6, \n",
    "                     interpolation=cv2.INTER_CUBIC)\n",
    "    mask = cv2.resize(mask, None, fx=0.6, fy=0.6, \n",
    "                      interpolation=cv2.INTER_CUBIC)\n",
    "    dst = cv2.inpaint(res, mask, 10, cv2.INPAINT_NS)\n",
    "    return dst"
   ]
  },
  {
   "cell_type": "code",
   "execution_count": 3,
   "id": "3c830fd1",
   "metadata": {},
   "outputs": [],
   "source": [
    "def process_images(rootpath, masksavepath, savepath):\n",
    "    imgfiles = [f for f in os.listdir(rootpath) if imghdr.what(os.path.join(rootpath, f)) in ['jpeg', 'png', 'gif', 'bmp']]\n",
    "    \n",
    "    for imgfile in imgfiles:\n",
    "        imgpath = os.path.join(rootpath, imgfile)\n",
    "#         print(imgfile)\n",
    "\n",
    "        maskpath = os.path.join(masksavepath, \"mask_\" + imgfile)\n",
    "        cv2.imwrite(maskpath, create_mask(imgpath))\n",
    "\n",
    "        dst = xiufu(imgpath, maskpath)\n",
    "        newname = imgfile.split(\".\")[0]\n",
    "        dstresize = cv2.resize(dst,(384,288))\n",
    "        cv2.imwrite(os.path.join(savepath, newname + \".jpg\"), dstresize)\n",
    "\n",
    "#         xml_source_path = os.path.join(rootpath, imgfile.split(\".\")[0] + \".xml\")\n",
    "#         xml_dest_path = os.path.join(savepath, newname + \".xml\")\n",
    "\n",
    "#         if os.path.exists(xml_source_path):\n",
    "#             shutil.copyfile(xml_source_path, xml_dest_path)\n",
    "#         else:\n",
    "#             print(f\"XML file not found: {xml_source_path}\")"
   ]
  },
  {
   "cell_type": "code",
   "execution_count": null,
   "id": "9cee3995",
   "metadata": {},
   "outputs": [],
   "source": []
  },
  {
   "cell_type": "code",
   "execution_count": 8,
   "id": "4fd0ce61",
   "metadata": {},
   "outputs": [
    {
     "name": "stdout",
     "output_type": "stream",
     "text": [
      "处理完成\n"
     ]
    }
   ],
   "source": [
    "from tqdm import trange\n",
    "\n",
    "rootpath = r\"F:\\wujieyu\\img test\\TestDataset\\Kvasir\\images\\img\"\n",
    "masksavepath=r\"F:\\wujieyu\\img test\\TestDataset\\Kvasir\\img Highlights processing NS\\mask\"\n",
    "savepath = r\"F:\\wujieyu\\img test\\TestDataset\\Kvasir\\img Highlights processing NS\\result\"\n",
    "\n",
    "for directory in [rootpath, masksavepath, savepath]:\n",
    "    os.makedirs(directory, exist_ok=True)\n",
    "process_images(rootpath, masksavepath, savepath)\n",
    "print(\"处理完成\")"
   ]
  },
  {
   "cell_type": "code",
   "execution_count": null,
   "id": "36596aae",
   "metadata": {},
   "outputs": [],
   "source": []
  }
 ],
 "metadata": {
  "kernelspec": {
   "display_name": "Python 3",
   "language": "python",
   "name": "python3"
  },
  "language_info": {
   "codemirror_mode": {
    "name": "ipython",
    "version": 3
   },
   "file_extension": ".py",
   "mimetype": "text/x-python",
   "name": "python",
   "nbconvert_exporter": "python",
   "pygments_lexer": "ipython3",
   "version": "3.6.13"
  }
 },
 "nbformat": 4,
 "nbformat_minor": 5
}
