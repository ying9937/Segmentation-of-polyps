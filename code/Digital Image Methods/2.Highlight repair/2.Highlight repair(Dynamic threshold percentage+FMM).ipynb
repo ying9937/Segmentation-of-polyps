{
 "cells": [
  {
   "cell_type": "code",
   "execution_count": 1,
   "id": "1c807781",
   "metadata": {},
   "outputs": [],
   "source": [
    "import cv2\n",
    "import os\n",
    "import shutil\n",
    "import imghdr\n",
    "import numpy as np\n",
    "import matplotlib.pyplot as plt"
   ]
  },
  {
   "cell_type": "code",
   "execution_count": 2,
   "id": "ec097517",
   "metadata": {},
   "outputs": [],
   "source": [
    "# 方案一：百分比阈值法\n",
    "# 原理：取图像中最亮的前N%像素作为高光区域\n",
    "# percentile=95 表示取最亮的前5%像素作为高光\n",
    "# 适用于大多数常规场景\n",
    "# 可通过调整percentile参数控制敏感度\n",
    "def create_mask(imgpath, percentile=99.5):\n",
    "    image = cv2.imread(imgpath, cv2.IMREAD_GRAYSCALE)\n",
    "    \"\"\"通过亮度百分比确定阈值\"\"\"\n",
    "    # 计算指定百分位的像素值\n",
    "    threshold = np.percentile(image, percentile)\n",
    "    _, mask = cv2.threshold(image, threshold, 255, cv2.THRESH_BINARY)\n",
    "    return mask"
   ]
  },
  {
   "cell_type": "code",
   "execution_count": 3,
   "id": "3266f3ef",
   "metadata": {},
   "outputs": [],
   "source": [
    "def xiufu(imgpath, maskpath):\n",
    "    src = cv2.imread(imgpath)\n",
    "    mask = cv2.imread(maskpath, cv2.IMREAD_GRAYSCALE)\n",
    "    res = cv2.resize(src, None, fx=0.6, fy=0.6, \n",
    "                     interpolation=cv2.INTER_CUBIC)\n",
    "    mask = cv2.resize(mask, None, fx=0.6, fy=0.6, \n",
    "                      interpolation=cv2.INTER_CUBIC)\n",
    "    dst = cv2.inpaint(res, mask, 10, cv2.INPAINT_TELEA)\n",
    "    return dst"
   ]
  },
  {
   "cell_type": "code",
   "execution_count": null,
   "id": "7bfdcf60",
   "metadata": {},
   "outputs": [],
   "source": []
  },
  {
   "cell_type": "code",
   "execution_count": 4,
   "id": "8478c379",
   "metadata": {},
   "outputs": [],
   "source": [
    "def process_images(rootpath, masksavepath, savepath):\n",
    "    imgfiles = [f for f in os.listdir(rootpath) if imghdr.what(os.path.join(rootpath, f)) in ['jpeg', 'png', 'gif', 'bmp']]\n",
    "    \n",
    "    for imgfile in imgfiles:\n",
    "        imgpath = os.path.join(rootpath, imgfile)\n",
    "#         print(imgfile)\n",
    "\n",
    "        maskpath = os.path.join(masksavepath, \"mask_\" + imgfile)\n",
    "        cv2.imwrite(maskpath, create_mask(imgpath))\n",
    "\n",
    "        dst = xiufu(imgpath, maskpath)\n",
    "        newname = imgfile.split(\".\")[0]\n",
    "        dstresize = cv2.resize(dst,(384,288))\n",
    "        cv2.imwrite(os.path.join(savepath, newname + \".jpg\"), dstresize)"
   ]
  },
  {
   "cell_type": "code",
   "execution_count": 10,
   "id": "e321df54",
   "metadata": {},
   "outputs": [
    {
     "name": "stdout",
     "output_type": "stream",
     "text": [
      "处理完成\n"
     ]
    }
   ],
   "source": [
    "\n",
    "if __name__ == \"__main__\":\n",
    "    rootpath = r\"F:\\wujieyu\\img test\\TestDataset\\Kvasir\\images\\img\"\n",
    "    masksavepath=r\"F:\\wujieyu\\img test\\TestDataset\\Kvasir\\img Highlights processing\\Highlights processing percentile=99.5\\highlightmask\"\n",
    "    savepath = r\"F:\\wujieyu\\img test\\TestDataset\\Kvasir\\img Highlights processing\\Highlights processing percentile=99.5\\result\"\n",
    "\n",
    "    for directory in [rootpath, masksavepath, savepath]:\n",
    "        os.makedirs(directory, exist_ok=True)\n",
    "\n",
    "    process_images(rootpath, masksavepath, savepath)\n",
    "    print(\"处理完成\")"
   ]
  },
  {
   "cell_type": "code",
   "execution_count": null,
   "id": "08e100bb",
   "metadata": {},
   "outputs": [],
   "source": []
  }
 ],
 "metadata": {
  "kernelspec": {
   "display_name": "Python 3",
   "language": "python",
   "name": "python3"
  },
  "language_info": {
   "codemirror_mode": {
    "name": "ipython",
    "version": 3
   },
   "file_extension": ".py",
   "mimetype": "text/x-python",
   "name": "python",
   "nbconvert_exporter": "python",
   "pygments_lexer": "ipython3",
   "version": "3.6.13"
  }
 },
 "nbformat": 4,
 "nbformat_minor": 5
}
